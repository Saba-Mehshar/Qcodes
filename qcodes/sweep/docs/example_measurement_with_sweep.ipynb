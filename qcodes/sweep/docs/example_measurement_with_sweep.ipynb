{
 "cells": [
  {
   "cell_type": "code",
   "execution_count": 1,
   "metadata": {},
   "outputs": [],
   "source": [
    "import sys \n",
    "sys.path.append(r\"C:\\Users\\a-sochat\\development\\Qcodes_Sohail_Clone\\Qcodes\")\n",
    "\n",
    "import numpy as np\n",
    "\n",
    "import qcodes as qc\n",
    "from qcodes.instrument.parameter import ManualParameter\n",
    "from qcodes.sweep import sweep, nest, chain, SweepMeasurement\n",
    "from qcodes import ParamSpec, new_data_set, new_experiment, Station\n",
    "\n",
    "from qcodes.dataset.plotting import plot_by_id"
   ]
  },
  {
   "cell_type": "code",
   "execution_count": 2,
   "metadata": {},
   "outputs": [],
   "source": [
    "x = ManualParameter(\"x\")\n",
    "m = ManualParameter(\"m\")\n",
    "m.get = lambda: \"{:.3}\".format(np.random.uniform(0, 1))\n",
    "\n",
    "sweep_object = nest(sweep(x, [0, 1, 2, 3, 4, 5, 6]), m)"
   ]
  },
  {
   "cell_type": "code",
   "execution_count": 3,
   "metadata": {},
   "outputs": [],
   "source": [
    "experiment = new_experiment(\"sweep_measure\", sample_name=\"none\")\n",
    "station = Station()\n",
    "meas = SweepMeasurement(exp=experiment, station=station)"
   ]
  },
  {
   "cell_type": "code",
   "execution_count": 4,
   "metadata": {},
   "outputs": [
    {
     "name": "stdout",
     "output_type": "stream",
     "text": [
      "Starting experimental run with id: 18\n"
     ]
    }
   ],
   "source": [
    "with meas.run() as datasaver: \n",
    "    for data in sweep_object: \n",
    "        datasaver.addResult(data)\n",
    "    \n",
    "    dataid = datasaver.id  # convenient to have for plotting"
   ]
  },
  {
   "cell_type": "code",
   "execution_count": 5,
   "metadata": {},
   "outputs": [
    {
     "data": {
      "image/png": "[encoded data removed]",
      "text/plain": [
       "<matplotlib.figure.Figure at 0x27bc96aa8d0>"
      ]
     },
     "metadata": {},
     "output_type": "display_data"
    }
   ],
   "source": [
    "fig = plot_by_id(dataid)"
   ]
  },
  {
   "cell_type": "code",
   "execution_count": 6,
   "metadata": {},
   "outputs": [],
   "source": [
    "class Resonator(qc.Instrument):\n",
    "    def __init__(self, name, resonance_frequencies): \n",
    "        super().__init__(name)\n",
    "        self._resonance_frequencies = resonance_frequencies\n",
    "    \n",
    "        self._frequency = 0  # [Hz]\n",
    "        self._peak_width = 100  # [Hz]\n",
    "    \n",
    "        self.add_parameter(\n",
    "            name=\"frequency\", \n",
    "            set_cmd=self._set_frequency,\n",
    "            unit=\"Hz\"\n",
    "        )\n",
    "        \n",
    "    def _set_frequency(self, freq): \n",
    "        self._frequency = freq\n",
    "        \n",
    "    def get_amplitude(self):\n",
    "        r = 0\n",
    "        for resonance_frequency in self._resonance_frequencies:\n",
    "            rsqr = (self._frequency - resonance_frequency)**2 / self._peak_width **2\n",
    "            r += np.exp(-rsqr)\n",
    "        return r"
   ]
  },
  {
   "cell_type": "code",
   "execution_count": 7,
   "metadata": {},
   "outputs": [],
   "source": [
    "r = Resonator(\"resonator\", [300, 1000, 1200])"
   ]
  },
  {
   "cell_type": "code",
   "execution_count": 8,
   "metadata": {},
   "outputs": [],
   "source": [
    "station = qc.Station(r)"
   ]
  },
  {
   "cell_type": "code",
   "execution_count": 9,
   "metadata": {},
   "outputs": [],
   "source": [
    "def adaptive_sampler(last_measurement, start, end, step):\n",
    "    \n",
    "    def inner(): \n",
    "        \n",
    "        rng = np.linspace(start, end, step)\n",
    "        segments = list(zip(rng[:-1], rng[1:]))        \n",
    "        measure_buffer = {}\n",
    "        \n",
    "        while len(segments): \n",
    "\n",
    "            b, e = segments.pop(0)\n",
    "            \n",
    "            if b not in measure_buffer.keys():\n",
    "                yield b\n",
    "                fb = last_measurement()\n",
    "                measure_buffer[b] = fb\n",
    "            else:\n",
    "                fb = measure_buffer[b]\n",
    "                \n",
    "            if e not in measure_buffer.keys():\n",
    "                yield e\n",
    "                fe = last_measurement()\n",
    "                measure_buffer[e] = fe\n",
    "            else:\n",
    "                fe = measure_buffer[e]\n",
    "            \n",
    "            m = (b + e) / 2\n",
    "            if m not in measure_buffer.keys():\n",
    "                yield m \n",
    "                fm = last_measurement()\n",
    "                measure_buffer[m] = fm\n",
    "            else:\n",
    "                fm = measure_buffer[m]\n",
    "            \n",
    "            linearity_error = abs(fm - (fb + fe) / 2)\n",
    "    \n",
    "            if linearity_error > 0.005:\n",
    "                tmp = [(b, m), (m, e)]\n",
    "                tmp.extend(segments)\n",
    "                segments = tmp\n",
    "    \n",
    "    return inner"
   ]
  },
  {
   "cell_type": "code",
   "execution_count": 10,
   "metadata": {},
   "outputs": [],
   "source": [
    "class MeasurementFunction: \n",
    "    def __init__(self, station): \n",
    "        self._station = station\n",
    "        self._last_measurement_value = None\n",
    "    def __call__(self): \n",
    "        measurement = self._station.resonator.get_amplitude()\n",
    "        self._last_measurement_value = measurement\n",
    "        return {\"amplitude\": {\"unit\": \"V\", \"value\": measurement, \"independent_parameter\": False}}\n",
    "    def last_measurement(self): \n",
    "        return self._last_measurement_value"
   ]
  },
  {
   "cell_type": "code",
   "execution_count": 11,
   "metadata": {},
   "outputs": [],
   "source": [
    "measure_function = MeasurementFunction(station)\n",
    "\n",
    "sweep_object = nest(\n",
    "    sweep(r.frequency, adaptive_sampler(measure_function.last_measurement, -1000, 4000, 6)),\n",
    "    measure_function\n",
    ")"
   ]
  },
  {
   "cell_type": "code",
   "execution_count": 12,
   "metadata": {},
   "outputs": [],
   "source": [
    "adaptive_experiment = new_experiment(\"adaptive_experiment\", sample_name=\"none\")\n",
    "meas = SweepMeasurement(exp=adaptive_experiment, station=station)"
   ]
  },
  {
   "cell_type": "code",
   "execution_count": 13,
   "metadata": {},
   "outputs": [
    {
     "name": "stdout",
     "output_type": "stream",
     "text": [
      "Starting experimental run with id: 19\n"
     ]
    }
   ],
   "source": [
    "with meas.run() as datasaver: \n",
    "    for data in sweep_object: \n",
    "        datasaver.addResult(data)\n",
    "    \n",
    "    dataid = datasaver.id  # convenient to have for plotting"
   ]
  },
  {
   "cell_type": "code",
   "execution_count": null,
   "metadata": {},
   "outputs": [],
   "source": [
    "fig = plot_by_id(dataid, marker=\".\")"
   ]
  },
  {
   "cell_type": "code",
   "execution_count": null,
   "metadata": {},
   "outputs": [],
   "source": []
  }
 ],
 "metadata": {
  "kernelspec": {
   "display_name": "Python 3",
   "language": "python",
   "name": "python3"
  },
  "language_info": {
   "codemirror_mode": {
    "name": "ipython",
    "version": 3
   },
   "file_extension": ".py",
   "mimetype": "text/x-python",
   "name": "python",
   "nbconvert_exporter": "python",
   "pygments_lexer": "ipython3",
   "version": "3.6.3"
  }
 },
 "nbformat": 4,
 "nbformat_minor": 2
}
