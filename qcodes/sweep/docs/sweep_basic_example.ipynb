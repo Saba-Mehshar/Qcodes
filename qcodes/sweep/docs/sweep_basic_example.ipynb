{
 "cells": [
  {
   "cell_type": "code",
   "execution_count": 1,
   "metadata": {},
   "outputs": [],
   "source": [
    "import sys \n",
    "sys.path.append(r\"C:\\Users\\a-sochat\\development\\Qcodes_Sohail_Clone\\Qcodes\")\n",
    "\n",
    "import numpy as np\n",
    "\n",
    "import qcodes as qc\n",
    "from qcodes.instrument.parameter import ManualParameter\n",
    "from qcodes.sweep.sweep import Nest, Zip, Chain, ParameterSweep, ParameterWrapper, FunctionSweep, FunctionWrapper"
   ]
  },
  {
   "cell_type": "markdown",
   "metadata": {},
   "source": [
    "# We will first make a print function which conviniently prints the output of our sweep objects. "
   ]
  },
  {
   "cell_type": "code",
   "execution_count": 2,
   "metadata": {},
   "outputs": [],
   "source": [
    "def pretty_print(dictionary): \n",
    "    \n",
    "    s = \"\"\n",
    "    independents = \"\"\n",
    "    seperator = \"\"\n",
    "    \n",
    "    names = list(dictionary.keys())[::-1]\n",
    "    \n",
    "    for name in names: \n",
    "        value = str(dictionary[name][\"value\"])\n",
    "        \n",
    "        if dictionary[name][\"independent_parameter\"]: \n",
    "            s += seperator + name + value\n",
    "            independents = s\n",
    "        else: \n",
    "            s += seperator + name + \"({}) = {}\".format(independents, value) \n",
    "        \n",
    "        seperator = \", \"\n",
    "    \n",
    "    print(s)"
   ]
  },
  {
   "cell_type": "code",
   "execution_count": 3,
   "metadata": {},
   "outputs": [
    {
     "name": "stdout",
     "output_type": "stream",
     "text": [
      "x3.4\n"
     ]
    }
   ],
   "source": [
    "# At each iteration a sweep object will return a dictionary in the form...\n",
    "\n",
    "d = {\"x\": {\"unit\": \"\", \"value\": 3.4, \"independent_parameter\": True}}\n",
    "pretty_print(d)"
   ]
  },
  {
   "cell_type": "markdown",
   "metadata": {},
   "source": [
    "independent parameters will be printed as \"name value\""
   ]
  },
  {
   "cell_type": "code",
   "execution_count": 4,
   "metadata": {},
   "outputs": [
    {
     "name": "stdout",
     "output_type": "stream",
     "text": [
      "x() = 3.4\n"
     ]
    }
   ],
   "source": [
    "d = {\"x\": {\"unit\": \"\", \"value\": 3.4, \"independent_parameter\": False}}\n",
    "pretty_print(d)"
   ]
  },
  {
   "cell_type": "markdown",
   "metadata": {},
   "source": [
    "dependent parameters will be printed as name() = value."
   ]
  },
  {
   "cell_type": "code",
   "execution_count": 5,
   "metadata": {},
   "outputs": [
    {
     "name": "stdout",
     "output_type": "stream",
     "text": [
      "x3.4, y(x3.4) = 1.2\n"
     ]
    }
   ],
   "source": [
    "d = {\n",
    "    \"y\": {\"unit\": \"\", \"value\": 1.2, \"independent_parameter\": False}, \n",
    "    \"x\": {\"unit\": \"\", \"value\": 3.4, \"independent_parameter\": True}\n",
    "}\n",
    "pretty_print(d)"
   ]
  },
  {
   "cell_type": "markdown",
   "metadata": {},
   "source": [
    "The independent parameter x has value 3.4. The dependent parameter y is evaluated for x = 3.4 and has value 1.2"
   ]
  },
  {
   "cell_type": "code",
   "execution_count": 6,
   "metadata": {},
   "outputs": [
    {
     "name": "stdout",
     "output_type": "stream",
     "text": [
      "x3.4, y1.2\n"
     ]
    }
   ],
   "source": [
    "d = {\n",
    "    \"y\": {\"unit\": \"\", \"value\": 1.2, \"independent_parameter\": True}, \n",
    "    \"x\": {\"unit\": \"\", \"value\": 3.4, \"independent_parameter\": True}\n",
    "}\n",
    "pretty_print(d)"
   ]
  },
  {
   "cell_type": "markdown",
   "metadata": {},
   "source": [
    "# Lets introduce a basic sweep object "
   ]
  },
  {
   "cell_type": "code",
   "execution_count": 7,
   "metadata": {},
   "outputs": [],
   "source": [
    "x = ManualParameter(\"x\")"
   ]
  },
  {
   "cell_type": "code",
   "execution_count": 8,
   "metadata": {},
   "outputs": [
    {
     "name": "stdout",
     "output_type": "stream",
     "text": [
      "{'x': {'unit': '', 'value': 0, 'independent_parameter': True}}\n",
      "{'x': {'unit': '', 'value': 1, 'independent_parameter': True}}\n"
     ]
    }
   ],
   "source": [
    "for i in ParameterSweep(x, lambda: [0, 1]): \n",
    "    print(i)"
   ]
  },
  {
   "cell_type": "markdown",
   "metadata": {},
   "source": [
    "Lets use pretty print to make the results more readable "
   ]
  },
  {
   "cell_type": "code",
   "execution_count": 9,
   "metadata": {},
   "outputs": [
    {
     "name": "stdout",
     "output_type": "stream",
     "text": [
      "x0\n",
      "x1\n"
     ]
    }
   ],
   "source": [
    "for i in ParameterSweep(x, lambda: [0, 1]): \n",
    "    pretty_print(i)"
   ]
  },
  {
   "cell_type": "markdown",
   "metadata": {},
   "source": [
    "We have generated a small 1D coordinate layout with size 2 "
   ]
  },
  {
   "cell_type": "markdown",
   "metadata": {},
   "source": [
    "# How do we make a 2D sweep? "
   ]
  },
  {
   "cell_type": "code",
   "execution_count": 10,
   "metadata": {},
   "outputs": [],
   "source": [
    "y = ManualParameter(\"y\")"
   ]
  },
  {
   "cell_type": "code",
   "execution_count": 11,
   "metadata": {},
   "outputs": [],
   "source": [
    "sox = ParameterSweep(x, lambda: [0, 1])\n",
    "soy = ParameterSweep(y, lambda: [0, 1])"
   ]
  },
  {
   "cell_type": "code",
   "execution_count": 12,
   "metadata": {},
   "outputs": [
    {
     "name": "stdout",
     "output_type": "stream",
     "text": [
      "y0, x0\n",
      "y0, x1\n",
      "y1, x0\n",
      "y1, x1\n"
     ]
    }
   ],
   "source": [
    "for i in Nest([soy, sox]):  # X is the inner axis : \n",
    "    pretty_print(i)"
   ]
  },
  {
   "cell_type": "markdown",
   "metadata": {},
   "source": [
    "This represents a 2D layout of 2x2 "
   ]
  },
  {
   "cell_type": "markdown",
   "metadata": {},
   "source": [
    "# We can extend this to ND"
   ]
  },
  {
   "cell_type": "code",
   "execution_count": 13,
   "metadata": {},
   "outputs": [],
   "source": [
    "z = ManualParameter(\"z\")"
   ]
  },
  {
   "cell_type": "code",
   "execution_count": 14,
   "metadata": {},
   "outputs": [],
   "source": [
    "sox = ParameterSweep(x, lambda: [0, 1])\n",
    "soy = ParameterSweep(y, lambda: [0, 1])\n",
    "soz = ParameterSweep(z, lambda: [0, 1])"
   ]
  },
  {
   "cell_type": "code",
   "execution_count": 15,
   "metadata": {},
   "outputs": [
    {
     "name": "stdout",
     "output_type": "stream",
     "text": [
      "z0, y0, x0\n",
      "z0, y0, x1\n",
      "z0, y1, x0\n",
      "z0, y1, x1\n",
      "z1, y0, x0\n",
      "z1, y0, x1\n",
      "z1, y1, x0\n",
      "z1, y1, x1\n"
     ]
    }
   ],
   "source": [
    "for i in Nest([soz, soy, sox]): \n",
    "    pretty_print(i)"
   ]
  },
  {
   "cell_type": "markdown",
   "metadata": {},
   "source": [
    "We have created a 2x2x2 layout "
   ]
  },
  {
   "cell_type": "markdown",
   "metadata": {},
   "source": [
    "# This is how we can perform a measurement  "
   ]
  },
  {
   "cell_type": "code",
   "execution_count": 16,
   "metadata": {},
   "outputs": [],
   "source": [
    "m = ManualParameter(\"m\")\n",
    "m.get = lambda: \"{:.3}\".format(np.random.uniform(0, 1))"
   ]
  },
  {
   "cell_type": "code",
   "execution_count": 17,
   "metadata": {},
   "outputs": [
    {
     "name": "stdout",
     "output_type": "stream",
     "text": [
      "m() = 0.666\n"
     ]
    }
   ],
   "source": [
    "for i in ParameterWrapper(m): \n",
    "    pretty_print(i)"
   ]
  },
  {
   "cell_type": "markdown",
   "metadata": {},
   "source": [
    "Wrapping a parameter in the \"ParameterWrapper\" class makes a sweep object which iterates once and returns the \"get\" value of the parameter. We can use this to create looped measurements. "
   ]
  },
  {
   "cell_type": "code",
   "execution_count": 18,
   "metadata": {},
   "outputs": [],
   "source": [
    "sox = ParameterSweep(x, lambda: [0, 1])\n",
    "soy = ParameterSweep(y, lambda: [0, 1])\n",
    "measurement = ParameterWrapper(m)"
   ]
  },
  {
   "cell_type": "code",
   "execution_count": 19,
   "metadata": {},
   "outputs": [
    {
     "name": "stdout",
     "output_type": "stream",
     "text": [
      "y0, x0, m(y0, x0) = 0.887\n",
      "y0, x1, m(y0, x1) = 0.912\n",
      "y1, x0, m(y1, x0) = 0.104\n",
      "y1, x1, m(y1, x1) = 0.943\n"
     ]
    }
   ],
   "source": [
    "for i in  Nest([soy, sox, measurement]): # Perform a measurement at every (x, y): \n",
    "    pretty_print(i)"
   ]
  },
  {
   "cell_type": "markdown",
   "metadata": {},
   "source": [
    "The meaning of \"m(x0, y0)\": We measure \"m\" at (x0, y0). We have thus a 2x2 coordinate layout and the thrid dimension represents a measurement "
   ]
  },
  {
   "cell_type": "markdown",
   "metadata": {},
   "source": [
    "# What happens if we nest a sweep in a measurement?"
   ]
  },
  {
   "cell_type": "code",
   "execution_count": 20,
   "metadata": {},
   "outputs": [
    {
     "name": "stdout",
     "output_type": "stream",
     "text": [
      "m() = 0.75, x0\n",
      "m() = 0.75, x1\n"
     ]
    }
   ],
   "source": [
    "for i in Nest([measurement, sox]): # Notice how \"sox\" is the inner axis\n",
    "    pretty_print(i)"
   ]
  },
  {
   "cell_type": "markdown",
   "metadata": {},
   "source": [
    "Here \"m()\" represents the same measurement. We thus only call \"m\" once but the result will be echoed in all subsequent lines in the measurement table."
   ]
  },
  {
   "cell_type": "markdown",
   "metadata": {},
   "source": [
    "# Introducing chaining"
   ]
  },
  {
   "cell_type": "code",
   "execution_count": 21,
   "metadata": {},
   "outputs": [],
   "source": [
    "m = ManualParameter(\"m\")\n",
    "m.get = lambda: \"{:.2}\".format(np.random.uniform(0, 1))\n",
    "mm = ParameterWrapper(m)\n",
    "\n",
    "n = ManualParameter(\"n\")\n",
    "n.get = lambda: \"{:.2}\".format(np.random.uniform(0, 1))\n",
    "nn = ParameterWrapper(n)"
   ]
  },
  {
   "cell_type": "code",
   "execution_count": 22,
   "metadata": {},
   "outputs": [],
   "source": [
    "sox = ParameterSweep(x, lambda: [0, 1]) "
   ]
  },
  {
   "cell_type": "code",
   "execution_count": 23,
   "metadata": {},
   "outputs": [
    {
     "name": "stdout",
     "output_type": "stream",
     "text": [
      "m() = 0.25\n",
      "x0, n(x0) = 0.89\n",
      "x1, n(x1) = 0.41\n"
     ]
    }
   ],
   "source": [
    "# Perform measurement1 and then iterate over the sweep\n",
    "# This is approx. equivalent to m + (x * n) \n",
    "for i in Chain([mm, Nest([sox, nn])]): \n",
    "    pretty_print(i)"
   ]
  },
  {
   "cell_type": "markdown",
   "metadata": {},
   "source": [
    "\"m()\" means that we measure m at undefined x or y. We can use the chaining mechanism to perform multiple loop simulataniously"
   ]
  },
  {
   "cell_type": "code",
   "execution_count": 24,
   "metadata": {},
   "outputs": [],
   "source": [
    "sox = ParameterSweep(x, lambda: [0, 1])\n",
    "soy = ParameterSweep(y, lambda: [0, 1])"
   ]
  },
  {
   "cell_type": "code",
   "execution_count": 25,
   "metadata": {},
   "outputs": [
    {
     "name": "stdout",
     "output_type": "stream",
     "text": [
      "y0, m(y0) = 0.56\n",
      "y0, x0, n(y0, x0) = 0.039\n",
      "y0, x1, n(y0, x1) = 0.79\n",
      "y1, m(y1) = 0.53\n",
      "y1, x0, n(y1, x0) = 0.58\n",
      "y1, x1, n(y1, x1) = 0.13\n"
     ]
    }
   ],
   "source": [
    "for i in Nest([soy, Chain([mm, Nest([sox, nn])])]):  # = y * (m + x * n) = ym + yxn: \n",
    "    pretty_print(i)"
   ]
  },
  {
   "cell_type": "markdown",
   "metadata": {},
   "source": [
    "We have woven together a 1D and 2D loop. Notice that we immediately see that \"m\" only depends on y and \"n\" depends on x and y. There is no need to explicitly state this. With will become important when we discuss data sets"
   ]
  },
  {
   "cell_type": "markdown",
   "metadata": {},
   "source": [
    "# We will introduce a couple of conviniece functions so we do not have to be as verbose"
   ]
  },
  {
   "cell_type": "code",
   "execution_count": 26,
   "metadata": {},
   "outputs": [],
   "source": [
    "from qcodes.sweep import sweep, nest, chain"
   ]
  },
  {
   "cell_type": "code",
   "execution_count": 27,
   "metadata": {},
   "outputs": [],
   "source": [
    "sox = sweep(x, [0, 1])  # Notice we do not have to use lambda functions in the sweep\n",
    "soy = sweep(y, [0, 1])\n",
    "\n",
    "m = ManualParameter(\"m\")\n",
    "m.get = lambda: \"{:.2}\".format(np.random.uniform(0, 1))\n",
    "\n",
    "n = ManualParameter(\"n\")\n",
    "n.get = lambda: \"{:.2}\".format(np.random.uniform(0, 1))"
   ]
  },
  {
   "cell_type": "code",
   "execution_count": 28,
   "metadata": {},
   "outputs": [
    {
     "name": "stdout",
     "output_type": "stream",
     "text": [
      "y0, m(y0) = 0.73\n",
      "y0, x0, n(y0, x0) = 0.47\n",
      "y0, x1, n(y0, x1) = 0.27\n",
      "y1, m(y1) = 0.011\n",
      "y1, x0, n(y1, x0) = 0.36\n",
      "y1, x1, n(y1, x1) = 0.93\n"
     ]
    }
   ],
   "source": [
    "for i in nest(soy, chain(m, nest(sox, n))):   # We do not have to wrap parameters\n",
    "    pretty_print(i)"
   ]
  },
  {
   "cell_type": "markdown",
   "metadata": {},
   "source": [
    "# We can use arbitrary functions instead of parameters as measurements"
   ]
  },
  {
   "cell_type": "code",
   "execution_count": 41,
   "metadata": {},
   "outputs": [],
   "source": [
    "def measurement_function(): \n",
    "    value = np.random.normal(0, 1, (3,))\n",
    "    return {\"measurement\": {\"unit\": \"H\", \"value\": value, \"independent_parameter\": False}}"
   ]
  },
  {
   "cell_type": "code",
   "execution_count": 42,
   "metadata": {},
   "outputs": [
    {
     "name": "stdout",
     "output_type": "stream",
     "text": [
      "x0, measurement(x0) = [ 0.55507601 -0.10745279  1.46508295]\n",
      "x1, measurement(x1) = [ 0.12989571  0.30350761  0.36686223]\n",
      "x2, measurement(x2) = [-0.10581962  0.39113143  1.33945185]\n",
      "x3, measurement(x3) = [-0.33793317  0.77996067  0.1327499 ]\n"
     ]
    }
   ],
   "source": [
    "for i in nest(sweep(x, [0, 1, 2, 3]), measurement_function): \n",
    "    pretty_print(i)"
   ]
  },
  {
   "cell_type": "markdown",
   "metadata": {},
   "source": [
    "# We can also use functions as loop parameters"
   ]
  },
  {
   "cell_type": "code",
   "execution_count": 51,
   "metadata": {},
   "outputs": [],
   "source": [
    "def setter(value): \n",
    "    # ... some code to set the independent variable\n",
    "    return {\"dac_channel\": {\"unit\": \"H\", \"value\": value, \"independent_parameter\": True}}"
   ]
  },
  {
   "cell_type": "code",
   "execution_count": 52,
   "metadata": {},
   "outputs": [
    {
     "name": "stdout",
     "output_type": "stream",
     "text": [
      "dac_channel0, measurement(dac_channel0) = [-0.59398484  2.02110166 -1.11809521]\n",
      "dac_channel1, measurement(dac_channel1) = [ 0.7642435  -0.20177533 -0.31730194]\n",
      "dac_channel2, measurement(dac_channel2) = [-0.90800159  1.46225142 -0.81558136]\n",
      "dac_channel3, measurement(dac_channel3) = [ 0.02866496 -0.66246136  0.30246045]\n"
     ]
    }
   ],
   "source": [
    "for i in nest(sweep(setter, [0, 1, 2, 3]), measurement_function): \n",
    "    pretty_print(i)"
   ]
  },
  {
   "cell_type": "markdown",
   "metadata": {},
   "source": [
    "# Finally, the sweep values need not be a list or an numpy array, but also a generating function"
   ]
  },
  {
   "cell_type": "code",
   "execution_count": 82,
   "metadata": {},
   "outputs": [
    {
     "name": "stdout",
     "output_type": "stream",
     "text": [
      "dac_channel0.0, measurement(dac_channel0.0) = [ 1.32547921 -0.21213639  0.19645486]\n",
      "dac_channel1.31, measurement(dac_channel1.31) = [-0.95784328 -0.30450607 -0.76690471]\n",
      "dac_channel-2.03, measurement(dac_channel-2.03) = [-0.36953014  0.57696136 -2.53465172]\n",
      "dac_channel-2.33, measurement(dac_channel-2.33) = [-1.13104468  0.55393251  0.63410781]\n",
      "dac_channel0.057, measurement(dac_channel0.057) = [-1.37735186  0.78612939  0.06011491]\n",
      "dac_channel-0.531, measurement(dac_channel-0.531) = [ 1.06752019 -0.46777733  0.45741794]\n",
      "dac_channel1.06, measurement(dac_channel1.06) = [ -2.15684711e+00  -1.35221664e+00  -8.88756194e-04]\n",
      "dac_channel-3.51, measurement(dac_channel-3.51) = [-1.07443465  0.22059757 -0.73652388]\n",
      "dac_channel-1.59, measurement(dac_channel-1.59) = [ 2.5331431   1.25150278  1.6811127 ]\n"
     ]
    }
   ],
   "source": [
    "class Measurement:\n",
    "    def __init__(self): \n",
    "        self._value = self._roll_dice()\n",
    "    def __call__(self): \n",
    "        self._value = self._roll_dice()\n",
    "        return {\"measurement\": {\"unit\": \"H\", \"value\": self._value, \"independent_parameter\": False}}\n",
    "    def _roll_dice(self): \n",
    "        return np.random.normal(0, 1, (3,))\n",
    "    def value(self): \n",
    "        return self._value\n",
    "\n",
    "measurement_function = Measurement()\n",
    "\n",
    "# By allowing the sweep values to be a generator, we can create a feed-back loop between the sweep object and the \n",
    "# measurement.\n",
    "\n",
    "def sweep_values(): \n",
    "    value = 0.0\n",
    "    while value < 2.0:\n",
    "        yield value \n",
    "        value = np.sum(measurement_function.value())  # The next step depends on the measurement\n",
    "\n",
    "def setter(value): \n",
    "    return {\"dac_channel\": {\"unit\": \"H\", \"value\": \"{:.3}\".format(value), \"independent_parameter\": True}}\n",
    "\n",
    "for i in nest(sweep(setter, sweep_values), measurement_function): \n",
    "    pretty_print(i)"
   ]
  },
  {
   "cell_type": "markdown",
   "metadata": {},
   "source": [
    "We will loop until the sum of the measurement variables equal 2.0 or more. Since measurement values are three stochstics with a N(0, 1) distribution, the distribution of the sum is N(0, sqrt(3)). The probability of finding 2.0 or more: Z = 2/sqrt(3), which is equal to 12.51%. As the next cell shows, the expectation value of the number of iterations is therefore 8.3 iterations"
   ]
  },
  {
   "cell_type": "code",
   "execution_count": 100,
   "metadata": {},
   "outputs": [
    {
     "data": {
      "text/plain": [
       "7.9936051159072736"
      ]
     },
     "execution_count": 100,
     "metadata": {},
     "output_type": "execute_result"
    }
   ],
   "source": [
    "def f(ni): # The probability of looping exactly ni times \n",
    "    p = 0.1251\n",
    "    return (1 - p)**(ni - 1) * p\n",
    "\n",
    "np.sum([ni*f(ni) for ni in range(1, 1000)])"
   ]
  },
  {
   "cell_type": "markdown",
   "metadata": {},
   "source": [
    "Lets see if this is correct "
   ]
  },
  {
   "cell_type": "code",
   "execution_count": 98,
   "metadata": {},
   "outputs": [
    {
     "name": "stdout",
     "output_type": "stream",
     "text": [
      "8.085\n"
     ]
    }
   ],
   "source": [
    "count = 0\n",
    "N = 10000\n",
    "for _ in range(N):\n",
    "    count += len(list(nest(sweep(setter, sweep_values), measurement_function)))\n",
    "\n",
    "print(count/N)"
   ]
  },
  {
   "cell_type": "markdown",
   "metadata": {},
   "source": [
    ":-)"
   ]
  },
  {
   "cell_type": "code",
   "execution_count": null,
   "metadata": {},
   "outputs": [],
   "source": []
  }
 ],
 "metadata": {
  "kernelspec": {
   "display_name": "Python 3",
   "language": "python",
   "name": "python3"
  },
  "language_info": {
   "codemirror_mode": {
    "name": "ipython",
    "version": 3
   },
   "file_extension": ".py",
   "mimetype": "text/x-python",
   "name": "python",
   "nbconvert_exporter": "python",
   "pygments_lexer": "ipython3",
   "version": "3.6.3"
  }
 },
 "nbformat": 4,
 "nbformat_minor": 2
}
