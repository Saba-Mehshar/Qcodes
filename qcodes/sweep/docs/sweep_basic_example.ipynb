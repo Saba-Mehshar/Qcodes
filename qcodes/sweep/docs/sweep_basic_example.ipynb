{
 "cells": [
  {
   "cell_type": "code",
   "execution_count": 1,
   "metadata": {},
   "outputs": [],
   "source": [
    "import sys \n",
    "sys.path.append(r\"C:\\Users\\a-sochat\\development\\Qcodes_Sohail_Clone\\Qcodes\")\n",
    "\n",
    "import qcodes as qc\n",
    "from qcodes.instrument.parameter import ManualParameter\n",
    "from qcodes.sweep.sweep import Nest, Zip, Chain, ParameterSweep, ParameterWrapper, FunctionSweep, FunctionWrapper"
   ]
  },
  {
   "cell_type": "code",
   "execution_count": 125,
   "metadata": {},
   "outputs": [],
   "source": [
    "def pretty_print(dictionary): \n",
    "    \n",
    "    s = \"\"\n",
    "    ss = \"\"\n",
    "    \n",
    "    names = list(dictionary.keys())[::-1]\n",
    "    \n",
    "    for name in names: \n",
    "        if dictionary[name][\"independent_parameter\"]: \n",
    "            s += ss + name + str(dictionary[name][\"value\"])\n",
    "        else: \n",
    "            s += ss + name + \"({})\".format(s)\n",
    "        \n",
    "        ss = \", \"\n",
    "    \n",
    "    print(s)"
   ]
  },
  {
   "cell_type": "markdown",
   "metadata": {},
   "source": [
    "# Lets introduce a basic sweep object "
   ]
  },
  {
   "cell_type": "code",
   "execution_count": 126,
   "metadata": {},
   "outputs": [],
   "source": [
    "x = ManualParameter(\"x\")"
   ]
  },
  {
   "cell_type": "code",
   "execution_count": 127,
   "metadata": {},
   "outputs": [],
   "source": [
    "sox = ParameterSweep(x, lambda: [0, 1])"
   ]
  },
  {
   "cell_type": "code",
   "execution_count": 128,
   "metadata": {},
   "outputs": [
    {
     "name": "stdout",
     "output_type": "stream",
     "text": [
      "x0\n",
      "x1\n"
     ]
    }
   ],
   "source": [
    "for i in sox: \n",
    "    pretty_print(i)"
   ]
  },
  {
   "cell_type": "markdown",
   "metadata": {},
   "source": [
    "We have generated a small 1D coordinate layout with size 2 "
   ]
  },
  {
   "cell_type": "markdown",
   "metadata": {},
   "source": [
    "# How do we make a 2D sweep? "
   ]
  },
  {
   "cell_type": "code",
   "execution_count": 129,
   "metadata": {},
   "outputs": [],
   "source": [
    "y = ManualParameter(\"y\")"
   ]
  },
  {
   "cell_type": "code",
   "execution_count": 130,
   "metadata": {},
   "outputs": [],
   "source": [
    "sox = ParameterSweep(x, lambda: [0, 1])\n",
    "soy = ParameterSweep(y, lambda: [0, 1])"
   ]
  },
  {
   "cell_type": "code",
   "execution_count": 131,
   "metadata": {},
   "outputs": [],
   "source": [
    "so_nest = Nest([soy, sox])  # X is the inner axis "
   ]
  },
  {
   "cell_type": "code",
   "execution_count": 132,
   "metadata": {},
   "outputs": [
    {
     "name": "stdout",
     "output_type": "stream",
     "text": [
      "y0, x0\n",
      "y0, x1\n",
      "y1, x0\n",
      "y1, x1\n"
     ]
    }
   ],
   "source": [
    "for i in so_nest: \n",
    "    pretty_print(i)"
   ]
  },
  {
   "cell_type": "markdown",
   "metadata": {},
   "source": [
    "This represents a 2D layout of 2x2 "
   ]
  },
  {
   "cell_type": "markdown",
   "metadata": {},
   "source": [
    "# We can extend this to ND"
   ]
  },
  {
   "cell_type": "code",
   "execution_count": 133,
   "metadata": {},
   "outputs": [],
   "source": [
    "z = ManualParameter(\"z\")"
   ]
  },
  {
   "cell_type": "code",
   "execution_count": 134,
   "metadata": {},
   "outputs": [],
   "source": [
    "sox = ParameterSweep(x, lambda: [0, 1])\n",
    "soy = ParameterSweep(y, lambda: [0, 1])\n",
    "soz = ParameterSweep(z, lambda: [0, 1])"
   ]
  },
  {
   "cell_type": "code",
   "execution_count": 135,
   "metadata": {},
   "outputs": [],
   "source": [
    "so_nest = Nest([soz, soy, sox])"
   ]
  },
  {
   "cell_type": "code",
   "execution_count": 136,
   "metadata": {},
   "outputs": [
    {
     "name": "stdout",
     "output_type": "stream",
     "text": [
      "z0, y0, x0\n",
      "z0, y0, x1\n",
      "z0, y1, x0\n",
      "z0, y1, x1\n",
      "z1, y0, x0\n",
      "z1, y0, x1\n",
      "z1, y1, x0\n",
      "z1, y1, x1\n"
     ]
    }
   ],
   "source": [
    "for i in so_nest: \n",
    "    pretty_print(i)"
   ]
  },
  {
   "cell_type": "markdown",
   "metadata": {},
   "source": [
    "We have created a 2x2x2 layout "
   ]
  },
  {
   "cell_type": "markdown",
   "metadata": {},
   "source": [
    "# This is how we can perform a measurement  "
   ]
  },
  {
   "cell_type": "code",
   "execution_count": 137,
   "metadata": {},
   "outputs": [],
   "source": [
    "m = ManualParameter(\"m\")\n",
    "measurement = ParameterWrapper(m)"
   ]
  },
  {
   "cell_type": "code",
   "execution_count": 138,
   "metadata": {},
   "outputs": [],
   "source": [
    "sox = ParameterSweep(x, lambda: [0, 1])\n",
    "soy = ParameterSweep(y, lambda: [0, 1])\n",
    "\n",
    "so_nest = Nest([soy, sox, measurement]) # Perform a measurement at every (x, y)"
   ]
  },
  {
   "cell_type": "code",
   "execution_count": 139,
   "metadata": {},
   "outputs": [
    {
     "name": "stdout",
     "output_type": "stream",
     "text": [
      "y0, x0, m(y0, x0)\n",
      "y0, x1, m(y0, x1)\n",
      "y1, x0, m(y1, x0)\n",
      "y1, x1, m(y1, x1)\n"
     ]
    }
   ],
   "source": [
    "for i in so_nest: \n",
    "    pretty_print(i)"
   ]
  },
  {
   "cell_type": "markdown",
   "metadata": {},
   "source": [
    "The meaning of \"m(x0, y0)\": We measure \"m\" at (x0, y0). We have thus a 2x2 coordinate layout and the thrid dimension represents a measurement "
   ]
  },
  {
   "cell_type": "markdown",
   "metadata": {},
   "source": [
    "# What happens if we nest a sweep in a measurement?"
   ]
  },
  {
   "cell_type": "code",
   "execution_count": 140,
   "metadata": {},
   "outputs": [],
   "source": [
    "so_nest = Nest([measurement, sox])"
   ]
  },
  {
   "cell_type": "code",
   "execution_count": 142,
   "metadata": {},
   "outputs": [
    {
     "name": "stdout",
     "output_type": "stream",
     "text": [
      "m(), x0\n",
      "m(), x1\n"
     ]
    }
   ],
   "source": [
    "for i in so_nest: \n",
    "    pretty_print(i)"
   ]
  },
  {
   "cell_type": "markdown",
   "metadata": {},
   "source": [
    "Here \"m()\" represents the same measurement. We thus only call \"m\" once but the result will be echoed in all subsequent lines in the measurement table "
   ]
  },
  {
   "cell_type": "markdown",
   "metadata": {},
   "source": [
    "# Introducing chaining"
   ]
  },
  {
   "cell_type": "code",
   "execution_count": 151,
   "metadata": {},
   "outputs": [],
   "source": [
    "m = ManualParameter(\"m\")\n",
    "mm = ParameterWrapper(m)\n",
    "\n",
    "n = ManualParameter(\"n\")\n",
    "nn = ParameterWrapper(n)"
   ]
  },
  {
   "cell_type": "code",
   "execution_count": 152,
   "metadata": {},
   "outputs": [],
   "source": [
    "sox = ParameterSweep(x, lambda: [0, 1])\n",
    "\n",
    "so_chain = Chain([mm, Nest([sox, nn])])  # Perform measurement1 and then iterate over the sweep\n",
    "# This is approx. equivalent to m + (x * n) "
   ]
  },
  {
   "cell_type": "code",
   "execution_count": 153,
   "metadata": {},
   "outputs": [
    {
     "name": "stdout",
     "output_type": "stream",
     "text": [
      "m()\n",
      "x0, n(x0)\n",
      "x1, n(x1)\n"
     ]
    }
   ],
   "source": [
    "for i in so_chain: \n",
    "    pretty_print(i)"
   ]
  },
  {
   "cell_type": "markdown",
   "metadata": {},
   "source": [
    "\"m()\" means that we measure m at undefined x or y "
   ]
  },
  {
   "cell_type": "code",
   "execution_count": 154,
   "metadata": {},
   "outputs": [],
   "source": [
    "sox = ParameterSweep(x, lambda: [0, 1])\n",
    "soy = ParameterSweep(y, lambda: [0, 1])\n",
    "\n",
    "so_chain = Nest([soy, Chain([mm, Nest([sox, nn])])])  # = y * (m + x * n) = ym + yxn"
   ]
  },
  {
   "cell_type": "code",
   "execution_count": 155,
   "metadata": {},
   "outputs": [
    {
     "name": "stdout",
     "output_type": "stream",
     "text": [
      "y0, m(y0)\n",
      "y0, x0, n(y0, x0)\n",
      "y0, x1, n(y0, x1)\n",
      "y1, m(y1)\n",
      "y1, x0, n(y1, x0)\n",
      "y1, x1, n(y1, x1)\n"
     ]
    }
   ],
   "source": [
    "for i in so_chain: \n",
    "    pretty_print(i)"
   ]
  },
  {
   "cell_type": "markdown",
   "metadata": {},
   "source": [
    "We have woven together a 1D and 2D loop"
   ]
  },
  {
   "cell_type": "markdown",
   "metadata": {},
   "source": [
    "# We will introduce a couple of conviniece functions so we do not have to be as verbose"
   ]
  },
  {
   "cell_type": "code",
   "execution_count": 148,
   "metadata": {},
   "outputs": [],
   "source": [
    "from qcodes.sweep import sweep, nest, chain"
   ]
  },
  {
   "cell_type": "code",
   "execution_count": 149,
   "metadata": {},
   "outputs": [],
   "source": [
    "sox = sweep(x, [0, 1])\n",
    "soy = sweep(y, [0, 1])\n",
    "\n",
    "m = ManualParameter(\"m\")\n",
    "n = ManualParameter(\"n\")\n",
    "\n",
    "so_chain = nest(soy, chain(m, nest(sox, n)))"
   ]
  },
  {
   "cell_type": "code",
   "execution_count": 150,
   "metadata": {},
   "outputs": [
    {
     "name": "stdout",
     "output_type": "stream",
     "text": [
      "y0, m(y0)\n",
      "y0, x0, n(y0, x0)\n",
      "y0, x1, n(y0, x1)\n",
      "y1, m(y1)\n",
      "y1, x0, n(y1, x0)\n",
      "y1, x1, n(y1, x1)\n"
     ]
    }
   ],
   "source": [
    "for i in so_chain: \n",
    "    pretty_print(i)"
   ]
  },
  {
   "cell_type": "code",
   "execution_count": null,
   "metadata": {},
   "outputs": [],
   "source": []
  },
  {
   "cell_type": "code",
   "execution_count": null,
   "metadata": {},
   "outputs": [],
   "source": []
  },
  {
   "cell_type": "code",
   "execution_count": null,
   "metadata": {},
   "outputs": [],
   "source": []
  }
 ],
 "metadata": {
  "kernelspec": {
   "display_name": "Python 3",
   "language": "python",
   "name": "python3"
  },
  "language_info": {
   "codemirror_mode": {
    "name": "ipython",
    "version": 3
   },
   "file_extension": ".py",
   "mimetype": "text/x-python",
   "name": "python",
   "nbconvert_exporter": "python",
   "pygments_lexer": "ipython3",
   "version": "3.6.3"
  }
 },
 "nbformat": 4,
 "nbformat_minor": 2
}
