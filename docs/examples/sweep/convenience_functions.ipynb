{
 "cells": [
  {
   "cell_type": "code",
   "execution_count": 1,
   "metadata": {},
   "outputs": [
    {
     "name": "stderr",
     "output_type": "stream",
     "text": [
      "C:\\Users\\a-sochat\\AppData\\Local\\Continuum\\Anaconda3\\envs\\qcodes\\lib\\site-packages\\h5py\\__init__.py:36: FutureWarning: Conversion of the second argument of issubdtype from `float` to `np.floating` is deprecated. In future, it will be treated as `np.float64 == np.dtype(float).type`.\n",
      "  from ._conv import register_converters as _register_converters\n"
     ]
    }
   ],
   "source": [
    "import sys \n",
    "sys.path.append(r\"C:\\Users\\a-sochat\\development\\Qcodes_Sohail_Clone\\Qcodes\")\n",
    "\n",
    "import numpy as np\n",
    "import time \n",
    "\n",
    "import qcodes as qc\n",
    "from qcodes.instrument.parameter import ManualParameter\n",
    "\n",
    "from qcodes.sweep import sweep, nest, chain, szip, measurement, setter\n",
    "from qcodes.sweep.sweep import BaseSweepObject, ParametersTable, wrap_objects, time_trace\n",
    "\n",
    "from qcodes.sweep.sweep import (\n",
    "    Nest, Zip, Chain, ParameterSweep, ParameterWrapper, FunctionSweep, FunctionWrapper, measurement, setter\n",
    ")"
   ]
  },
  {
   "cell_type": "code",
   "execution_count": 5,
   "metadata": {},
   "outputs": [],
   "source": [
    "class Printer:\n",
    "    def __init__(self, sweep_object): \n",
    "        self._ind, self._dep = sweep_object.parameter_table.flatten()\n",
    "        self._symbols_list = sweep_object.parameter_table.symbols_list()\n",
    "        self._inferred_symbols_list = sweep_object.parameter_table.inferred_symbols_list()\n",
    "        \n",
    "    def __enter__(self): \n",
    "        header_ind = \"\\t\".join([\"{} [{}]\".format(*i) for i in self._ind.items()])\n",
    "        header_dep = \"\\t\".join([\"{} [{}]\".format(*i) for i in self._dep.items()])\n",
    "        sep = \" | \"\n",
    "        \n",
    "        print(self._inferred_symbols_list)\n",
    "        print((header_ind + sep + header_dep).strip(sep))\n",
    "        \n",
    "        return self\n",
    "    \n",
    "    def __exit__(self, type, value, traceback): \n",
    "        pass\n",
    "\n",
    "    def __call__(self, result):\n",
    "        print(\" \" + \"\\t \".join([str(result[ip]) for ip in self._symbols_list]))"
   ]
  },
  {
   "cell_type": "markdown",
   "metadata": {},
   "source": [
    "Lets define some parameters and functions to sweep over"
   ]
  },
  {
   "cell_type": "code",
   "execution_count": 6,
   "metadata": {},
   "outputs": [],
   "source": [
    "x = ManualParameter(\"x\", unit=\"V\")\n",
    "yparam = ManualParameter(\"y\", unit=\"V\")\n",
    "\n",
    "@setter([(\"y\", \"mV\")], inferred_parameters=[(\"yv\", \"V\")]) # We are given mV in loops \n",
    "def ysetter(y):\n",
    "    yv = y / 1000\n",
    "    yparam.set(yv)\n",
    "    return yv\n",
    "\n",
    "m = ManualParameter(\"m\", unit=\"A\")\n",
    "m.get = lambda: x() ** 2\n",
    "\n",
    "n = ManualParameter(\"n\", unit=\"A\")\n",
    "n.get = lambda: x() - yparam() ** 2 + 16"
   ]
  },
  {
   "cell_type": "markdown",
   "metadata": {},
   "source": [
    "Convinience functions and other [syntactic sugar](https://en.wikipedia.org/wiki/Syntactic_sugar) has been developed to simplify writing complext loops. The following sweep objects as equivalent: "
   ]
  },
  {
   "cell_type": "code",
   "execution_count": 7,
   "metadata": {},
   "outputs": [
    {
     "name": "stdout",
     "output_type": "stream",
     "text": [
      "yv inferred from y\n",
      "x [V]\ty [mV]\tyv [V] | m [A]\tn [A]\n",
      " 0\t None\t None\t 0\t None\n",
      " 0\t 0.0\t 0.0\t None\t 16.0\n",
      " 0\t 1000.0\t 1.0\t None\t 15.0\n",
      " 0\t 2000.0\t 2.0\t None\t 12.0\n",
      " 1\t None\t None\t 1\t None\n",
      " 1\t 0.0\t 0.0\t None\t 17.0\n",
      " 1\t 1000.0\t 1.0\t None\t 16.0\n",
      " 1\t 2000.0\t 2.0\t None\t 13.0\n",
      " 2\t None\t None\t 4\t None\n",
      " 2\t 0.0\t 0.0\t None\t 18.0\n",
      " 2\t 1000.0\t 1.0\t None\t 17.0\n",
      " 2\t 2000.0\t 2.0\t None\t 14.0\n"
     ]
    }
   ],
   "source": [
    "# Can someone understand what the hell this means? \n",
    "sweep_object_1 = Nest([\n",
    "    ParameterSweep(x, lambda: [0, 1, 2]), \n",
    "    Chain([\n",
    "        ParameterWrapper(m), \n",
    "        Nest([\n",
    "            FunctionSweep(ysetter, lambda: [0, 1000, 2000]), \n",
    "            ParameterWrapper(n)\n",
    "        ])\n",
    "    ])\n",
    "])\n",
    "# Lets unloop to see what it does \n",
    "with Printer(sweep_object_1) as printer:\n",
    "    for i in sweep_object_1:   \n",
    "        printer(i)"
   ]
  },
  {
   "cell_type": "code",
   "execution_count": 5,
   "metadata": {},
   "outputs": [
    {
     "data": {
      "text/plain": [
       "yv inferred from y\n",
       "x [V]|m [A]\n",
       "x [V],y [mV],yv [V]|n [A]"
      ]
     },
     "execution_count": 5,
     "metadata": {},
     "output_type": "execute_result"
    }
   ],
   "source": [
    "sweep_object_1._parameter_table"
   ]
  },
  {
   "cell_type": "code",
   "execution_count": 7,
   "metadata": {},
   "outputs": [
    {
     "name": "stdout",
     "output_type": "stream",
     "text": [
      "x [V]\ty [mV] | m [A]\tn [A]\n",
      " 0\t None\t 0\t None\n",
      " 0\t 0\t None\t 16.0\n",
      " 0\t 1000\t None\t 15.0\n",
      " 0\t 2000\t None\t 12.0\n",
      " 1\t None\t 1\t None\n",
      " 1\t 0\t None\t 17.0\n",
      " 1\t 1000\t None\t 16.0\n",
      " 1\t 2000\t None\t 13.0\n",
      " 2\t None\t 4\t None\n",
      " 2\t 0\t None\t 18.0\n",
      " 2\t 1000\t None\t 17.0\n",
      " 2\t 2000\t None\t 14.0\n"
     ]
    }
   ],
   "source": [
    "# Lets write the same thing in a slightly more convinient way \n",
    "sweep_object_2 = nest(\n",
    "    sweep(x, [0, 1, 2]), \n",
    "    chain(\n",
    "        m, \n",
    "        nest(\n",
    "            sweep(ysetter, [0, 1000, 2000]), \n",
    "            n\n",
    "        )\n",
    "    )\n",
    ")\n",
    "\n",
    "# Lets unloop to see what it does \n",
    "with Printer(sweep_object_2) as printer:\n",
    "    for i in sweep_object_2:   \n",
    "        printer(i)"
   ]
  },
  {
   "cell_type": "markdown",
   "metadata": {},
   "source": [
    "### what we lean: \n",
    "1) The function sweep (with small \"s\") either returns a Parameter sweep or a Function sweep class depending on the argument types\n",
    "\n",
    "2) The range argument for the *classes* Parameter sweep and Function sweep are lambda functions, while for the sweep *function* this can be a simple list or numpy array (or infact any other iterable such as a generator)\n",
    "\n",
    "3) The arguments to the Nest and Chain classes are lists, while for the nest and chain functions are function arguments\n",
    "\n",
    "4) While the Parameter sweep and Function sweep classes expect arguments of qcodes parameter type and callables to be wrapped by ParameterWrapper and FunctionWrapper respectively, the sweep functions wraps these automatically"
   ]
  },
  {
   "cell_type": "code",
   "execution_count": 8,
   "metadata": {},
   "outputs": [
    {
     "name": "stdout",
     "output_type": "stream",
     "text": [
      "x [V]\ty [mV] | m [A]\tn [A]\n",
      " 0\t None\t 0\t None\n",
      " 0\t 0\t None\t 16.0\n",
      " 0\t 1000\t None\t 15.0\n",
      " 0\t 2000\t None\t 12.0\n",
      " 1\t None\t 1\t None\n",
      " 1\t 0\t None\t 17.0\n",
      " 1\t 1000\t None\t 16.0\n",
      " 1\t 2000\t None\t 13.0\n",
      " 2\t None\t 4\t None\n",
      " 2\t 0\t None\t 18.0\n",
      " 2\t 1000\t None\t 17.0\n",
      " 2\t 2000\t None\t 14.0\n"
     ]
    }
   ],
   "source": [
    "# Finally, we can also just write...\n",
    "sweep_object = sweep(x, [0, 1, 2])(\n",
    "    m,\n",
    "    sweep(ysetter, [0, 1000, 2000])(\n",
    "        n  \n",
    "    )\n",
    ")\n",
    "\n",
    "with Printer(sweep_object) as printer:\n",
    "    for i in sweep_object:   \n",
    "        printer(i)"
   ]
  },
  {
   "cell_type": "markdown",
   "metadata": {},
   "source": [
    "### what we lean: \n",
    "1) A sweep object is callable. We have the following rule: `sweep_object(m)` is the same as `nest(sweep_object, m)`. This saves us from writing \"nest\".\n",
    "\n",
    "2) Furthermore, `sweep_object(m, n)` is the same as `nest(sweep_object, chain(m, n))`. Implicit chaining reduces the bracket level and saves us from writing \"chain\". "
   ]
  },
  {
   "cell_type": "code",
   "execution_count": 9,
   "metadata": {},
   "outputs": [],
   "source": [
    "@measurement([(\"m3\", \"H\"), (\"m4\", \"H\")])\n",
    "def measurement_function(): \n",
    "    meas3 = int(np.random.normal(0, 1) * 10) / 10\n",
    "    meas4 = int(np.random.normal(-5, 1) * 10) / 10\n",
    "    return meas3, meas4"
   ]
  },
  {
   "cell_type": "code",
   "execution_count": 11,
   "metadata": {},
   "outputs": [],
   "source": [
    "sweep_object = sweep(x, [0, 1, 2])(\n",
    "    m,\n",
    "    sweep(ysetter, [0, 1, 2])(\n",
    "        measurement_function  \n",
    "    )\n",
    ")"
   ]
  },
  {
   "cell_type": "code",
   "execution_count": 12,
   "metadata": {},
   "outputs": [
    {
     "name": "stdout",
     "output_type": "stream",
     "text": [
      "x [V]\ty [mV] | m [A]\tm3 [H]\tm4 [H]\n",
      " 0\t None\t 0\t None\t None\n",
      " 0\t 0\t None\t 0.1\t -4.5\n",
      " 0\t 1\t None\t -0.2\t -4.5\n",
      " 0\t 2\t None\t -1.0\t -4.9\n",
      " 1\t None\t 1\t None\t None\n",
      " 1\t 0\t None\t 0.5\t -2.7\n",
      " 1\t 1\t None\t 0.4\t -5.8\n",
      " 1\t 2\t None\t -0.4\t -5.2\n",
      " 2\t None\t 4\t None\t None\n",
      " 2\t 0\t None\t 0.3\t -5.0\n",
      " 2\t 1\t None\t 1.3\t -4.4\n",
      " 2\t 2\t None\t 1.0\t -6.4\n"
     ]
    }
   ],
   "source": [
    "with Printer(sweep_object) as printer:\n",
    "    for i in sweep_object:   \n",
    "        printer(i)"
   ]
  },
  {
   "cell_type": "code",
   "execution_count": 8,
   "metadata": {},
   "outputs": [],
   "source": [
    "class TimeStamps(BaseSweepObject): \n",
    "    def __init__(self):\n",
    "        super().__init__()\n",
    "        self._parameter_table = ParametersTable(dependent_parameters=[(\"time\", \"s\")])\n",
    "        \n",
    "    def _setter_factory(self): \n",
    "        t0 = time.time()\n",
    "        while True: \n",
    "            t = time.time() - t0\n",
    "            yield {\"time\": \"{:.3e}\".format(t)}"
   ]
  },
  {
   "cell_type": "code",
   "execution_count": 9,
   "metadata": {},
   "outputs": [],
   "source": [
    "sweep_object2 = szip(TimeStamps(), sweep_object)"
   ]
  },
  {
   "cell_type": "code",
   "execution_count": 10,
   "metadata": {},
   "outputs": [
    {
     "name": "stdout",
     "output_type": "stream",
     "text": [
      "x [V]\ty [V] | time [s]\tm [A]\tm3 [H]\tm4 [H]\n",
      " 0\t None\t 0.000e+00\t 0\t None\t None\n",
      " 0\t 0\t 0.000e+00\t None\t -0.1\t -3.2\n",
      " 0\t 1\t 9.992e-04\t None\t 0.2\t -3.5\n",
      " 0\t 2\t 9.992e-04\t None\t 1.7\t -3.5\n",
      " 1\t None\t 9.992e-04\t 1\t None\t None\n",
      " 1\t 0\t 2.001e-03\t None\t -2.0\t -3.1\n",
      " 1\t 1\t 2.001e-03\t None\t -0.2\t -3.0\n",
      " 1\t 2\t 2.001e-03\t None\t 2.0\t -5.4\n",
      " 2\t None\t 2.001e-03\t 4\t None\t None\n",
      " 2\t 0\t 2.001e-03\t None\t -0.1\t -4.5\n",
      " 2\t 1\t 2.001e-03\t None\t -0.7\t -5.4\n",
      " 2\t 2\t 3.000e-03\t None\t 1.6\t -5.0\n"
     ]
    }
   ],
   "source": [
    "with Printer(sweep_object2) as printer:\n",
    "    for i in sweep_object2:   \n",
    "        printer(i)"
   ]
  },
  {
   "cell_type": "code",
   "execution_count": 11,
   "metadata": {},
   "outputs": [],
   "source": [
    "sweep_object3 = time_trace(m, 5, 0.5)"
   ]
  },
  {
   "cell_type": "code",
   "execution_count": 12,
   "metadata": {},
   "outputs": [
    {
     "name": "stdout",
     "output_type": "stream",
     "text": [
      "time [s] | m [A]\n",
      " 0.0\t 4\n",
      " 0.5007941722869873\t 4\n",
      " 1.0013322830200195\t 4\n",
      " 1.501396894454956\t 4\n",
      " 2.0023789405822754\t 4\n",
      " 2.504150390625\t 4\n",
      " 3.005115270614624\t 4\n",
      " 3.5068256855010986\t 4\n",
      " 4.007554292678833\t 4\n",
      " 4.509374618530273\t 4\n"
     ]
    }
   ],
   "source": [
    "with Printer(sweep_object3) as printer:\n",
    "    for i in sweep_object3:   \n",
    "        printer(i)"
   ]
  },
  {
   "cell_type": "code",
   "execution_count": null,
   "metadata": {},
   "outputs": [],
   "source": []
  },
  {
   "cell_type": "code",
   "execution_count": 6,
   "metadata": {},
   "outputs": [
    {
     "data": {
      "text/plain": [
       "[]"
      ]
     },
     "execution_count": 6,
     "metadata": {},
     "output_type": "execute_result"
    }
   ],
   "source": [
    "list(zip(*a))"
   ]
  },
  {
   "cell_type": "code",
   "execution_count": null,
   "metadata": {},
   "outputs": [],
   "source": []
  }
 ],
 "metadata": {
  "kernelspec": {
   "display_name": "Python 3",
   "language": "python",
   "name": "python3"
  },
  "language_info": {
   "codemirror_mode": {
    "name": "ipython",
    "version": 3
   },
   "file_extension": ".py",
   "mimetype": "text/x-python",
   "name": "python",
   "nbconvert_exporter": "python",
   "pygments_lexer": "ipython3",
   "version": "3.6.3"
  }
 },
 "nbformat": 4,
 "nbformat_minor": 2
}
