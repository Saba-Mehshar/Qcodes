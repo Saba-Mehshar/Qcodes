{
 "cells": [
  {
   "cell_type": "code",
   "execution_count": 1,
   "metadata": {},
   "outputs": [],
   "source": [
    "import sys \n",
    "sys.path.append(r\"C:\\Users\\a-sochat\\development\\Qcodes_Sohail_Clone\\Qcodes\")\n",
    "\n",
    "import numpy as np\n",
    "\n",
    "import qcodes as qc\n",
    "from qcodes.instrument.parameter import ManualParameter\n",
    "\n",
    "from qcodes.sweep import sweep, nest, chain"
   ]
  },
  {
   "cell_type": "code",
   "execution_count": 4,
   "metadata": {},
   "outputs": [],
   "source": [
    "def pretty_print(dictionary): \n",
    "    \n",
    "    s = \"\"\n",
    "    independents = \"\"\n",
    "    seperator = \"\"\n",
    "    \n",
    "    names = list(dictionary.keys())[::-1]\n",
    "    \n",
    "    for name in names: \n",
    "        value = str(dictionary[name][\"value\"])\n",
    "        \n",
    "        if dictionary[name][\"independent_parameter\"]: \n",
    "            s += seperator + name + value\n",
    "            independents += seperator + name + value\n",
    "        else: \n",
    "            s += seperator + name + \"({}) = {}\".format(independents, value) \n",
    "        \n",
    "        seperator = \", \"\n",
    "    \n",
    "    print(s)"
   ]
  },
  {
   "cell_type": "code",
   "execution_count": 5,
   "metadata": {},
   "outputs": [],
   "source": [
    "x = ManualParameter(\"x\")\n",
    "y = ManualParameter(\"y\")\n",
    "\n",
    "sox = sweep(x, [0, 1])  # Notice we do not have to use lambda functions in the sweep\n",
    "soy = sweep(y, [0, 1])\n",
    "\n",
    "m = ManualParameter(\"m\")\n",
    "m.get =  lambda: y() ** 3 - 0.1\n",
    "\n",
    "n = ManualParameter(\"n\")\n",
    "n.get = lambda: x() ** 2 + 2 * y() + 0.2"
   ]
  },
  {
   "cell_type": "code",
   "execution_count": 6,
   "metadata": {},
   "outputs": [
    {
     "name": "stdout",
     "output_type": "stream",
     "text": [
      "y0, m(y0) = -0.1\n",
      "y0, x0, n(y0, x0) = 0.2\n",
      "y0, x1, n(y0, x1) = 1.2\n",
      "y1, m(y1) = 0.9\n",
      "y1, x0, n(y1, x0) = 2.2\n",
      "y1, x1, n(y1, x1) = 3.2\n"
     ]
    }
   ],
   "source": [
    "for i in nest(soy, chain(m, nest(sox, n))):   # We do not have to wrap parameters\n",
    "    pretty_print(i)"
   ]
  },
  {
   "cell_type": "code",
   "execution_count": null,
   "metadata": {},
   "outputs": [],
   "source": []
  }
 ],
 "metadata": {
  "kernelspec": {
   "display_name": "Python 3",
   "language": "python",
   "name": "python3"
  },
  "language_info": {
   "codemirror_mode": {
    "name": "ipython",
    "version": 3
   },
   "file_extension": ".py",
   "mimetype": "text/x-python",
   "name": "python",
   "nbconvert_exporter": "python",
   "pygments_lexer": "ipython3",
   "version": "3.6.3"
  }
 },
 "nbformat": 4,
 "nbformat_minor": 2
}
