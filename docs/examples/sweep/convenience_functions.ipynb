{
 "cells": [
  {
   "cell_type": "code",
   "execution_count": 1,
   "metadata": {},
   "outputs": [
    {
     "name": "stderr",
     "output_type": "stream",
     "text": [
      "C:\\Users\\a-sochat\\AppData\\Local\\Continuum\\Anaconda3\\envs\\qcodes\\lib\\site-packages\\h5py\\__init__.py:36: FutureWarning: Conversion of the second argument of issubdtype from `float` to `np.floating` is deprecated. In future, it will be treated as `np.float64 == np.dtype(float).type`.\n",
      "  from ._conv import register_converters as _register_converters\n"
     ]
    }
   ],
   "source": [
    "import sys \n",
    "sys.path.append(r\"C:\\Users\\a-sochat\\development\\Qcodes_Sohail_Clone\\Qcodes\")\n",
    "\n",
    "import numpy as np\n",
    "\n",
    "import qcodes as qc\n",
    "from qcodes.instrument.parameter import ManualParameter\n",
    "\n",
    "from qcodes.sweep import sweep, nest, chain, measurement, setter"
   ]
  },
  {
   "cell_type": "code",
   "execution_count": 4,
   "metadata": {},
   "outputs": [],
   "source": [
    "class Printer:\n",
    "    def __init__(self, sweep_object): \n",
    "        self._table_list = sweep_object.parameter_table.table_list\n",
    "        \n",
    "        self._ind = set([tpl for d in self._table_list for tpl in d[\"independent_parameters\"]])\n",
    "        self._dep = set([tpl for d in self._table_list for tpl in d[\"dependent_parameters\"]])\n",
    "        \n",
    "        ind_names = list(zip(*self._ind))[0] if len(self._ind) else []\n",
    "        dep_names = list(zip(*self._dep))[0] if len(self._dep) else []\n",
    "        \n",
    "        self._all_param_names = np.append(ind_names, dep_names)\n",
    "        \n",
    "    def __enter__(self): \n",
    "        header_ind = \"\\t\".join([\"{} [{}]\".format(*i) for i in self._ind])\n",
    "        header_dep = \"\\t\".join([\"{} [{}]\".format(*i) for i in self._dep])\n",
    "        sep = \" | \"\n",
    "        print((header_ind + sep + header_dep).strip(sep))\n",
    "        \n",
    "        return self\n",
    "    \n",
    "    def __exit__(self, type, value, traceback): \n",
    "        pass\n",
    "\n",
    "    def __call__(self, result):\n",
    "        print(\" \" + \"\\t \".join(list([str(result.get(ip, \"None\")) for ip in self._all_param_names])))"
   ]
  },
  {
   "cell_type": "code",
   "execution_count": 5,
   "metadata": {},
   "outputs": [],
   "source": [
    "x = ManualParameter(\"x\", unit=\"V\")\n",
    "y = ManualParameter(\"y\", unit=\"V\")\n",
    "\n",
    "m = ManualParameter(\"m\", unit=\"A\")\n",
    "m.get = lambda: x() ** 2\n",
    "\n",
    "n = ManualParameter(\"n\", unit=\"A\")\n",
    "n.get = lambda: x() - y() ** 2 + 16\n",
    "\n",
    "sweep_object = sweep(x, [0, 1, 2])(\n",
    "    m,\n",
    "    sweep(y, [0, 1, 2])(\n",
    "        n  \n",
    "    )\n",
    ")"
   ]
  },
  {
   "cell_type": "code",
   "execution_count": 6,
   "metadata": {},
   "outputs": [
    {
     "name": "stdout",
     "output_type": "stream",
     "text": [
      "x [V]\ty [V] | m [A]\tn [A]\n",
      " 0\t None\t 0\t None\n",
      " 0\t 0\t None\t 16\n",
      " 0\t 1\t None\t 15\n",
      " 0\t 2\t None\t 12\n",
      " 1\t None\t 1\t None\n",
      " 1\t 0\t None\t 17\n",
      " 1\t 1\t None\t 16\n",
      " 1\t 2\t None\t 13\n",
      " 2\t None\t 4\t None\n",
      " 2\t 0\t None\t 18\n",
      " 2\t 1\t None\t 17\n",
      " 2\t 2\t None\t 14\n"
     ]
    }
   ],
   "source": [
    "with Printer(sweep_object) as printer:\n",
    "    for i in sweep_object:   \n",
    "        printer(i)"
   ]
  },
  {
   "cell_type": "code",
   "execution_count": 7,
   "metadata": {},
   "outputs": [],
   "source": [
    "@measurement([(\"m3\", \"H\"), (\"m4\", \"H\")])\n",
    "def measurement_function(): \n",
    "    meas3 = int(np.random.normal(0, 1) * 10) / 10\n",
    "    meas4 = int(np.random.normal(-5, 1) * 10) / 10\n",
    "    return meas3, meas4"
   ]
  },
  {
   "cell_type": "code",
   "execution_count": 8,
   "metadata": {},
   "outputs": [],
   "source": [
    "sweep_object = sweep(x, [0, 1, 2])(\n",
    "    m,\n",
    "    sweep(y, [0, 1, 2])(\n",
    "        measurement_function  \n",
    "    )\n",
    ")"
   ]
  },
  {
   "cell_type": "code",
   "execution_count": 9,
   "metadata": {},
   "outputs": [
    {
     "name": "stdout",
     "output_type": "stream",
     "text": [
      "x [V]\ty [V] | m [A]\tm4 [H]\tm3 [H]\n",
      " 0\t None\t 0\t None\t None\n",
      " 0\t 0\t None\t -4.2\t 0.4\n",
      " 0\t 1\t None\t -4.7\t -0.5\n",
      " 0\t 2\t None\t -4.4\t -1.8\n",
      " 1\t None\t 1\t None\t None\n",
      " 1\t 0\t None\t -4.5\t -0.1\n",
      " 1\t 1\t None\t -3.9\t 1.3\n",
      " 1\t 2\t None\t -3.8\t -0.4\n",
      " 2\t None\t 4\t None\t None\n",
      " 2\t 0\t None\t -4.0\t 0.5\n",
      " 2\t 1\t None\t -6.8\t -0.4\n",
      " 2\t 2\t None\t -2.6\t 0.4\n"
     ]
    }
   ],
   "source": [
    "with Printer(sweep_object) as printer:\n",
    "    for i in sweep_object:   \n",
    "        printer(i)"
   ]
  },
  {
   "cell_type": "code",
   "execution_count": null,
   "metadata": {},
   "outputs": [],
   "source": []
  }
 ],
 "metadata": {
  "kernelspec": {
   "display_name": "Python 3",
   "language": "python",
   "name": "python3"
  },
  "language_info": {
   "codemirror_mode": {
    "name": "ipython",
    "version": 3
   },
   "file_extension": ".py",
   "mimetype": "text/x-python",
   "name": "python",
   "nbconvert_exporter": "python",
   "pygments_lexer": "ipython3",
   "version": "3.6.3"
  }
 },
 "nbformat": 4,
 "nbformat_minor": 2
}
