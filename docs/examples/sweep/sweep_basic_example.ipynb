{
 "cells": [
  {
   "cell_type": "code",
   "execution_count": 1,
   "metadata": {},
   "outputs": [
    {
     "name": "stderr",
     "output_type": "stream",
     "text": [
      "C:\\Users\\a-sochat\\AppData\\Local\\Continuum\\Anaconda3\\envs\\qcodes\\lib\\site-packages\\h5py\\__init__.py:36: FutureWarning: Conversion of the second argument of issubdtype from `float` to `np.floating` is deprecated. In future, it will be treated as `np.float64 == np.dtype(float).type`.\n",
      "  from ._conv import register_converters as _register_converters\n"
     ]
    }
   ],
   "source": [
    "import sys \n",
    "sys.path.append(r\"C:\\Users\\a-sochat\\development\\Qcodes_Sohail_Clone\\Qcodes\")\n",
    "\n",
    "import numpy as np\n",
    "\n",
    "import qcodes as qc\n",
    "from qcodes.instrument.parameter import ManualParameter\n",
    "from qcodes.sweep.sweep import Nest, Zip, Chain, ParameterSweep, ParameterWrapper, FunctionSweep, FunctionWrapper"
   ]
  },
  {
   "cell_type": "code",
   "execution_count": 50,
   "metadata": {},
   "outputs": [],
   "source": [
    "class Printer:\n",
    "    def __init__(self, sweep_object): \n",
    "        self._table = sweep_object.parameter_table\n",
    "        self._table_list = self._table.table_list\n",
    "        \n",
    "    def __enter__(self): \n",
    "        print(self._table)\n",
    "        return self\n",
    "    \n",
    "    def __exit__(self, type, value, traceback): \n",
    "        pass\n",
    "\n",
    "    def __call__(self, result):\n",
    "        p = [i[0] for i in self._table_list[0][\"independent_parameters\"]]\n",
    "        p += [i[0] for i in self._table_list[0][\"dependent_parameters\"]]\n",
    "        print(\" \" + \"\\t \".join(list([str(result[ip]) for ip in p])))"
   ]
  },
  {
   "cell_type": "markdown",
   "metadata": {},
   "source": [
    "# Lets introduce a basic sweep object "
   ]
  },
  {
   "cell_type": "code",
   "execution_count": 51,
   "metadata": {},
   "outputs": [],
   "source": [
    "x = ManualParameter(\"x\", unit=\"V\")"
   ]
  },
  {
   "cell_type": "code",
   "execution_count": 52,
   "metadata": {},
   "outputs": [
    {
     "name": "stdout",
     "output_type": "stream",
     "text": [
      "x [V]\n",
      " 0\n",
      " 1\n"
     ]
    }
   ],
   "source": [
    "sweep_object = ParameterSweep(x, lambda: [0, 1])\n",
    "\n",
    "with Printer(sweep_object) as printer:\n",
    "    for i in sweep_object: \n",
    "        printer(i)"
   ]
  },
  {
   "cell_type": "markdown",
   "metadata": {},
   "source": [
    "We have generated a small 1D coordinate layout with size 2 "
   ]
  },
  {
   "cell_type": "markdown",
   "metadata": {},
   "source": [
    "# How do we make a 2D sweep? "
   ]
  },
  {
   "cell_type": "code",
   "execution_count": 53,
   "metadata": {},
   "outputs": [],
   "source": [
    "y = ManualParameter(\"y\", unit=\"V\")"
   ]
  },
  {
   "cell_type": "code",
   "execution_count": 54,
   "metadata": {},
   "outputs": [],
   "source": [
    "sox = ParameterSweep(x, lambda: [0, 1])\n",
    "soy = ParameterSweep(y, lambda: [0, 1])\n",
    "sweep_object = Nest([soy, sox])"
   ]
  },
  {
   "cell_type": "code",
   "execution_count": 55,
   "metadata": {},
   "outputs": [
    {
     "name": "stdout",
     "output_type": "stream",
     "text": [
      "y [V]\tx [V]\n",
      " 0\t 0\n",
      " 0\t 1\n",
      " 1\t 0\n",
      " 1\t 1\n"
     ]
    }
   ],
   "source": [
    "with Printer(sweep_object) as printer:\n",
    "    for i in sweep_object:  # X is the inner axis : \n",
    "        printer(i)"
   ]
  },
  {
   "cell_type": "markdown",
   "metadata": {},
   "source": [
    "This represents a 2D layout of 2x2 "
   ]
  },
  {
   "cell_type": "markdown",
   "metadata": {},
   "source": [
    "# We can extend this to ND"
   ]
  },
  {
   "cell_type": "code",
   "execution_count": 56,
   "metadata": {},
   "outputs": [],
   "source": [
    "z = ManualParameter(\"z\", unit=\"V\")"
   ]
  },
  {
   "cell_type": "code",
   "execution_count": 57,
   "metadata": {},
   "outputs": [],
   "source": [
    "sox = ParameterSweep(x, lambda: [0, 1])\n",
    "soy = ParameterSweep(y, lambda: [0, 1])\n",
    "soz = ParameterSweep(z, lambda: [0, 1])\n",
    "sweep_object = Nest([soz, soy, sox])"
   ]
  },
  {
   "cell_type": "code",
   "execution_count": 58,
   "metadata": {},
   "outputs": [
    {
     "name": "stdout",
     "output_type": "stream",
     "text": [
      "z [V]\ty [V]\tx [V]\n",
      " 0\t 0\t 0\n",
      " 0\t 0\t 1\n",
      " 0\t 1\t 0\n",
      " 0\t 1\t 1\n",
      " 1\t 0\t 0\n",
      " 1\t 0\t 1\n",
      " 1\t 1\t 0\n",
      " 1\t 1\t 1\n"
     ]
    }
   ],
   "source": [
    "with Printer(sweep_object) as printer:\n",
    "    for i in sweep_object: \n",
    "        printer(i)"
   ]
  },
  {
   "cell_type": "markdown",
   "metadata": {},
   "source": [
    "We have created a 2x2x2 layout "
   ]
  },
  {
   "cell_type": "markdown",
   "metadata": {},
   "source": [
    "# This is how we can perform a measurement  "
   ]
  },
  {
   "cell_type": "code",
   "execution_count": 59,
   "metadata": {},
   "outputs": [],
   "source": [
    "m = ManualParameter(\"m\", unit=\"A\")\n",
    "m.get = lambda: x() ** 2 + y()"
   ]
  },
  {
   "cell_type": "code",
   "execution_count": 60,
   "metadata": {},
   "outputs": [
    {
     "name": "stdout",
     "output_type": "stream",
     "text": [
      "m [A]\n",
      " 10\n"
     ]
    }
   ],
   "source": [
    "x(3)\n",
    "y(1)\n",
    "sweep_object = ParameterWrapper(m)\n",
    "\n",
    "with Printer(sweep_object) as printer:\n",
    "    for i in sweep_obejct: \n",
    "        printer(i)"
   ]
  },
  {
   "cell_type": "markdown",
   "metadata": {},
   "source": [
    "Wrapping a parameter in the \"ParameterWrapper\" class makes a sweep object which iterates once and returns the \"get\" value of the parameter. We can use this to create looped measurements. "
   ]
  },
  {
   "cell_type": "code",
   "execution_count": 63,
   "metadata": {},
   "outputs": [],
   "source": [
    "sox = ParameterSweep(x, lambda: [0, 1, 2])\n",
    "soy = ParameterSweep(y, lambda: [0, 1, 3, 4])\n",
    "measurement = ParameterWrapper(m)\n",
    "sweep_object =  Nest([soy, sox, measurement])"
   ]
  },
  {
   "cell_type": "code",
   "execution_count": 64,
   "metadata": {},
   "outputs": [
    {
     "name": "stdout",
     "output_type": "stream",
     "text": [
      "y [V]\tx [V] | m [A]\n",
      " 0\t 0\t 0\n",
      " 0\t 1\t 1\n",
      " 0\t 2\t 4\n",
      " 1\t 0\t 1\n",
      " 1\t 1\t 2\n",
      " 1\t 2\t 5\n",
      " 3\t 0\t 3\n",
      " 3\t 1\t 4\n",
      " 3\t 2\t 7\n",
      " 4\t 0\t 4\n",
      " 4\t 1\t 5\n",
      " 4\t 2\t 8\n"
     ]
    }
   ],
   "source": [
    "with Printer(sweep_object) as printer:\n",
    "    for i in  sweep_object: \n",
    "        printer(i)"
   ]
  },
  {
   "cell_type": "markdown",
   "metadata": {},
   "source": [
    "We see a seperator \"|\" before \"m\" in the header. This means that \"m\" is a dependent parameter, depending on both \"x\" and \"y\". In fact, everything after the \"|\" seperator is a dependent parameter"
   ]
  },
  {
   "cell_type": "code",
   "execution_count": 73,
   "metadata": {},
   "outputs": [],
   "source": [
    "n = ManualParameter(\"n\", unit=\"A\")\n",
    "n.get = lambda: x() - y() ** 2 + 16\n",
    "\n",
    "sox = ParameterSweep(x, lambda: [0, 1, 2])\n",
    "soy = ParameterSweep(y, lambda: [0, 1, 3, 4])\n",
    "meas1 = ParameterWrapper(m)\n",
    "meas2 = ParameterWrapper(n)\n",
    "sweep_object =  Nest([soy, sox, meas1, meas2])"
   ]
  },
  {
   "cell_type": "code",
   "execution_count": 74,
   "metadata": {},
   "outputs": [
    {
     "name": "stdout",
     "output_type": "stream",
     "text": [
      "y [V]\tx [V] | m [A]\tn [A]\n",
      " 0\t 0\t 0\t 16\n",
      " 0\t 1\t 1\t 17\n",
      " 0\t 2\t 4\t 18\n",
      " 1\t 0\t 1\t 15\n",
      " 1\t 1\t 2\t 16\n",
      " 1\t 2\t 5\t 17\n",
      " 3\t 0\t 3\t 7\n",
      " 3\t 1\t 4\t 8\n",
      " 3\t 2\t 7\t 9\n",
      " 4\t 0\t 4\t 0\n",
      " 4\t 1\t 5\t 1\n",
      " 4\t 2\t 8\t 2\n"
     ]
    }
   ],
   "source": [
    "with Printer(sweep_object) as printer:\n",
    "    for i in  sweep_object: \n",
    "        printer(i)"
   ]
  },
  {
   "cell_type": "markdown",
   "metadata": {},
   "source": [
    "# What happens if we nest a sweep in a measurement?"
   ]
  },
  {
   "cell_type": "code",
   "execution_count": 20,
   "metadata": {},
   "outputs": [
    {
     "name": "stdout",
     "output_type": "stream",
     "text": [
      "y0, m(y0) = 16, x0\n",
      "y0, m(y0) = 16, x1\n",
      "y1, m(y1) = 2, x0\n",
      "y1, m(y1) = 2, x1\n"
     ]
    }
   ],
   "source": [
    "x(4)\n",
    "\n",
    "for i in Nest([soy, measurement, sox]): # Notice how \"sox\" is the inner axis\n",
    "    pretty_print(i)"
   ]
  },
  {
   "cell_type": "markdown",
   "metadata": {},
   "source": [
    "This is equivalent to: "
   ]
  },
  {
   "cell_type": "code",
   "execution_count": 21,
   "metadata": {},
   "outputs": [
    {
     "name": "stdout",
     "output_type": "stream",
     "text": [
      "0 16 0\n",
      "0 16 1\n",
      "1 2 0\n",
      "1 2 1\n"
     ]
    }
   ],
   "source": [
    "x = 4\n",
    "for y in [0, 1]: \n",
    "    m=x**2 + y\n",
    "    for x in [0, 1]:\n",
    "        print(y, m, x)"
   ]
  },
  {
   "cell_type": "markdown",
   "metadata": {},
   "source": [
    "# Introducing chaining"
   ]
  },
  {
   "cell_type": "code",
   "execution_count": 22,
   "metadata": {},
   "outputs": [],
   "source": [
    "x = ManualParameter(\"x\")\n",
    "y = ManualParameter(\"y\")\n",
    "\n",
    "m = ManualParameter(\"m\")\n",
    "m.get = lambda: y() ** 3 - 0.1\n",
    "mm = ParameterWrapper(m)\n",
    "\n",
    "n = ManualParameter(\"n\")\n",
    "n.get = lambda: x() ** 2 + 2 * y() + 0.2\n",
    "nn = ParameterWrapper(n)"
   ]
  },
  {
   "cell_type": "code",
   "execution_count": 23,
   "metadata": {},
   "outputs": [],
   "source": [
    "sox = ParameterSweep(x, lambda: [0, 1])\n",
    "soy = ParameterSweep(y, lambda: [0, 1])"
   ]
  },
  {
   "cell_type": "code",
   "execution_count": 24,
   "metadata": {},
   "outputs": [
    {
     "name": "stdout",
     "output_type": "stream",
     "text": [
      "y0, m(y0) = -0.1\n",
      "y0, x0, n(y0,x0) = 0.2\n",
      "y0, x1, n(y0,x1) = 1.2\n",
      "y1, m(y1) = 0.9\n",
      "y1, x0, n(y1,x0) = 2.2\n",
      "y1, x1, n(y1,x1) = 3.2\n"
     ]
    }
   ],
   "source": [
    "for i in Nest([soy, Chain([mm, Nest([sox, nn])])]):  # = y * (m + x * n) = ym + yxn: \n",
    "    pretty_print(i)"
   ]
  },
  {
   "cell_type": "markdown",
   "metadata": {},
   "source": [
    "We have woven together a 1D and 2D loop. Notice that we immediately see that \"m\" only depends on y and \"n\" depends on x and y. There is no need to explicitly state this. With will become important when we discuss data sets. The above sweep is equivalent to..."
   ]
  },
  {
   "cell_type": "code",
   "execution_count": 25,
   "metadata": {},
   "outputs": [
    {
     "name": "stdout",
     "output_type": "stream",
     "text": [
      "0 -0.1\n",
      "0 0 0.2\n",
      "0 1 1.2\n",
      "1 0.9\n",
      "1 0 2.2\n",
      "1 1 3.2\n"
     ]
    }
   ],
   "source": [
    "for y in [0, 1]: \n",
    "    m = y ** 3 - 0.1\n",
    "    print(y, m)\n",
    "    for x in [0, 1]: \n",
    "        n = x ** 2 + 2 * y + 0.2\n",
    "        \n",
    "        print(y, x, n)"
   ]
  },
  {
   "cell_type": "markdown",
   "metadata": {},
   "source": [
    "Note how the above loop is different from... "
   ]
  },
  {
   "cell_type": "code",
   "execution_count": 26,
   "metadata": {},
   "outputs": [
    {
     "name": "stdout",
     "output_type": "stream",
     "text": [
      "y0, m(y0) = -0.1, x0, n(y0,x0) = 0.2\n",
      "y0, m(y0) = -0.1, x1, n(y0,x1) = 1.2\n",
      "y1, m(y1) = 0.9, x0, n(y1,x0) = 2.2\n",
      "y1, m(y1) = 0.9, x1, n(y1,x1) = 3.2\n"
     ]
    }
   ],
   "source": [
    "x = ManualParameter(\"x\")\n",
    "y = ManualParameter(\"y\")\n",
    "\n",
    "m = ManualParameter(\"m\")\n",
    "m.get = lambda: y() ** 3 - 0.1\n",
    "mm = ParameterWrapper(m)\n",
    "\n",
    "n = ManualParameter(\"n\")\n",
    "n.get = lambda: x() ** 2 + 2 * y() + 0.2\n",
    "nn = ParameterWrapper(n)\n",
    "\n",
    "sox = ParameterSweep(x, lambda: [0, 1])\n",
    "soy = ParameterSweep(y, lambda: [0, 1])\n",
    "\n",
    "for i in Nest([soy, mm, sox, nn]):  # = y * m * x * n \n",
    "    pretty_print(i)"
   ]
  },
  {
   "cell_type": "markdown",
   "metadata": {},
   "source": [
    "This is equivalent to..."
   ]
  },
  {
   "cell_type": "code",
   "execution_count": 27,
   "metadata": {},
   "outputs": [
    {
     "name": "stdout",
     "output_type": "stream",
     "text": [
      "0 -0.1 0 0.2\n",
      "0 -0.1 1 1.2\n",
      "1 0.9 0 2.2\n",
      "1 0.9 1 3.2\n"
     ]
    }
   ],
   "source": [
    "for y in [0, 1]: \n",
    "    m = y ** 3 - 0.1\n",
    "    for x in [0, 1]: \n",
    "        n = x ** 2 + 2 * y + 0.2\n",
    "        \n",
    "        print(y, m, x, n)"
   ]
  },
  {
   "cell_type": "markdown",
   "metadata": {},
   "source": [
    "Thus although the same functions are called at the same time in the sweep, the shape of the output data is different"
   ]
  },
  {
   "cell_type": "markdown",
   "metadata": {},
   "source": [
    "# We can use arbitrary functions instead of parameters as measurements"
   ]
  },
  {
   "cell_type": "code",
   "execution_count": 28,
   "metadata": {},
   "outputs": [],
   "source": [
    "def measurement_function(): \n",
    "    value = np.random.normal(0, 1, (3,))\n",
    "    return {\"measurement\": {\"unit\": \"H\", \"value\": value, \"independent_parameter\": False}}"
   ]
  },
  {
   "cell_type": "code",
   "execution_count": 29,
   "metadata": {},
   "outputs": [
    {
     "name": "stdout",
     "output_type": "stream",
     "text": [
      "x0, measurement(x0) = [-1.31800767  0.473498   -1.24730603]\n",
      "x1, measurement(x1) = [ 0.30383519  0.13854527  0.56536637]\n",
      "x2, measurement(x2) = [ 0.92044549 -1.79077928  0.02910082]\n",
      "x3, measurement(x3) = [-0.82430061  1.153619    2.07675759]\n"
     ]
    }
   ],
   "source": [
    "x = ManualParameter(\"x\")\n",
    "y = ManualParameter(\"y\")\n",
    "\n",
    "for i in Nest([ParameterSweep(x, lambda: [0, 1, 2, 3]), FunctionWrapper(measurement_function)]): \n",
    "    pretty_print(i)"
   ]
  },
  {
   "cell_type": "markdown",
   "metadata": {},
   "source": [
    "# We can also use functions as loop parameters"
   ]
  },
  {
   "cell_type": "code",
   "execution_count": 30,
   "metadata": {},
   "outputs": [],
   "source": [
    "from qcodes.sweep.sweep import parameter_log_format"
   ]
  },
  {
   "cell_type": "code",
   "execution_count": 39,
   "metadata": {},
   "outputs": [],
   "source": [
    "t = ManualParameter(\"z\")\n",
    "t.get = lambda: int(np.random.uniform(0, 100))\n",
    "\n",
    "def setter(value): \n",
    "    # Do some measurement right before setting the parameter\n",
    "    temperature = t()\n",
    "    \n",
    "    x.set(value)\n",
    "    return_value = parameter_log_format(x, value, setting=True)\n",
    "    \n",
    "    return_value.update(parameter_log_format(t, temperature, setting=False))\n",
    "    return return_value"
   ]
  },
  {
   "cell_type": "code",
   "execution_count": 40,
   "metadata": {},
   "outputs": [
    {
     "name": "stdout",
     "output_type": "stream",
     "text": [
      "z() = 50, x0, measurement(x0) = [-1.1072556   0.19921069 -0.57509861]\n",
      "z() = 75, x1, measurement(x1) = [-0.72796408 -1.49406078 -1.50131129]\n",
      "z() = 55, x2, measurement(x2) = [-0.95979363  0.42259293  0.13107023]\n",
      "z() = 93, x3, measurement(x3) = [-1.07275228 -0.04884078  1.1439181 ]\n"
     ]
    }
   ],
   "source": [
    "for i in Nest([FunctionSweep(setter, lambda: [0, 1, 2, 3]), FunctionWrapper(measurement_function)]): \n",
    "    pretty_print(i)"
   ]
  },
  {
   "cell_type": "markdown",
   "metadata": {},
   "source": [
    "# Finally, the sweep values need not be a list or an numpy array, but also a generating function"
   ]
  },
  {
   "cell_type": "code",
   "execution_count": null,
   "metadata": {},
   "outputs": [],
   "source": [
    "class Measurement:\n",
    "    def __init__(self): \n",
    "        self._value = self._roll_dice()\n",
    "    def __call__(self): \n",
    "        self._value = self._roll_dice()\n",
    "        return {\"measurement\": {\"unit\": \"H\", \"value\": self._value, \"independent_parameter\": False}}\n",
    "    def _roll_dice(self): \n",
    "        return np.random.normal(0, 1, (3,))\n",
    "    def value(self): \n",
    "        return self._value\n",
    "\n",
    "measurement_function = Measurement()\n",
    "\n",
    "# By allowing the sweep values to be a generator, we can create a feed-back loop between the sweep object and the \n",
    "# measurement.\n",
    "\n",
    "def sweep_values(): \n",
    "    value = 0.0\n",
    "    while value < 2.0:\n",
    "        yield value \n",
    "        value = np.sum(measurement_function.value())  # The next step depends on the measurement\n",
    "\n",
    "def setter(value): \n",
    "    return {\"dac_channel\": {\"unit\": \"H\", \"value\": \"{:.3}\".format(value), \"independent_parameter\": True}}\n",
    "\n",
    "for i in Nest([FunctionSweep(setter, sweep_values), FunctionWrapper(measurement_function)]): \n",
    "    pretty_print(i)"
   ]
  },
  {
   "cell_type": "markdown",
   "metadata": {},
   "source": [
    "We will loop until the sum of the measurement variables equal 2.0 or more. Since measurement values are three stochstics with a N(0, 1) distribution, the distribution of the sum is N(0, sqrt(3)). The probability of finding 2.0 or more: Z = 2/sqrt(3), which is equal to 12.51%. As the next cell shows, the expectation value of the number of iterations is therefore 8.0 iterations"
   ]
  },
  {
   "cell_type": "code",
   "execution_count": null,
   "metadata": {},
   "outputs": [],
   "source": [
    "def f(ni): # The probability of looping exactly ni times \n",
    "    p = 0.1251\n",
    "    return (1 - p)**(ni - 1) * p\n",
    "\n",
    "np.sum([ni*f(ni) for ni in range(1, 1000)])"
   ]
  },
  {
   "cell_type": "markdown",
   "metadata": {},
   "source": [
    "Lets see if this is correct "
   ]
  },
  {
   "cell_type": "code",
   "execution_count": null,
   "metadata": {},
   "outputs": [],
   "source": [
    "count = 0\n",
    "N = 10000\n",
    "for _ in range(N):\n",
    "    count += len(list(Nest([FunctionSweep(setter, sweep_values), FunctionWrapper(measurement_function)])))\n",
    "\n",
    "print(count/N)"
   ]
  },
  {
   "cell_type": "markdown",
   "metadata": {},
   "source": [
    ":-)"
   ]
  },
  {
   "cell_type": "code",
   "execution_count": null,
   "metadata": {},
   "outputs": [],
   "source": []
  }
 ],
 "metadata": {
  "kernelspec": {
   "display_name": "Python 3",
   "language": "python",
   "name": "python3"
  },
  "language_info": {
   "codemirror_mode": {
    "name": "ipython",
    "version": 3
   },
   "file_extension": ".py",
   "mimetype": "text/x-python",
   "name": "python",
   "nbconvert_exporter": "python",
   "pygments_lexer": "ipython3",
   "version": "3.6.3"
  }
 },
 "nbformat": 4,
 "nbformat_minor": 2
}
