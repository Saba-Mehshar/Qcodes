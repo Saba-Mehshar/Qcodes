{
 "cells": [
  {
   "cell_type": "code",
   "execution_count": 1,
   "metadata": {},
   "outputs": [
    {
     "name": "stderr",
     "output_type": "stream",
     "text": [
      "C:\\Users\\a-sochat\\AppData\\Local\\Continuum\\Anaconda3\\envs\\qcodes\\lib\\site-packages\\h5py\\__init__.py:36: FutureWarning: Conversion of the second argument of issubdtype from `float` to `np.floating` is deprecated. In future, it will be treated as `np.float64 == np.dtype(float).type`.\n",
      "  from ._conv import register_converters as _register_converters\n"
     ]
    }
   ],
   "source": [
    "import sys \n",
    "sys.path.append(r\"C:\\Users\\a-sochat\\development\\Qcodes_Sohail_Clone\\Qcodes\")\n",
    "\n",
    "import numpy as np\n",
    "\n",
    "import qcodes as qc\n",
    "from qcodes.instrument.parameter import ManualParameter\n",
    "from qcodes.sweep.sweep import (\n",
    "    Nest, Zip, Chain, ParameterSweep, ParameterWrapper, FunctionSweep, FunctionWrapper, measurement, setter\n",
    ")"
   ]
  },
  {
   "cell_type": "code",
   "execution_count": 18,
   "metadata": {},
   "outputs": [],
   "source": [
    "class Printer:\n",
    "    def __init__(self, sweep_object): \n",
    "        self._ind, self._dep = sweep_object.parameter_table.flatten()\n",
    "        self._symbols_list = sweep_object.parameter_table.symbols_list()\n",
    "        \n",
    "    def __enter__(self): \n",
    "        header_ind = \"\\t\".join([\"{} [{}]\".format(*i) for i in self._ind.items()])\n",
    "        header_dep = \"\\t\".join([\"{} [{}]\".format(*i) for i in self._dep.items()])\n",
    "        sep = \" | \"\n",
    "        print((header_ind + sep + header_dep).strip(sep))\n",
    "        \n",
    "        return self\n",
    "    \n",
    "    def __exit__(self, type, value, traceback): \n",
    "        pass\n",
    "\n",
    "    def __call__(self, result):\n",
    "        print(\" \" + \"\\t \".join([str(result[ip]) for ip in self._symbols_list]))"
   ]
  },
  {
   "cell_type": "markdown",
   "metadata": {},
   "source": [
    "# Lets introduce a basic sweep object "
   ]
  },
  {
   "cell_type": "code",
   "execution_count": 19,
   "metadata": {},
   "outputs": [],
   "source": [
    "x = ManualParameter(\"x\", unit=\"V\")"
   ]
  },
  {
   "cell_type": "code",
   "execution_count": 20,
   "metadata": {},
   "outputs": [
    {
     "name": "stdout",
     "output_type": "stream",
     "text": [
      "x [V]\n",
      " 0\n",
      " 1\n"
     ]
    }
   ],
   "source": [
    "sweep_object = ParameterSweep(x, lambda: [0, 1])\n",
    "\n",
    "with Printer(sweep_object) as printer:\n",
    "    for i in sweep_object: \n",
    "        printer(i)"
   ]
  },
  {
   "cell_type": "markdown",
   "metadata": {},
   "source": [
    "We have generated a small 1D coordinate layout with size 2 "
   ]
  },
  {
   "cell_type": "markdown",
   "metadata": {},
   "source": [
    "# How do we make a 2D sweep? "
   ]
  },
  {
   "cell_type": "code",
   "execution_count": 21,
   "metadata": {},
   "outputs": [],
   "source": [
    "y = ManualParameter(\"y\", unit=\"V\")"
   ]
  },
  {
   "cell_type": "code",
   "execution_count": 22,
   "metadata": {},
   "outputs": [],
   "source": [
    "sox = ParameterSweep(x, lambda: [0, 1])\n",
    "soy = ParameterSweep(y, lambda: [0, 1])\n",
    "sweep_object = Nest([soy, sox])"
   ]
  },
  {
   "cell_type": "code",
   "execution_count": 23,
   "metadata": {},
   "outputs": [
    {
     "name": "stdout",
     "output_type": "stream",
     "text": [
      "y [V]\tx [V]\n",
      " 0\t 0\n",
      " 0\t 1\n",
      " 1\t 0\n",
      " 1\t 1\n"
     ]
    }
   ],
   "source": [
    "with Printer(sweep_object) as printer:\n",
    "    for i in sweep_object:  # X is the inner axis : \n",
    "        printer(i)"
   ]
  },
  {
   "cell_type": "markdown",
   "metadata": {},
   "source": [
    "This represents a 2D layout of 2x2 "
   ]
  },
  {
   "cell_type": "markdown",
   "metadata": {},
   "source": [
    "# We can extend this to ND"
   ]
  },
  {
   "cell_type": "code",
   "execution_count": 24,
   "metadata": {},
   "outputs": [],
   "source": [
    "z = ManualParameter(\"z\", unit=\"V\")"
   ]
  },
  {
   "cell_type": "code",
   "execution_count": 25,
   "metadata": {},
   "outputs": [],
   "source": [
    "sox = ParameterSweep(x, lambda: [0, 1])\n",
    "soy = ParameterSweep(y, lambda: [0, 1])\n",
    "soz = ParameterSweep(z, lambda: [0, 1])\n",
    "sweep_object = Nest([soz, soy, sox])"
   ]
  },
  {
   "cell_type": "code",
   "execution_count": 26,
   "metadata": {},
   "outputs": [
    {
     "name": "stdout",
     "output_type": "stream",
     "text": [
      "z [V]\ty [V]\tx [V]\n",
      " 0\t 0\t 0\n",
      " 0\t 0\t 1\n",
      " 0\t 1\t 0\n",
      " 0\t 1\t 1\n",
      " 1\t 0\t 0\n",
      " 1\t 0\t 1\n",
      " 1\t 1\t 0\n",
      " 1\t 1\t 1\n"
     ]
    }
   ],
   "source": [
    "with Printer(sweep_object) as printer:\n",
    "    for i in sweep_object: \n",
    "        printer(i)"
   ]
  },
  {
   "cell_type": "markdown",
   "metadata": {},
   "source": [
    "We have created a 2x2x2 layout "
   ]
  },
  {
   "cell_type": "markdown",
   "metadata": {},
   "source": [
    "# This is how we can perform a measurement  "
   ]
  },
  {
   "cell_type": "code",
   "execution_count": 27,
   "metadata": {},
   "outputs": [],
   "source": [
    "m = ManualParameter(\"m\", unit=\"A\")\n",
    "m.get = lambda: x() ** 2 + y()"
   ]
  },
  {
   "cell_type": "code",
   "execution_count": 28,
   "metadata": {},
   "outputs": [
    {
     "name": "stdout",
     "output_type": "stream",
     "text": [
      "m [A]\n",
      " 10\n"
     ]
    }
   ],
   "source": [
    "x(3)\n",
    "y(1)\n",
    "sweep_object = ParameterWrapper(m)\n",
    "\n",
    "with Printer(sweep_object) as printer:\n",
    "    for i in sweep_object: \n",
    "        printer(i)"
   ]
  },
  {
   "cell_type": "markdown",
   "metadata": {},
   "source": [
    "Wrapping a parameter in the \"ParameterWrapper\" class makes a sweep object which iterates once and returns the \"get\" value of the parameter. We can use this to create looped measurements. "
   ]
  },
  {
   "cell_type": "code",
   "execution_count": 29,
   "metadata": {},
   "outputs": [],
   "source": [
    "sox = ParameterSweep(x, lambda: [0, 1, 2])\n",
    "soy = ParameterSweep(y, lambda: [0, 1, 3, 4])\n",
    "meas = ParameterWrapper(m)\n",
    "sweep_object =  Nest([soy, sox, meas])"
   ]
  },
  {
   "cell_type": "code",
   "execution_count": 32,
   "metadata": {},
   "outputs": [
    {
     "name": "stdout",
     "output_type": "stream",
     "text": [
      "y [V]\tx [V] | m [A]\n",
      " 0\t 0\t 0\n",
      " 0\t 1\t 1\n",
      " 0\t 2\t 4\n",
      " 1\t 0\t 1\n",
      " 1\t 1\t 2\n",
      " 1\t 2\t 5\n",
      " 3\t 0\t 3\n",
      " 3\t 1\t 4\n",
      " 3\t 2\t 7\n",
      " 4\t 0\t 4\n",
      " 4\t 1\t 5\n",
      " 4\t 2\t 8\n"
     ]
    }
   ],
   "source": [
    "with Printer(sweep_object) as printer:\n",
    "    for i in  sweep_object: \n",
    "        printer(i)"
   ]
  },
  {
   "cell_type": "markdown",
   "metadata": {},
   "source": [
    "We see a seperator \"|\" before \"m\" in the header. This means that \"m\" is a dependent parameter, depending on both \"x\" and \"y\". In fact, everything after the \"|\" seperator is a dependent parameter"
   ]
  },
  {
   "cell_type": "code",
   "execution_count": 33,
   "metadata": {},
   "outputs": [],
   "source": [
    "n = ManualParameter(\"n\", unit=\"A\")\n",
    "n.get = lambda: x() - y() ** 2 + 16\n",
    "\n",
    "sox = ParameterSweep(x, lambda: [0, 1, 2])\n",
    "soy = ParameterSweep(y, lambda: [0, 1, 3, 4])\n",
    "meas1 = ParameterWrapper(m)\n",
    "meas2 = ParameterWrapper(n)\n",
    "sweep_object =  Nest([soy, sox, meas1, meas2])"
   ]
  },
  {
   "cell_type": "code",
   "execution_count": 34,
   "metadata": {},
   "outputs": [
    {
     "name": "stdout",
     "output_type": "stream",
     "text": [
      "y [V]\tx [V] | m [A]\tn [A]\n",
      " 0\t 0\t 0\t 16\n",
      " 0\t 1\t 1\t 17\n",
      " 0\t 2\t 4\t 18\n",
      " 1\t 0\t 1\t 15\n",
      " 1\t 1\t 2\t 16\n",
      " 1\t 2\t 5\t 17\n",
      " 3\t 0\t 3\t 7\n",
      " 3\t 1\t 4\t 8\n",
      " 3\t 2\t 7\t 9\n",
      " 4\t 0\t 4\t 0\n",
      " 4\t 1\t 5\t 1\n",
      " 4\t 2\t 8\t 2\n"
     ]
    }
   ],
   "source": [
    "with Printer(sweep_object) as printer:\n",
    "    for i in  sweep_object: \n",
    "        printer(i)"
   ]
  },
  {
   "cell_type": "markdown",
   "metadata": {},
   "source": [
    "# Introducing chaining"
   ]
  },
  {
   "cell_type": "code",
   "execution_count": 37,
   "metadata": {},
   "outputs": [
    {
     "name": "stdout",
     "output_type": "stream",
     "text": [
      "y [V]\tx [V] | m [A]\tn [A]\n",
      " 0\t None\t 16\t None\n",
      " 0\t 0\t None\t 16\n",
      " 0\t 1\t None\t 17\n",
      " 0\t 2\t None\t 18\n",
      " 1\t None\t 5\t None\n",
      " 1\t 0\t None\t 15\n",
      " 1\t 1\t None\t 16\n",
      " 1\t 2\t None\t 17\n",
      " 3\t None\t 7\t None\n",
      " 3\t 0\t None\t 7\n",
      " 3\t 1\t None\t 8\n",
      " 3\t 2\t None\t 9\n",
      " 4\t None\t 8\t None\n",
      " 4\t 0\t None\t 0\n",
      " 4\t 1\t None\t 1\n",
      " 4\t 2\t None\t 2\n"
     ]
    }
   ],
   "source": [
    "x(4)\n",
    "sweep_object = Nest([\n",
    "    soy, \n",
    "    Chain([\n",
    "        meas1, \n",
    "        Nest([sox, meas2])\n",
    "    ])\n",
    "])\n",
    "\n",
    "with Printer(sweep_object) as printer:\n",
    "    for i in sweep_object: \n",
    "        printer(i)"
   ]
  },
  {
   "cell_type": "markdown",
   "metadata": {},
   "source": [
    "We have woven together a 1D and 2D loop. Notice that we immediately see that \"m\" only depends on y and \"n\" depends on x and y. There is no need to explicitly state this. With will become important when we discuss data sets. The above sweep is equivalent to..."
   ]
  },
  {
   "cell_type": "markdown",
   "metadata": {},
   "source": [
    "# We can use arbitrary functions instead of parameters as measurements"
   ]
  },
  {
   "cell_type": "code",
   "execution_count": 38,
   "metadata": {},
   "outputs": [],
   "source": [
    "@measurement([(\"meas3\", \"H\")])\n",
    "def measurement_function(): \n",
    "    return int(np.random.normal(0, 1) * 10) / 10"
   ]
  },
  {
   "cell_type": "code",
   "execution_count": 39,
   "metadata": {},
   "outputs": [
    {
     "name": "stdout",
     "output_type": "stream",
     "text": [
      "x [V] | meas3 [H]\n",
      " 0\t -1.2\n",
      " 1\t -1.6\n",
      " 2\t -1.3\n",
      " 3\t 1.1\n"
     ]
    }
   ],
   "source": [
    "sweep_object = Nest([ParameterSweep(x, lambda: [0, 1, 2, 3]), FunctionWrapper(measurement_function)])\n",
    "\n",
    "with Printer(sweep_object) as printer: \n",
    "    for i in sweep_object: \n",
    "        printer(i)"
   ]
  },
  {
   "cell_type": "code",
   "execution_count": 40,
   "metadata": {},
   "outputs": [],
   "source": [
    "@measurement([(\"m3\", \"H\"), (\"m4\", \"H\")])\n",
    "def measurement_function(): \n",
    "    meas3 = int(np.random.normal(0, 1) * 10) / 10\n",
    "    meas4 = int(np.random.normal(-5, 1) * 10) / 10\n",
    "    return meas3, meas4"
   ]
  },
  {
   "cell_type": "code",
   "execution_count": 41,
   "metadata": {},
   "outputs": [
    {
     "name": "stdout",
     "output_type": "stream",
     "text": [
      "x [V] | m3 [H]\tm4 [H]\n",
      " 0\t -0.8\t -6.0\n",
      " 1\t 1.5\t -4.7\n",
      " 2\t -1.9\t -5.0\n",
      " 3\t -0.9\t -5.7\n"
     ]
    }
   ],
   "source": [
    "sweep_object = Nest([ParameterSweep(x, lambda: [0, 1, 2, 3]), FunctionWrapper(measurement_function)])\n",
    "\n",
    "with Printer(sweep_object) as printer: \n",
    "    for i in sweep_object: \n",
    "        printer(i)"
   ]
  },
  {
   "cell_type": "markdown",
   "metadata": {},
   "source": [
    "# We can also use functions as loop parameters"
   ]
  },
  {
   "cell_type": "code",
   "execution_count": 42,
   "metadata": {},
   "outputs": [],
   "source": [
    "t = ManualParameter(\"z\")\n",
    "t.get = lambda: int(np.random.uniform(0, 100))\n",
    "\n",
    "@setter([(\"xs\", \"V\")])\n",
    "def setter1(value): \n",
    "    x.set(2 * value)\n",
    "    return value "
   ]
  },
  {
   "cell_type": "code",
   "execution_count": 43,
   "metadata": {},
   "outputs": [
    {
     "name": "stdout",
     "output_type": "stream",
     "text": [
      "xs [V] | m3 [H]\tm4 [H]\n",
      " 0\t 0.4\t -5.5\n",
      " 1\t -0.2\t -5.7\n",
      " 2\t 0.8\t -5.9\n",
      " 3\t -0.9\t -5.1\n"
     ]
    }
   ],
   "source": [
    "sweep_object = Nest([FunctionSweep(setter1, lambda: [0, 1, 2, 3]), FunctionWrapper(measurement_function)])\n",
    "\n",
    "with Printer(sweep_object) as printer:\n",
    "    for i in sweep_object: \n",
    "        printer(i)"
   ]
  },
  {
   "cell_type": "code",
   "execution_count": 44,
   "metadata": {},
   "outputs": [],
   "source": [
    "@setter([(\"xs\", \"V\"), (\"ys\", \"V\")])\n",
    "def setter2(xv, yv):\n",
    "    x.set(xv)\n",
    "    y.set(yv)"
   ]
  },
  {
   "cell_type": "code",
   "execution_count": 45,
   "metadata": {},
   "outputs": [
    {
     "name": "stdout",
     "output_type": "stream",
     "text": [
      "xs [V]\tys [V] | m3 [H]\tm4 [H]\n",
      " 0\t 4\t -1.4\t -4.9\n",
      " 1\t 5\t -0.5\t -4.9\n",
      " 2\t 7\t 0.9\t -6.0\n",
      " 3\t 8\t -0.2\t -5.4\n"
     ]
    }
   ],
   "source": [
    "sweep_object = Nest([\n",
    "    FunctionSweep(setter2, lambda: zip([0, 1, 2, 3], [4, 5, 7, 8])), \n",
    "    FunctionWrapper(measurement_function)\n",
    "])\n",
    "\n",
    "with Printer(sweep_object) as printer:\n",
    "    for i in sweep_object: \n",
    "        printer(i)"
   ]
  },
  {
   "cell_type": "markdown",
   "metadata": {},
   "source": [
    "# Finally, the sweep values need not be a list or an numpy array, but also a generating function"
   ]
  },
  {
   "cell_type": "code",
   "execution_count": null,
   "metadata": {},
   "outputs": [],
   "source": [
    "class Measurement:\n",
    "    def __init__(self): \n",
    "        self._value = self._roll_dice()\n",
    "    def __call__(self): \n",
    "        self._value = self._roll_dice()\n",
    "        return {\"measurement\": {\"unit\": \"H\", \"value\": self._value, \"independent_parameter\": False}}\n",
    "    def _roll_dice(self): \n",
    "        return np.random.normal(0, 1, (3,))\n",
    "    def value(self): \n",
    "        return self._value\n",
    "\n",
    "measurement_function = Measurement()\n",
    "\n",
    "# By allowing the sweep values to be a generator, we can create a feed-back loop between the sweep object and the \n",
    "# measurement.\n",
    "\n",
    "def sweep_values(): \n",
    "    value = 0.0\n",
    "    while value < 2.0:\n",
    "        yield value \n",
    "        value = np.sum(measurement_function.value())  # The next step depends on the measurement\n",
    "\n",
    "def setter(value): \n",
    "    return {\"dac_channel\": {\"unit\": \"H\", \"value\": \"{:.3}\".format(value), \"independent_parameter\": True}}\n",
    "\n",
    "for i in Nest([FunctionSweep(setter, sweep_values), FunctionWrapper(measurement_function)]): \n",
    "    pretty_print(i)"
   ]
  },
  {
   "cell_type": "markdown",
   "metadata": {},
   "source": [
    "We will loop until the sum of the measurement variables equal 2.0 or more. Since measurement values are three stochstics with a N(0, 1) distribution, the distribution of the sum is N(0, sqrt(3)). The probability of finding 2.0 or more: Z = 2/sqrt(3), which is equal to 12.51%. As the next cell shows, the expectation value of the number of iterations is therefore 8.0 iterations"
   ]
  },
  {
   "cell_type": "code",
   "execution_count": null,
   "metadata": {},
   "outputs": [],
   "source": [
    "def f(ni): # The probability of looping exactly ni times \n",
    "    p = 0.1251\n",
    "    return (1 - p)**(ni - 1) * p\n",
    "\n",
    "np.sum([ni*f(ni) for ni in range(1, 1000)])"
   ]
  },
  {
   "cell_type": "markdown",
   "metadata": {},
   "source": [
    "Lets see if this is correct "
   ]
  },
  {
   "cell_type": "code",
   "execution_count": null,
   "metadata": {},
   "outputs": [],
   "source": [
    "count = 0\n",
    "N = 10000\n",
    "for _ in range(N):\n",
    "    count += len(list(Nest([FunctionSweep(setter, sweep_values), FunctionWrapper(measurement_function)])))\n",
    "\n",
    "print(count/N)"
   ]
  },
  {
   "cell_type": "markdown",
   "metadata": {},
   "source": [
    ":-)"
   ]
  },
  {
   "cell_type": "code",
   "execution_count": null,
   "metadata": {},
   "outputs": [],
   "source": []
  }
 ],
 "metadata": {
  "kernelspec": {
   "display_name": "Python 3",
   "language": "python",
   "name": "python3"
  },
  "language_info": {
   "codemirror_mode": {
    "name": "ipython",
    "version": 3
   },
   "file_extension": ".py",
   "mimetype": "text/x-python",
   "name": "python",
   "nbconvert_exporter": "python",
   "pygments_lexer": "ipython3",
   "version": "3.6.3"
  }
 },
 "nbformat": 4,
 "nbformat_minor": 2
}
