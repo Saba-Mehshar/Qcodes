{
 "cells": [
  {
   "cell_type": "code",
   "execution_count": 2,
   "metadata": {},
   "outputs": [],
   "source": [
    "import numpy as np\n",
    "\n",
    "import qcodes as qc\n",
    "from qcodes.instrument.parameter import ManualParameter\n",
    "# Classes \n",
    "from qcodes.sweep.base_sweep import (\n",
    "    Nest, Zip, Chain, ParameterSweep, ParameterWrapper, FunctionSweep, FunctionWrapper\n",
    ")\n",
    "# Functions\n",
    "from qcodes.sweep import sweep, nest, chain"
   ]
  },
  {
   "cell_type": "code",
   "execution_count": 3,
   "metadata": {},
   "outputs": [],
   "source": [
    "\"\"\"\n",
    "We will first make a measurement-like class which, instead of saving results to file prints them to standard output\n",
    "\"\"\"\n",
    "\n",
    "class Printer:\n",
    "    def __init__(self, sweep_object): \n",
    "        self._ind, self._dep = sweep_object.parameter_table.flatten()\n",
    "        self._symbols_list = sweep_object.parameter_table.symbols_list()\n",
    "        \n",
    "    def __enter__(self): \n",
    "        header_ind = \"\\t\".join([\"{} [{}]\".format(*i) for i in self._ind.items()])\n",
    "        header_dep = \"\\t\".join([\"{} [{}]\".format(*i) for i in self._dep.items()])\n",
    "        sep = \" | \"\n",
    "        print((header_ind + sep + header_dep).strip(sep))\n",
    "        \n",
    "        return self\n",
    "    \n",
    "    def __exit__(self, type, value, traceback): \n",
    "        pass\n",
    "\n",
    "    def __call__(self, result):\n",
    "        print(\" \" + \"\\t \".join([str(result[ip]) for ip in self._symbols_list]))"
   ]
  },
  {
   "cell_type": "markdown",
   "metadata": {},
   "source": [
    "First, let us make some parameters"
   ]
  },
  {
   "cell_type": "code",
   "execution_count": 4,
   "metadata": {},
   "outputs": [],
   "source": [
    "x = ManualParameter(\"x\", unit=\"V\")\n",
    "x(1)\n",
    "\n",
    "y = ManualParameter(\"y\", unit=\"V\")\n",
    "y.get = lambda: x.get() ** 2 + 1"
   ]
  },
  {
   "cell_type": "markdown",
   "metadata": {},
   "source": [
    "A ParameterWrapper will make a sweep object out of a parameter. We can iterate over a sweep object a sweep object made with a ParameterWrapper will iterate once and return the get value "
   ]
  },
  {
   "cell_type": "code",
   "execution_count": 5,
   "metadata": {},
   "outputs": [
    {
     "name": "stdout",
     "output_type": "stream",
     "text": [
      "x [V]\n",
      " 1\n"
     ]
    }
   ],
   "source": [
    "sweep_object = ParameterWrapper(x)  # Make an iterable out of the parameter\n",
    "\n",
    "with Printer(sweep_object) as printer:\n",
    "    for i in sweep_object: # This will iterate once\n",
    "        printer(i)"
   ]
  },
  {
   "cell_type": "code",
   "execution_count": 6,
   "metadata": {},
   "outputs": [],
   "source": [
    "#help(ParameterWrapper)"
   ]
  },
  {
   "cell_type": "markdown",
   "metadata": {},
   "source": [
    "A ParameterSweep will make a sweep object which will iterate over the array returned by the second argument and set the parameter for each value in the array sequentially. "
   ]
  },
  {
   "cell_type": "code",
   "execution_count": 7,
   "metadata": {},
   "outputs": [
    {
     "name": "stdout",
     "output_type": "stream",
     "text": [
      "x [V]\n",
      " 0\n",
      " 1\n",
      " 2\n"
     ]
    }
   ],
   "source": [
    "sweep_object = ParameterSweep(x, lambda: [0, 1, 2])\n",
    "\n",
    "with Printer(sweep_object) as printer:\n",
    "    for i in sweep_object: \n",
    "        printer(i)"
   ]
  },
  {
   "cell_type": "markdown",
   "metadata": {},
   "source": [
    "A nest can be regarded as a carthesian product  $$\\begin{bmatrix}x_1\\\\x_2\\\\x_3\\\\x_4\\end{bmatrix} \\times \\begin{bmatrix}a()\\end{bmatrix}=\\begin{bmatrix}x_1a()\\\\x_2a()\\\\x_3a()\\\\x_4a()\\end{bmatrix}$$ \n",
    "\n",
    "where $x_n$ is a set point n of $x$ and $a()$ represents a measurement"
   ]
  },
  {
   "cell_type": "code",
   "execution_count": 8,
   "metadata": {},
   "outputs": [
    {
     "name": "stdout",
     "output_type": "stream",
     "text": [
      "x [V] | y [V]\n",
      " 0\t 1\n",
      " 1\t 2\n",
      " 2\t 5\n"
     ]
    }
   ],
   "source": [
    "sweep_object = Nest([ParameterSweep(x, lambda: [0, 1, 2]), ParameterWrapper(y)])\n",
    "\n",
    "with Printer(sweep_object) as printer:\n",
    "    for i in sweep_object: \n",
    "        printer(i)"
   ]
  },
  {
   "cell_type": "markdown",
   "metadata": {},
   "source": [
    "A 2D nest can be written as  \n",
    "\n",
    "$$\\begin{bmatrix}x_1\\\\x_2\\\\x_3\\\\x_4\\end{bmatrix} \\times \\begin{bmatrix}y_1&y_2&y_3&y_4\\end{bmatrix}\\times\\begin{bmatrix}a()\\end{bmatrix}=\\begin{bmatrix}x_1y_1a()&x_1y_2a()&x_1y_3a()&x_1y_4a()\\\\x_2y_1a()&x_2y_2a()&x_2y_3a()&x_2y_4a()\\\\x_3y_1a()&x_3y_2a()&x_3y_3a()&x_3y_4a()\\\\x_4y_1a()&x_4y_2a()&x_4y_3a()&x_4y_4a()\\end{bmatrix}$$ \n",
    "\n",
    "where $x_n$ is a set point n of $x$ and $y_m$ represents a set point m of $y$. Also, $a()$ are measurements. The order in which the indices are returned in the loop is $x_1y_1a(), x_1y_2a(), x_1y_3a()$ etc"
   ]
  },
  {
   "cell_type": "code",
   "execution_count": 9,
   "metadata": {},
   "outputs": [
    {
     "name": "stdout",
     "output_type": "stream",
     "text": [
      "x [V]\ty [V] | z [I]\n",
      " 0\t 0\t 0\n",
      " 0\t 1\t 2\n",
      " 0\t 2\t 8\n",
      " 0\t 4\t 32\n",
      " 1\t 0\t 1\n",
      " 1\t 1\t 3\n",
      " 1\t 2\t 9\n",
      " 1\t 4\t 33\n",
      " 2\t 0\t 4\n",
      " 2\t 1\t 6\n",
      " 2\t 2\t 12\n",
      " 2\t 4\t 36\n",
      " 4\t 0\t 16\n",
      " 4\t 1\t 18\n",
      " 4\t 2\t 24\n",
      " 4\t 4\t 48\n"
     ]
    }
   ],
   "source": [
    "x = ManualParameter(\"x\", unit=\"V\")\n",
    "x(1)\n",
    "\n",
    "y = ManualParameter(\"y\", unit=\"V\")\n",
    "y(3)\n",
    "\n",
    "z = ManualParameter(\"z\", unit=\"I\")\n",
    "z.get = lambda: x()**2 + 2*y()**2\n",
    "\n",
    "sweep_object = Nest([\n",
    "    ParameterSweep(x, lambda: [0, 1, 2, 4]), \n",
    "    ParameterSweep(y, lambda: [0, 1, 2, 4]), \n",
    "    ParameterWrapper(z)\n",
    "])\n",
    "\n",
    "with Printer(sweep_object) as printer:\n",
    "    for i in sweep_object: \n",
    "        printer(i)"
   ]
  },
  {
   "cell_type": "markdown",
   "metadata": {},
   "source": [
    "With a \"Chain\" operator we can make a sweep as follows: $$\\begin{bmatrix}x_1\\\\x_2\\\\x_3\\\\x_4\\end{bmatrix} \\times \\left[\\begin{bmatrix}y()\\end{bmatrix}+\\begin{bmatrix}z()\\end{bmatrix}\\right]=\\begin{bmatrix}x_1y()&x_1z()\\\\x_2y()&x_2z()\\\\x_3y()&x_3z()\\\\x_4y()&x_4z()\\end{bmatrix}$$ \n",
    "\n",
    "where $x_n$ is a set point n of $x$ and $y()$ represents a measurement of $y$. The order in which the elements are returned when we unroll the loop is $x_1y(), x_1z(), x_2y(), x_2z()$ etc"
   ]
  },
  {
   "cell_type": "code",
   "execution_count": 11,
   "metadata": {},
   "outputs": [
    {
     "name": "stdout",
     "output_type": "stream",
     "text": [
      "x [V] | y [V]\tz [I]\n",
      " 0\t 3\t None\n",
      " 0\t None\t 2\n",
      " 1\t 4\t None\n",
      " 1\t None\t 3\n",
      " 2\t 5\t None\n",
      " 2\t None\t 6\n",
      " 3\t 6\t None\n",
      " 3\t None\t 11\n"
     ]
    }
   ],
   "source": [
    "x = ManualParameter(\"x\", unit=\"V\")\n",
    "x(1)\n",
    "\n",
    "y = ManualParameter(\"y\", unit=\"V\")\n",
    "y.get = lambda: x() + 3\n",
    "\n",
    "z = ManualParameter(\"z\", unit=\"I\")\n",
    "z.get = lambda: x()**2 + 2\n",
    "\n",
    "sweep_object = Nest([\n",
    "    ParameterSweep(x, lambda: [0, 1, 2, 3]), \n",
    "    Chain([\n",
    "        ParameterWrapper(y), \n",
    "        ParameterWrapper(z) \n",
    "    ])\n",
    "])\n",
    "\n",
    "with Printer(sweep_object) as printer:\n",
    "    for i in sweep_object: \n",
    "        printer(i)"
   ]
  },
  {
   "cell_type": "markdown",
   "metadata": {},
   "source": [
    "With a \"Chain\" operator we can make a sweep as follows: $$\\begin{bmatrix}x_1\\\\x_2\\\\x_3\\\\x_4\\end{bmatrix} \\times \\left[\\begin{bmatrix}y()\\end{bmatrix}+\\begin{bmatrix}x_1\\\\x_2\\\\x_3\\\\x_4\\end{bmatrix}\\times\\begin{bmatrix}z()\\end{bmatrix}\\right]=\\begin{bmatrix}x_1y()&x_1z()\\\\x_2y()&x_2z()\\\\x_3y()&x_3z()\\\\x_4y()&x_4z()\\end{bmatrix}$$ \n",
    "\n",
    "where $x_n$ is a set point n of $x$ and $y()$ represents a measurement of $y$. The order in which the elements are returned when we unroll the loop is $x_1y(), x_1z(), x_2y(), x_2z()$ etc"
   ]
  },
  {
   "cell_type": "markdown",
   "metadata": {},
   "source": [
    "# Disallowed constructions  \n",
    "\n",
    "The last sweep object in the nest should always be either a ParameterWrapper, or a Chain operator. Sweep objects other then the last one may *never* be a ParameterWrapper or a Chain operator"
   ]
  },
  {
   "cell_type": "code",
   "execution_count": null,
   "metadata": {},
   "outputs": [],
   "source": []
  }
 ],
 "metadata": {
  "kernelspec": {
   "display_name": "Python 3",
   "language": "python",
   "name": "python3"
  },
  "language_info": {
   "codemirror_mode": {
    "name": "ipython",
    "version": 3
   },
   "file_extension": ".py",
   "mimetype": "text/x-python",
   "name": "python",
   "nbconvert_exporter": "python",
   "pygments_lexer": "ipython3",
   "version": "3.6.5"
  }
 },
 "nbformat": 4,
 "nbformat_minor": 2
}
