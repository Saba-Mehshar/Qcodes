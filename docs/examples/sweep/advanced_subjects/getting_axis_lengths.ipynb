{
 "cells": [
  {
   "cell_type": "markdown",
   "metadata": {},
   "source": [
    "# Finding axis lengths and other info from sweep objects \n",
    "\n",
    "To facilitate real time plotting, it is useful to know the layout of the data to be plotted before the sweep is run. With the layout of the data we mean: \n",
    "\n",
    "1. The length of the axes \n",
    "2. The min/max value of the axes \n",
    "3. The step value of the axes \n",
    "\n",
    "It is not always possible to infer these parameters before hand. This notebook explains when it is and isnt possible and how to retrieve this info when available "
   ]
  },
  {
   "cell_type": "code",
   "execution_count": 10,
   "metadata": {},
   "outputs": [],
   "source": [
    "import numpy as np\n",
    "import matplotlib.pyplot as plt\n",
    "\n",
    "from qcodes import new_experiment\n",
    "from qcodes.dataset.plotting import plot_by_id\n",
    "from qcodes.instrument.parameter import ManualParameter\n",
    "from qcodes.sweep import sweep, setter, run"
   ]
  },
  {
   "cell_type": "code",
   "execution_count": 2,
   "metadata": {},
   "outputs": [],
   "source": [
    "experiment = new_experiment(\"sweep_introduction\", sample_name=\"intro\")"
   ]
  },
  {
   "cell_type": "code",
   "execution_count": 3,
   "metadata": {},
   "outputs": [],
   "source": [
    "x = ManualParameter(\"x\")\n",
    "y = ManualParameter(\"y\")\n",
    "\n",
    "m = ManualParameter(\"m\")\n",
    "m.get = lambda:np.sin(x())\n",
    "\n",
    "n = ManualParameter(\"n\")\n",
    "n.get = lambda:np.sin(x()**2 + y())"
   ]
  },
  {
   "cell_type": "markdown",
   "metadata": {},
   "source": [
    "Data layout information is only available if we use the convenience functions (e.g. the function sweep instead of the class Sweep). Furthermore, the second argument of the sweep functions needs to have a well defined length, such as a list or a numpy array"
   ]
  },
  {
   "cell_type": "code",
   "execution_count": 4,
   "metadata": {},
   "outputs": [],
   "source": [
    "sweep_object = sweep(x, np.linspace(-4, 4, 100))(\n",
    "    m, \n",
    "    sweep(y, np.linspace(-3, 5, 100))(\n",
    "        n\n",
    "    )\n",
    ")"
   ]
  },
  {
   "cell_type": "code",
   "execution_count": 5,
   "metadata": {},
   "outputs": [
    {
     "data": {
      "text/plain": [
       "{'x': {'min': -4.0, 'max': 4.0, 'length': 100, 'steps': 0.080808080800000001}}"
      ]
     },
     "execution_count": 5,
     "metadata": {},
     "output_type": "execute_result"
    }
   ],
   "source": [
    "sweep_object.parameter_table.layout_info(\"m\")"
   ]
  },
  {
   "cell_type": "code",
   "execution_count": 6,
   "metadata": {},
   "outputs": [
    {
     "data": {
      "text/plain": [
       "{'x': {'min': -4.0, 'max': 4.0, 'length': 100, 'steps': 0.080808080800000001},\n",
       " 'y': {'min': -3.0, 'max': 5.0, 'length': 100, 'steps': 0.080808080800000001}}"
      ]
     },
     "execution_count": 6,
     "metadata": {},
     "output_type": "execute_result"
    }
   ],
   "source": [
    "sweep_object.parameter_table.layout_info(\"n\")"
   ]
  },
  {
   "cell_type": "markdown",
   "metadata": {},
   "source": [
    "We can only determine min/max and step values if the set points contain numeric values."
   ]
  },
  {
   "cell_type": "code",
   "execution_count": 7,
   "metadata": {},
   "outputs": [
    {
     "name": "stdout",
     "output_type": "stream",
     "text": [
      "{'x': {'min': '?', 'max': '?', 'length': 100, 'steps': '?'}}\n"
     ]
    }
   ],
   "source": [
    "x_setpoints = [object() for _ in range(100)]\n",
    "\n",
    "sweep_object = sweep(x, x_setpoints)(\n",
    "    m, \n",
    "    sweep(y, np.linspace(-3, 5, 100))(\n",
    "        n\n",
    "    )\n",
    ")\n",
    "\n",
    "print(sweep_object.parameter_table.layout_info(\"m\"))"
   ]
  },
  {
   "cell_type": "markdown",
   "metadata": {},
   "source": [
    "For step determination we also need to have uniform spacing between the setpoints "
   ]
  },
  {
   "cell_type": "code",
   "execution_count": 8,
   "metadata": {},
   "outputs": [
    {
     "name": "stdout",
     "output_type": "stream",
     "text": [
      "{'x': {'min': -2.9434716184885423, 'max': 1.7304857582877293, 'length': 100, 'steps': '?'}}\n"
     ]
    }
   ],
   "source": [
    "x_setpoints = np.random.normal(-1, 1, 100)\n",
    "\n",
    "sweep_object = sweep(x, x_setpoints)(\n",
    "    m, \n",
    "    sweep(y, np.linspace(-3, 5, 100))(\n",
    "        n\n",
    "    )\n",
    ")\n",
    "\n",
    "print(sweep_object.parameter_table.layout_info(\"m\"))"
   ]
  },
  {
   "cell_type": "markdown",
   "metadata": {},
   "source": [
    "Sometimes are cannot derive a length at all "
   ]
  },
  {
   "cell_type": "code",
   "execution_count": 9,
   "metadata": {},
   "outputs": [
    {
     "name": "stdout",
     "output_type": "stream",
     "text": [
      "{'x': {'min': '?', 'max': '?', 'length': '?', 'steps': '?'}}\n"
     ]
    }
   ],
   "source": [
    "x_setpoints = (i for i in np.random.normal(-1, 1, 100))\n",
    "\n",
    "sweep_object = sweep(x, x_setpoints)(\n",
    "    m, \n",
    "    sweep(y, np.linspace(-3, 5, 100))(\n",
    "        n\n",
    "    )\n",
    ")\n",
    "\n",
    "print(sweep_object.parameter_table.layout_info(\"m\"))"
   ]
  },
  {
   "cell_type": "markdown",
   "metadata": {},
   "source": [
    "Finally, if our data is dependent on an inferred parameter, it becomes impossible te determine its minimum, maximum and step values. "
   ]
  },
  {
   "cell_type": "code",
   "execution_count": 14,
   "metadata": {},
   "outputs": [
    {
     "name": "stdout",
     "output_type": "stream",
     "text": [
      "{'x_mv': {'min': '?', 'max': '?', 'length': 100, 'steps': '?'}}\n"
     ]
    }
   ],
   "source": [
    "@setter([(\"x\", \"V\")], inferred_parameters=[(\"x_mv\", \"mV\")])\n",
    "def mysetter(xv): \n",
    "    return xv * 1000\n",
    "\n",
    "x_setpoints = np.linspace(-4, 4, 100)\n",
    "\n",
    "sweep_object = sweep(mysetter, x_setpoints)(\n",
    "    m, \n",
    "    sweep(y, np.linspace(-3, 5, 100))(\n",
    "        n\n",
    "    )\n",
    ")\n",
    "\n",
    "print(sweep_object.parameter_table.layout_info(\"m\"))"
   ]
  },
  {
   "cell_type": "code",
   "execution_count": 1,
   "metadata": {},
   "outputs": [],
   "source": [
    "import collections"
   ]
  },
  {
   "cell_type": "code",
   "execution_count": 2,
   "metadata": {},
   "outputs": [
    {
     "data": {
      "text/plain": [
       "collections.abc.Iterable"
      ]
     },
     "execution_count": 2,
     "metadata": {},
     "output_type": "execute_result"
    }
   ],
   "source": [
    "collections.Iterable"
   ]
  },
  {
   "cell_type": "code",
   "execution_count": 4,
   "metadata": {},
   "outputs": [
    {
     "data": {
      "text/plain": [
       "True"
      ]
     },
     "execution_count": 4,
     "metadata": {},
     "output_type": "execute_result"
    }
   ],
   "source": [
    "a = (1, )\n",
    "\n",
    "isinstance(a, collections.Iterable)"
   ]
  },
  {
   "cell_type": "code",
   "execution_count": null,
   "metadata": {},
   "outputs": [],
   "source": []
  }
 ],
 "metadata": {
  "kernelspec": {
   "display_name": "Python 3",
   "language": "python",
   "name": "python3"
  },
  "language_info": {
   "codemirror_mode": {
    "name": "ipython",
    "version": 3
   },
   "file_extension": ".py",
   "mimetype": "text/x-python",
   "name": "python",
   "nbconvert_exporter": "python",
   "pygments_lexer": "ipython3",
   "version": "3.6.5"
  }
 },
 "nbformat": 4,
 "nbformat_minor": 2
}
