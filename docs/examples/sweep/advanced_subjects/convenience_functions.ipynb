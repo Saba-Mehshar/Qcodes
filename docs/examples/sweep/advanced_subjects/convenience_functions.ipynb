{
 "cells": [
  {
   "cell_type": "code",
   "execution_count": 1,
   "metadata": {},
   "outputs": [],
   "source": [
    "import numpy as np\n",
    "import time \n",
    "\n",
    "import qcodes as qc\n",
    "from qcodes.instrument.parameter import ManualParameter\n",
    "\n",
    "from qcodes.sweep import sweep, nest, chain, szip, getter, setter\n",
    "from qcodes.sweep.sweep import BaseSweepObject, ParametersTable, wrap_objects, time_trace\n",
    "\n",
    "from qcodes.sweep.sweep import (\n",
    "    Nest, Zip, Chain, ParameterSweep, ParameterWrapper, FunctionSweep, FunctionWrapper\n",
    ")"
   ]
  },
  {
   "cell_type": "code",
   "execution_count": 2,
   "metadata": {},
   "outputs": [],
   "source": [
    "class Printer:\n",
    "    def __init__(self, sweep_object): \n",
    "        self._ind, self._dep = sweep_object.parameter_table.flatten()\n",
    "        self._symbols_list = sweep_object.parameter_table.symbols_list()\n",
    "        self._inferred_symbols_list = sweep_object.parameter_table.inferred_symbols_list()\n",
    "        \n",
    "    def __enter__(self): \n",
    "        header_ind = \"\\t\".join([\"{} [{}]\".format(*i) for i in self._ind.items()])\n",
    "        header_dep = \"\\t\".join([\"{} [{}]\".format(*i) for i in self._dep.items()])\n",
    "        sep = \" | \"\n",
    "        \n",
    "        print(self._inferred_symbols_list)\n",
    "        print((header_ind + sep + header_dep).strip(sep))\n",
    "        \n",
    "        return self\n",
    "    \n",
    "    def __exit__(self, type, value, traceback): \n",
    "        pass\n",
    "\n",
    "    def __call__(self, result):\n",
    "        print(\" \" + \"\\t \".join([str(result[ip]) for ip in self._symbols_list]))"
   ]
  },
  {
   "cell_type": "markdown",
   "metadata": {},
   "source": [
    "Lets define some parameters and functions to sweep over"
   ]
  },
  {
   "cell_type": "code",
   "execution_count": 3,
   "metadata": {},
   "outputs": [],
   "source": [
    "x = ManualParameter(\"x\", unit=\"V\")\n",
    "y = ManualParameter(\"y\", unit=\"V\")\n",
    "\n",
    "m = ManualParameter(\"m\", unit=\"A\")\n",
    "m.get = lambda: x() ** 2\n",
    "\n",
    "n = ManualParameter(\"n\", unit=\"A\")\n",
    "n.get = lambda: x() - y() ** 2 + 16"
   ]
  },
  {
   "cell_type": "markdown",
   "metadata": {},
   "source": [
    "Convinience functions and other [syntactic sugar](https://en.wikipedia.org/wiki/Syntactic_sugar) has been developed to simplify writing complext loops. The following sweep objects as equivalent: "
   ]
  },
  {
   "cell_type": "code",
   "execution_count": 4,
   "metadata": {},
   "outputs": [
    {
     "name": "stdout",
     "output_type": "stream",
     "text": [
      "\n",
      "x [V]\ty [V] | m [A]\tn [A]\n",
      " 0\t None\t 0\t None\n",
      " 0\t 0\t None\t 16\n",
      " 0\t 2\t None\t 12\n",
      " 0\t 4\t None\t 0\n",
      " 1\t None\t 1\t None\n",
      " 1\t 0\t None\t 17\n",
      " 1\t 2\t None\t 13\n",
      " 1\t 4\t None\t 1\n",
      " 2\t None\t 4\t None\n",
      " 2\t 0\t None\t 18\n",
      " 2\t 2\t None\t 14\n",
      " 2\t 4\t None\t 2\n"
     ]
    }
   ],
   "source": [
    "# Can someone understand what the hell this means? \n",
    "sweep_object_1 = Nest([\n",
    "    ParameterSweep(x, lambda: [0, 1, 2]), \n",
    "    Chain([\n",
    "        ParameterWrapper(m), \n",
    "        Nest([\n",
    "            ParameterSweep(y, lambda: [0, 2, 4]), \n",
    "            ParameterWrapper(n)\n",
    "        ])\n",
    "    ])\n",
    "])\n",
    "# Lets unloop to see what it does \n",
    "with Printer(sweep_object_1) as printer:\n",
    "    for i in sweep_object_1:   \n",
    "        printer(i)"
   ]
  },
  {
   "cell_type": "code",
   "execution_count": 5,
   "metadata": {},
   "outputs": [
    {
     "data": {
      "text/plain": [
       "\n",
       "x [V]|m [A]\n",
       "x [V],y [V]|n [A]"
      ]
     },
     "execution_count": 5,
     "metadata": {},
     "output_type": "execute_result"
    }
   ],
   "source": [
    "sweep_object_1._parameter_table"
   ]
  },
  {
   "cell_type": "code",
   "execution_count": 6,
   "metadata": {},
   "outputs": [
    {
     "name": "stdout",
     "output_type": "stream",
     "text": [
      "\n",
      "x [V]\ty [V] | m [A]\tn [A]\n",
      " 0\t None\t 0\t None\n",
      " 0\t 0\t None\t 16\n",
      " 0\t 2\t None\t 12\n",
      " 0\t 4\t None\t 0\n",
      " 1\t None\t 1\t None\n",
      " 1\t 0\t None\t 17\n",
      " 1\t 2\t None\t 13\n",
      " 1\t 4\t None\t 1\n",
      " 2\t None\t 4\t None\n",
      " 2\t 0\t None\t 18\n",
      " 2\t 2\t None\t 14\n",
      " 2\t 4\t None\t 2\n"
     ]
    }
   ],
   "source": [
    "# Lets write the same thing in a slightly more convinient way \n",
    "sweep_object_2 = nest(\n",
    "    sweep(x, [0, 1, 2]), \n",
    "    chain(\n",
    "        m, \n",
    "        nest(\n",
    "            sweep(y,[0, 2, 4]), \n",
    "            n\n",
    "        )\n",
    "    )\n",
    ")\n",
    "\n",
    "# Lets unloop to see what it does \n",
    "with Printer(sweep_object_2) as printer:\n",
    "    for i in sweep_object_2:   \n",
    "        printer(i)"
   ]
  },
  {
   "cell_type": "markdown",
   "metadata": {},
   "source": [
    "### what we lean: \n",
    "1) The function sweep (with small \"s\") either returns a Parameter sweep or a Function sweep class depending on the argument types\n",
    "\n",
    "2) The range argument for the *classes* Parameter sweep and Function sweep are lambda functions, while for the sweep *function* this can be a simple list or numpy array (or infact any other iterable such as a generator)\n",
    "\n",
    "3) The arguments to the Nest and Chain classes are lists, while for the nest and chain functions are function arguments\n",
    "\n",
    "4) While the Parameter sweep and Function sweep classes expect arguments of qcodes parameter type and callables to be wrapped by ParameterWrapper and FunctionWrapper respectively, the sweep functions wraps these automatically"
   ]
  },
  {
   "cell_type": "code",
   "execution_count": 7,
   "metadata": {},
   "outputs": [
    {
     "name": "stdout",
     "output_type": "stream",
     "text": [
      "\n",
      "x [V]\ty [V] | m [A]\tn [A]\n",
      " 0\t None\t 0\t None\n",
      " 0\t 0\t None\t 16\n",
      " 0\t 2\t None\t 12\n",
      " 0\t 4\t None\t 0\n",
      " 1\t None\t 1\t None\n",
      " 1\t 0\t None\t 17\n",
      " 1\t 2\t None\t 13\n",
      " 1\t 4\t None\t 1\n",
      " 2\t None\t 4\t None\n",
      " 2\t 0\t None\t 18\n",
      " 2\t 2\t None\t 14\n",
      " 2\t 4\t None\t 2\n"
     ]
    }
   ],
   "source": [
    "# Finally, we can also just write...\n",
    "sweep_object = sweep(x, [0, 1, 2])(\n",
    "    m,\n",
    "    sweep(y, [0, 2, 4])(\n",
    "        n  \n",
    "    )\n",
    ")\n",
    "\n",
    "with Printer(sweep_object) as printer:\n",
    "    for i in sweep_object:   \n",
    "        printer(i)"
   ]
  },
  {
   "cell_type": "markdown",
   "metadata": {},
   "source": [
    "### what we lean: \n",
    "1) A sweep object is callable. We have the following rule: `sweep_object(m)` is the same as `nest(sweep_object, m)`. This saves us from writing \"nest\".\n",
    "\n",
    "2) Furthermore, `sweep_object(m, n)` is the same as `nest(sweep_object, chain(m, n))`. Implicit chaining reduces the bracket level and saves us from writing \"chain\". "
   ]
  },
  {
   "cell_type": "code",
   "execution_count": null,
   "metadata": {},
   "outputs": [],
   "source": []
  }
 ],
 "metadata": {
  "kernelspec": {
   "display_name": "Python 3",
   "language": "python",
   "name": "python3"
  },
  "language_info": {
   "codemirror_mode": {
    "name": "ipython",
    "version": 3
   },
   "file_extension": ".py",
   "mimetype": "text/x-python",
   "name": "python",
   "nbconvert_exporter": "python",
   "pygments_lexer": "ipython3",
   "version": "3.6.5"
  }
 },
 "nbformat": 4,
 "nbformat_minor": 2
}
