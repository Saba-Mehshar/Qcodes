{
 "cells": [
  {
   "cell_type": "markdown",
   "metadata": {},
   "source": [
    "# Parameter tables\n",
    "\n",
    "This notebook explains how the parameter table works. With this table a sweep object keeps track of which parameters there are and how they are dependent on each other. We also keep track of inferred parameters through this table "
   ]
  },
  {
   "cell_type": "code",
   "execution_count": 40,
   "metadata": {},
   "outputs": [],
   "source": [
    "import numpy as np\n",
    "import matplotlib.pyplot as plt\n",
    "\n",
    "from qcodes import new_experiment\n",
    "from qcodes.dataset.plotting import plot_by_id\n",
    "from qcodes.instrument.parameter import ManualParameter\n",
    "from qcodes.sweep import sweep, chain, nest, setter"
   ]
  },
  {
   "cell_type": "code",
   "execution_count": 29,
   "metadata": {},
   "outputs": [],
   "source": [
    "x = ManualParameter(\"x\", unit=\"V\")\n",
    "y = ManualParameter(\"y\", unit=\"I\")\n",
    "\n",
    "m = ManualParameter(\"m\", unit=\"R\")\n",
    "m.get = lambda:np.sin(x())\n",
    "\n",
    "n = ManualParameter(\"n\", unit=\"R\")\n",
    "n.get = lambda:np.sin(x()**2 + y())"
   ]
  },
  {
   "cell_type": "markdown",
   "metadata": {},
   "source": [
    "Let us see how the parameters table of a simple sweep object looks like "
   ]
  },
  {
   "cell_type": "code",
   "execution_count": 30,
   "metadata": {},
   "outputs": [
    {
     "data": {
      "text/plain": [
       "[{'dependent_parameters': [], 'independent_parameters': [('x', 'V')]}]"
      ]
     },
     "execution_count": 30,
     "metadata": {},
     "output_type": "execute_result"
    }
   ],
   "source": [
    "sweep(x, np.linspace(-4, 4, 100)).parameter_table._table_list"
   ]
  },
  {
   "cell_type": "markdown",
   "metadata": {},
   "source": [
    "We see that internally, the parameters table is composed out of a list of dictionaries. All dependent parameters in this dictionary are dependent on all independent parameters of the same dictionary "
   ]
  },
  {
   "cell_type": "markdown",
   "metadata": {},
   "source": [
    "Next, we will nest a measurement in the sweep objects and observe how the table changes "
   ]
  },
  {
   "cell_type": "code",
   "execution_count": 31,
   "metadata": {},
   "outputs": [
    {
     "data": {
      "text/plain": [
       "[{'dependent_parameters': [('m', 'R')],\n",
       "  'independent_parameters': [('x', 'V')]}]"
      ]
     },
     "execution_count": 31,
     "metadata": {},
     "output_type": "execute_result"
    }
   ],
   "source": [
    "nest(sweep(x, np.linspace(-4, 4, 100)), m).parameter_table._table_list"
   ]
  },
  {
   "cell_type": "markdown",
   "metadata": {},
   "source": [
    "We see that we have introduced a dependent parameter by nesting a measurement in a simple sweep. Let us nest two simple sweeps..."
   ]
  },
  {
   "cell_type": "code",
   "execution_count": 32,
   "metadata": {},
   "outputs": [
    {
     "data": {
      "text/plain": [
       "[{'dependent_parameters': [],\n",
       "  'independent_parameters': [('x', 'V'), ('y', 'I')]}]"
      ]
     },
     "execution_count": 32,
     "metadata": {},
     "output_type": "execute_result"
    }
   ],
   "source": [
    "nest(\n",
    "    sweep(x, np.linspace(-4, 4, 100)), \n",
    "    sweep(y, np.linspace(-4, 4, 100))\n",
    ").parameter_table._table_list"
   ]
  },
  {
   "cell_type": "code",
   "execution_count": 33,
   "metadata": {},
   "outputs": [
    {
     "data": {
      "text/plain": [
       "[{'dependent_parameters': [('m', 'R')],\n",
       "  'independent_parameters': [('x', 'V'), ('y', 'I')]}]"
      ]
     },
     "execution_count": 33,
     "metadata": {},
     "output_type": "execute_result"
    }
   ],
   "source": [
    "nest(\n",
    "    sweep(x, np.linspace(-4, 4, 100)), \n",
    "    sweep(y, np.linspace(-4, 4, 100)), \n",
    "    m \n",
    ").parameter_table._table_list"
   ]
  },
  {
   "cell_type": "markdown",
   "metadata": {},
   "source": [
    "We see that now \"m\" is dependent on both \"x\" and \"y\". Lets see what effect chaining has "
   ]
  },
  {
   "cell_type": "code",
   "execution_count": 34,
   "metadata": {},
   "outputs": [
    {
     "data": {
      "text/plain": [
       "[{'dependent_parameters': [], 'independent_parameters': [('x', 'V')]},\n",
       " {'dependent_parameters': [], 'independent_parameters': [('y', 'I')]}]"
      ]
     },
     "execution_count": 34,
     "metadata": {},
     "output_type": "execute_result"
    }
   ],
   "source": [
    "chain(\n",
    "    sweep(x, np.linspace(-4, 4, 100)), \n",
    "    sweep(y, np.linspace(-4, 4, 100))\n",
    ").parameter_table._table_list"
   ]
  },
  {
   "cell_type": "code",
   "execution_count": 36,
   "metadata": {},
   "outputs": [
    {
     "data": {
      "text/plain": [
       "[{'dependent_parameters': [('m', 'R')], 'independent_parameters': []},\n",
       " {'dependent_parameters': [('n', 'R')], 'independent_parameters': []}]"
      ]
     },
     "execution_count": 36,
     "metadata": {},
     "output_type": "execute_result"
    }
   ],
   "source": [
    "chain(m, n).parameter_table._table_list"
   ]
  },
  {
   "cell_type": "markdown",
   "metadata": {},
   "source": [
    "Chaining has the effect of creating two subtables. If we consider the nesting operation to be equivalent to a multiplication and chaining as equivalent to summation, then the [distributive property](https://en.wikipedia.org/wiki/Distributive_property) applies to the parameter table. That is: \n",
    "\n",
    "```\n",
    "table1 * (table2 + table3) = table1 * table2 + table1 * table 3\n",
    "```"
   ]
  },
  {
   "cell_type": "code",
   "execution_count": 37,
   "metadata": {},
   "outputs": [
    {
     "data": {
      "text/plain": [
       "[{'dependent_parameters': [('m', 'R')],\n",
       "  'independent_parameters': [('x', 'V')]},\n",
       " {'dependent_parameters': [('n', 'R')],\n",
       "  'independent_parameters': [('x', 'V')]}]"
      ]
     },
     "execution_count": 37,
     "metadata": {},
     "output_type": "execute_result"
    }
   ],
   "source": [
    "nest(\n",
    "    sweep(x, np.linspace(-4, 4, 100)), \n",
    "    chain(m, n)  \n",
    ").parameter_table._table_list"
   ]
  },
  {
   "cell_type": "markdown",
   "metadata": {},
   "source": [
    "This is equivelent to \n",
    "```python\n",
    "for x in np.linspace(-4, 4, 100): \n",
    "    m()\n",
    "    n()\n",
    "```"
   ]
  },
  {
   "cell_type": "code",
   "execution_count": 38,
   "metadata": {},
   "outputs": [
    {
     "data": {
      "text/plain": [
       "[{'dependent_parameters': [('m', 'R')],\n",
       "  'independent_parameters': [('x', 'V')]},\n",
       " {'dependent_parameters': [('n', 'R')],\n",
       "  'independent_parameters': [('x', 'V')]}]"
      ]
     },
     "execution_count": 38,
     "metadata": {},
     "output_type": "execute_result"
    }
   ],
   "source": [
    "chain(\n",
    "    nest(sweep(x, np.linspace(-4, 4, 100)), m), \n",
    "    nest(sweep(x, np.linspace(-4, 4, 100)), n)\n",
    ").parameter_table._table_list"
   ]
  },
  {
   "cell_type": "markdown",
   "metadata": {},
   "source": [
    "This is equivelent to \n",
    "```python\n",
    "for x in np.linspace(-4, 4, 100):\n",
    "    m()\n",
    "    \n",
    "for x in np.linspace(-4, 4, 100):\n",
    "    n()\n",
    "```\n",
    "\n",
    "We see that the distributive property holds and that in both instances we have created parameter \"m\" which only depends on \"x\" and another parameter \"n\" which likewise only depends on \"x\""
   ]
  },
  {
   "cell_type": "markdown",
   "metadata": {},
   "source": [
    "## inferred parameters\n",
    "\n",
    "In this section we discuss how the parameters table deals with inferred parameters. Let's create one first..."
   ]
  },
  {
   "cell_type": "code",
   "execution_count": 41,
   "metadata": {},
   "outputs": [],
   "source": [
    "@setter([(\"x\", \"V\")], inferred_parameters=[(\"x_mv\", \"mV\")])\n",
    "def mysetter(xv): \n",
    "    return xv * 1000"
   ]
  },
  {
   "cell_type": "code",
   "execution_count": 42,
   "metadata": {},
   "outputs": [],
   "source": [
    "x_setpoints = np.linspace(-4, 4, 100)\n",
    "\n",
    "sweep_object = sweep(mysetter, x_setpoints)(\n",
    "    m, \n",
    "    sweep(y, np.linspace(-3, 5, 100))(\n",
    "        n\n",
    "    )\n",
    ")"
   ]
  },
  {
   "cell_type": "code",
   "execution_count": 43,
   "metadata": {},
   "outputs": [
    {
     "data": {
      "text/plain": [
       "[{'dependent_parameters': [('m', 'R')],\n",
       "  'independent_parameters': [('x', 'V'), ('x_mv', 'mV')]},\n",
       " {'dependent_parameters': [('n', 'R')],\n",
       "  'independent_parameters': [('x', 'V'), ('x_mv', 'mV'), ('y', 'I')]}]"
      ]
     },
     "execution_count": 43,
     "metadata": {},
     "output_type": "execute_result"
    }
   ],
   "source": [
    "sweep_object.parameter_table._table_list"
   ]
  },
  {
   "cell_type": "markdown",
   "metadata": {},
   "source": [
    "We see that both the original parameter and the inferred parameter are listed as independent. A separate dictionary in the parameter table keeps track of inferred parameters "
   ]
  },
  {
   "cell_type": "code",
   "execution_count": 44,
   "metadata": {},
   "outputs": [
    {
     "data": {
      "text/plain": [
       "{'x_mv': ['x']}"
      ]
     },
     "execution_count": 44,
     "metadata": {},
     "output_type": "execute_result"
    }
   ],
   "source": [
    "sweep_object.parameter_table.inferred_from_dict"
   ]
  },
  {
   "cell_type": "markdown",
   "metadata": {},
   "source": [
    "Note that when we create the paramspecs, we will register the dependent parameters \"m\" and \"n\" to only depend on \"x_mv\" and *not* on both \"x\" and \"x_mv\". We will register \"x_mv\" as being inferred from \"x\""
   ]
  },
  {
   "cell_type": "code",
   "execution_count": null,
   "metadata": {},
   "outputs": [],
   "source": []
  }
 ],
 "metadata": {
  "kernelspec": {
   "display_name": "Python 3",
   "language": "python",
   "name": "python3"
  },
  "language_info": {
   "codemirror_mode": {
    "name": "ipython",
    "version": 3
   },
   "file_extension": ".py",
   "mimetype": "text/x-python",
   "name": "python",
   "nbconvert_exporter": "python",
   "pygments_lexer": "ipython3",
   "version": "3.6.5"
  }
 },
 "nbformat": 4,
 "nbformat_minor": 2
}
