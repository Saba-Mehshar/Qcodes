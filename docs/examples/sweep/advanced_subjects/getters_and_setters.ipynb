{
 "cells": [
  {
   "cell_type": "code",
   "execution_count": 1,
   "metadata": {},
   "outputs": [
    {
     "name": "stderr",
     "output_type": "stream",
     "text": [
      "c:\\users\\a-sochat\\development\\qcodes\\qcodes\\utils\\deferred_operations.py:45: UserWarning: DeferredOperations has been deprecated and will be removed in the not-too-distant future.\n",
      "  warnings.warn(\"DeferredOperations has been deprecated and will be removed \"\n"
     ]
    }
   ],
   "source": [
    "import numpy as np\n",
    "import time \n",
    "\n",
    "import qcodes as qc\n",
    "from qcodes.instrument.parameter import ManualParameter\n",
    "\n",
    "from qcodes.sweep import sweep, nest, chain, szip, getter, setter\n",
    "from qcodes.sweep.sweep import BaseSweepObject, ParametersTable, wrap_objects, time_trace\n",
    "\n",
    "from qcodes.sweep.base_sweep import (\n",
    "    Nest, Zip, Chain, ParameterSweep, ParameterWrapper, FunctionSweep, FunctionWrapper, While\n",
    ")"
   ]
  },
  {
   "cell_type": "code",
   "execution_count": 2,
   "metadata": {},
   "outputs": [],
   "source": [
    "class Printer:\n",
    "    def __init__(self, sweep_object): \n",
    "        self._ind, self._dep = sweep_object.parameter_table.flatten()\n",
    "        self._symbols_list = sweep_object.parameter_table.symbols_list()\n",
    "        self._inferred_symbols_list = sweep_object.parameter_table.inferred_symbols_list()\n",
    "        \n",
    "    def __enter__(self): \n",
    "        header_ind = (2*\"\\t\").join([\"{} [{}]\".format(*i) for i in self._ind.items()])\n",
    "        header_dep = (2*\"\\t\").join([\"{} [{}]\".format(*i) for i in self._dep.items()])\n",
    "        sep = \" | \"\n",
    "        \n",
    "        print(self._inferred_symbols_list)\n",
    "        print()\n",
    "        print((header_ind + sep + \"\\t\" + header_dep).strip(sep))\n",
    "        \n",
    "        return self\n",
    "    \n",
    "    def __exit__(self, type, value, traceback): \n",
    "        pass\n",
    "\n",
    "    def __call__(self, result):\n",
    "        print(\n",
    "            \" \" + \"\\t \".join([\n",
    "                \"{:.2e}\".format(result[ip]) if result[ip] is not None else \"None    \" for ip in self._symbols_list\n",
    "            ])\n",
    "        )"
   ]
  },
  {
   "cell_type": "markdown",
   "metadata": {},
   "source": [
    "In this notebook, we illustrate how pysweep incorporates the nation of inferred parameters. We will first illustrate inferring from independent parameters"
   ]
  },
  {
   "cell_type": "code",
   "execution_count": 3,
   "metadata": {},
   "outputs": [],
   "source": [
    "x = ManualParameter(\"x\", unit=\"V\")\n",
    "yparam = ManualParameter(\"y\", unit=\"V\")\n",
    "\n",
    "# The \"setter\" decorator lets us use arbitrary functions to set sweep parameters. The value of any \n",
    "# declared inferred parameters should be returned by the function \n",
    "@setter([(\"y\", \"mV\")], inferred_parameters=[(\"yv\", \"V\")]) # We are given mV in loops \n",
    "def ysetter(y):\n",
    "    yv = y / 1000\n",
    "    yparam.set(yv)\n",
    "    return yv\n",
    "\n",
    "m = ManualParameter(\"m\", unit=\"A\")\n",
    "m.get = lambda: x() ** 2\n",
    "\n",
    "n = ManualParameter(\"n\", unit=\"A\")\n",
    "n.get = lambda: x() - yparam() ** 2 + 16"
   ]
  },
  {
   "cell_type": "code",
   "execution_count": 4,
   "metadata": {},
   "outputs": [
    {
     "name": "stdout",
     "output_type": "stream",
     "text": [
      "yv inferred from y\n",
      "\n",
      "x [V]\t\ty [mV]\t\tyv [V] | \tm [A]\t\tn [A]\n",
      " 0.00e+00\t None    \t None    \t 0.00e+00\t None    \n",
      " 0.00e+00\t 0.00e+00\t 0.00e+00\t None    \t 1.60e+01\n",
      " 0.00e+00\t 1.00e+03\t 1.00e+00\t None    \t 1.50e+01\n",
      " 0.00e+00\t 2.00e+03\t 2.00e+00\t None    \t 1.20e+01\n",
      " 1.00e+00\t None    \t None    \t 1.00e+00\t None    \n",
      " 1.00e+00\t 0.00e+00\t 0.00e+00\t None    \t 1.70e+01\n",
      " 1.00e+00\t 1.00e+03\t 1.00e+00\t None    \t 1.60e+01\n",
      " 1.00e+00\t 2.00e+03\t 2.00e+00\t None    \t 1.30e+01\n",
      " 2.00e+00\t None    \t None    \t 4.00e+00\t None    \n",
      " 2.00e+00\t 0.00e+00\t 0.00e+00\t None    \t 1.80e+01\n",
      " 2.00e+00\t 1.00e+03\t 1.00e+00\t None    \t 1.70e+01\n",
      " 2.00e+00\t 2.00e+03\t 2.00e+00\t None    \t 1.40e+01\n"
     ]
    }
   ],
   "source": [
    "sweep_object = sweep(x, [0, 1, 2])(\n",
    "    m,\n",
    "    sweep(ysetter, [0, 1000, 2000])(\n",
    "        n  \n",
    "    )\n",
    ")\n",
    "\n",
    "with Printer(sweep_object) as printer:\n",
    "    for i in sweep_object:   \n",
    "        printer(i)"
   ]
  },
  {
   "cell_type": "code",
   "execution_count": 3,
   "metadata": {},
   "outputs": [],
   "source": [
    "magnet_x = ManualParameter(\"mag_x\", unit=\"T\")\n",
    "magnet_y = ManualParameter(\"mag_y\", unit=\"T\")\n",
    "magnet_z = ManualParameter(\"mag_z\", unit=\"T\")\n",
    "\n",
    "@setter(\n",
    "    [(\"r\", \"T\"), (\"th\", \"r\"), (\"ph\", \"r\")], \n",
    "    inferred_parameters=[\n",
    "        (\"mx\", \"T\"), \n",
    "        (\"my\", \"T\"),\n",
    "        (\"mz\", \"T\")\n",
    "    ]\n",
    ")\n",
    "def mag_setter(r, theta, phi): \n",
    "    mag_z = r * np.cos(theta)\n",
    "    mag_x = r * np.sin(theta) * np.cos(phi)\n",
    "    mag_y = r * np.sin(theta) * np.sin(phi)\n",
    "    \n",
    "    magnet_x.set(mag_x)\n",
    "    magnet_y.set(mag_y)\n",
    "    magnet_z.set(mag_z)\n",
    "    \n",
    "    return mag_x, mag_y, mag_z"
   ]
  },
  {
   "cell_type": "code",
   "execution_count": 6,
   "metadata": {},
   "outputs": [],
   "source": [
    "theta = 0.1\n",
    "phi = -0.2\n",
    "r = [0, 1, 2, 3, 4]\n",
    "\n",
    "coordinates = zip(r, len(r) * [theta], len(r) * [phi])"
   ]
  },
  {
   "cell_type": "code",
   "execution_count": 7,
   "metadata": {},
   "outputs": [],
   "source": [
    "sweep_object = sweep(mag_setter, coordinates)"
   ]
  },
  {
   "cell_type": "code",
   "execution_count": 8,
   "metadata": {},
   "outputs": [
    {
     "name": "stdout",
     "output_type": "stream",
     "text": [
      "mx inferred from r,th,ph\n",
      "my inferred from r,th,ph\n",
      "mz inferred from r,th,ph\n",
      "\n",
      "r [T]\t\tth [r]\t\tph [r]\t\tmx [T]\t\tmy [T]\t\tmz [T] | \t\n",
      " 0.00e+00\t 1.00e-01\t -2.00e-01\t 0.00e+00\t -0.00e+00\t 0.00e+00\n",
      " 1.00e+00\t 1.00e-01\t -2.00e-01\t 9.78e-02\t -1.98e-02\t 9.95e-01\n",
      " 2.00e+00\t 1.00e-01\t -2.00e-01\t 1.96e-01\t -3.97e-02\t 1.99e+00\n",
      " 3.00e+00\t 1.00e-01\t -2.00e-01\t 2.94e-01\t -5.95e-02\t 2.99e+00\n",
      " 4.00e+00\t 1.00e-01\t -2.00e-01\t 3.91e-01\t -7.93e-02\t 3.98e+00\n"
     ]
    }
   ],
   "source": [
    "with Printer(sweep_object) as printer:\n",
    "    for i in sweep_object:   \n",
    "        printer(i)"
   ]
  },
  {
   "cell_type": "markdown",
   "metadata": {},
   "source": [
    "NB: In my opinion the driver for the magnet driver AMI430 is over complicated and should *not* include math code to convert spherical to cartesian coordinates at all. Proper sweeping code for the magnet is shown above "
   ]
  },
  {
   "cell_type": "code",
   "execution_count": 9,
   "metadata": {},
   "outputs": [],
   "source": [
    "@getter([(\"mag\", \"T\")])\n",
    "def mag_getter(): \n",
    "    mag_x = magnet_x.get()\n",
    "    mag_y = magnet_y.get()\n",
    "    mag_z = magnet_z.get()\n",
    "    return np.sqrt(mag_x**2 + mag_y**2 + mag_z**2)"
   ]
  },
  {
   "cell_type": "code",
   "execution_count": 10,
   "metadata": {},
   "outputs": [],
   "source": [
    "coordinates = zip(r, len(r) * [theta], len(r) * [phi])\n",
    "sweep_object = sweep(mag_setter, coordinates)(mag_getter)"
   ]
  },
  {
   "cell_type": "code",
   "execution_count": 11,
   "metadata": {},
   "outputs": [
    {
     "name": "stdout",
     "output_type": "stream",
     "text": [
      "mx inferred from r,th,ph\n",
      "my inferred from r,th,ph\n",
      "mz inferred from r,th,ph\n",
      "\n",
      "r [T]\t\tth [r]\t\tph [r]\t\tmx [T]\t\tmy [T]\t\tmz [T] | \tmag [T]\n",
      " 0.00e+00\t 1.00e-01\t -2.00e-01\t 0.00e+00\t -0.00e+00\t 0.00e+00\t 0.00e+00\n",
      " 1.00e+00\t 1.00e-01\t -2.00e-01\t 9.78e-02\t -1.98e-02\t 9.95e-01\t 1.00e+00\n",
      " 2.00e+00\t 1.00e-01\t -2.00e-01\t 1.96e-01\t -3.97e-02\t 1.99e+00\t 2.00e+00\n",
      " 3.00e+00\t 1.00e-01\t -2.00e-01\t 2.94e-01\t -5.95e-02\t 2.99e+00\t 3.00e+00\n",
      " 4.00e+00\t 1.00e-01\t -2.00e-01\t 3.91e-01\t -7.93e-02\t 3.98e+00\t 4.00e+00\n"
     ]
    }
   ],
   "source": [
    "with Printer(sweep_object) as printer:\n",
    "    for i in sweep_object:   \n",
    "        printer(i)"
   ]
  },
  {
   "cell_type": "code",
   "execution_count": 6,
   "metadata": {},
   "outputs": [
    {
     "data": {
      "text/plain": [
       "mx inferred from r,th,ph\n",
       "my inferred from r,th,ph\n",
       "mz inferred from r,th,ph\n",
       "r [T],th [r],ph [r],mx [T],my [T],mz [T]|"
      ]
     },
     "execution_count": 6,
     "metadata": {},
     "output_type": "execute_result"
    }
   ],
   "source": [
    "mag_setter.parameter_table"
   ]
  },
  {
   "cell_type": "code",
   "execution_count": null,
   "metadata": {},
   "outputs": [],
   "source": []
  }
 ],
 "metadata": {
  "kernelspec": {
   "display_name": "Python 3",
   "language": "python",
   "name": "python3"
  },
  "language_info": {
   "codemirror_mode": {
    "name": "ipython",
    "version": 3
   },
   "file_extension": ".py",
   "mimetype": "text/x-python",
   "name": "python",
   "nbconvert_exporter": "python",
   "pygments_lexer": "ipython3",
   "version": "3.6.5"
  }
 },
 "nbformat": 4,
 "nbformat_minor": 2
}
