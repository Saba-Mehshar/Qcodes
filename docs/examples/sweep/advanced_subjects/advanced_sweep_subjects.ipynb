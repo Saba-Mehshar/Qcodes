{
 "cells": [
  {
   "cell_type": "markdown",
   "metadata": {},
   "source": [
    "# This notebook introduces the sweep classes. \n",
    "\n",
    "It is important to note that there are convenience functions which allow us to be more succinct when defining sweeps. Please see: \n",
    "\n",
    "https://github.com/sohailc/Qcodes/blob/sweep_integration/docs/examples/sweep/convenience_functions.ipynb"
   ]
  },
  {
   "cell_type": "code",
   "execution_count": 3,
   "metadata": {},
   "outputs": [],
   "source": [
    "import numpy as np\n",
    "\n",
    "import qcodes as qc\n",
    "from qcodes.instrument.parameter import ManualParameter\n",
    "from qcodes.sweep.base_sweep import (\n",
    "    Nest, Zip, Chain, ParameterSweep, ParameterWrapper, FunctionSweep, FunctionWrapper)"
   ]
  },
  {
   "cell_type": "code",
   "execution_count": 2,
   "metadata": {},
   "outputs": [],
   "source": [
    "\"\"\"\n",
    "We will first make a measurement-like class which, instead of saving results to file prints them to standard output\n",
    "\"\"\"\n",
    "\n",
    "class Printer:\n",
    "    def __init__(self, sweep_object): \n",
    "        self._ind, self._dep = sweep_object.parameter_table.flatten()\n",
    "        self._symbols_list = sweep_object.parameter_table.symbols_list()\n",
    "        \n",
    "    def __enter__(self): \n",
    "        header_ind = \"\\t\".join([\"{} [{}]\".format(*i) for i in self._ind.items()])\n",
    "        header_dep = \"\\t\".join([\"{} [{}]\".format(*i) for i in self._dep.items()])\n",
    "        sep = \" | \"\n",
    "        print((header_ind + sep + header_dep).strip(sep))\n",
    "        \n",
    "        return self\n",
    "    \n",
    "    def __exit__(self, type, value, traceback): \n",
    "        pass\n",
    "\n",
    "    def __call__(self, result):\n",
    "        print(\" \" + \"\\t \".join([str(result[ip]) for ip in self._symbols_list]))"
   ]
  },
  {
   "cell_type": "markdown",
   "metadata": {},
   "source": [
    "# Lets introduce a basic sweep object "
   ]
  },
  {
   "cell_type": "code",
   "execution_count": 3,
   "metadata": {},
   "outputs": [
    {
     "name": "stdout",
     "output_type": "stream",
     "text": [
      "\n",
      "x [V]|\n"
     ]
    }
   ],
   "source": [
    "x = ManualParameter(\"x\", unit=\"V\")\n",
    "sweep_object = ParameterSweep(x, lambda: [0, 1])\n",
    "\n",
    "# Lets print the parameter table...\n",
    "print(sweep_object.parameter_table)"
   ]
  },
  {
   "cell_type": "markdown",
   "metadata": {},
   "source": [
    "Everything in front of the \"|\" represents an indendent parameter. We see that the sweep only defines one parameter, which is independent and has a unit \"V\". Lets sweep this sweep object..."
   ]
  },
  {
   "cell_type": "code",
   "execution_count": 4,
   "metadata": {},
   "outputs": [
    {
     "name": "stdout",
     "output_type": "stream",
     "text": [
      "x [V]\n",
      " 0\n",
      " 1\n"
     ]
    }
   ],
   "source": [
    "with Printer(sweep_object) as printer:\n",
    "    for i in sweep_object: \n",
    "        printer(i)"
   ]
  },
  {
   "cell_type": "markdown",
   "metadata": {},
   "source": [
    "We have generated a small 1D coordinate layout with size 2 "
   ]
  },
  {
   "cell_type": "markdown",
   "metadata": {},
   "source": [
    "# How do we make a 2D sweep? "
   ]
  },
  {
   "cell_type": "code",
   "execution_count": 5,
   "metadata": {},
   "outputs": [],
   "source": [
    "y = ManualParameter(\"y\", unit=\"V\")"
   ]
  },
  {
   "cell_type": "code",
   "execution_count": 6,
   "metadata": {},
   "outputs": [
    {
     "name": "stdout",
     "output_type": "stream",
     "text": [
      "\n",
      "y [V],x [V]|\n"
     ]
    }
   ],
   "source": [
    "sox = ParameterSweep(x, lambda: [0, 1])\n",
    "soy = ParameterSweep(y, lambda: [0, 1])\n",
    "sweep_object = Nest([soy, sox])\n",
    "\n",
    "# Lets print the parameter table...\n",
    "print(sweep_object.parameter_table)"
   ]
  },
  {
   "cell_type": "code",
   "execution_count": 7,
   "metadata": {},
   "outputs": [
    {
     "name": "stdout",
     "output_type": "stream",
     "text": [
      "y [V]\tx [V]\n",
      " 0\t 0\n",
      " 0\t 1\n",
      " 1\t 0\n",
      " 1\t 1\n"
     ]
    }
   ],
   "source": [
    "with Printer(sweep_object) as printer:\n",
    "    for i in sweep_object:  # X is the inner axis : \n",
    "        printer(i)"
   ]
  },
  {
   "cell_type": "markdown",
   "metadata": {},
   "source": [
    "This represents a 2D layout of 2x2 "
   ]
  },
  {
   "cell_type": "markdown",
   "metadata": {},
   "source": [
    "# We can extend this to ND"
   ]
  },
  {
   "cell_type": "code",
   "execution_count": 8,
   "metadata": {},
   "outputs": [],
   "source": [
    "z = ManualParameter(\"z\", unit=\"V\")"
   ]
  },
  {
   "cell_type": "code",
   "execution_count": 9,
   "metadata": {},
   "outputs": [
    {
     "name": "stdout",
     "output_type": "stream",
     "text": [
      "\n",
      "z [V],y [V],x [V]|\n"
     ]
    }
   ],
   "source": [
    "sox = ParameterSweep(x, lambda: [0, 1])\n",
    "soy = ParameterSweep(y, lambda: [0, 1])\n",
    "soz = ParameterSweep(z, lambda: [0, 1])\n",
    "sweep_object = Nest([soz, soy, sox])\n",
    "\n",
    "# Lets print the parameter table...\n",
    "print(sweep_object.parameter_table)"
   ]
  },
  {
   "cell_type": "code",
   "execution_count": 10,
   "metadata": {},
   "outputs": [
    {
     "name": "stdout",
     "output_type": "stream",
     "text": [
      "z [V]\ty [V]\tx [V]\n",
      " 0\t 0\t 0\n",
      " 0\t 0\t 1\n",
      " 0\t 1\t 0\n",
      " 0\t 1\t 1\n",
      " 1\t 0\t 0\n",
      " 1\t 0\t 1\n",
      " 1\t 1\t 0\n",
      " 1\t 1\t 1\n"
     ]
    }
   ],
   "source": [
    "with Printer(sweep_object) as printer:\n",
    "    for i in sweep_object: \n",
    "        printer(i)"
   ]
  },
  {
   "cell_type": "markdown",
   "metadata": {},
   "source": [
    "We have created a 2x2x2 layout "
   ]
  },
  {
   "cell_type": "markdown",
   "metadata": {},
   "source": [
    "# This is how we can perform a measurement  "
   ]
  },
  {
   "cell_type": "code",
   "execution_count": 11,
   "metadata": {},
   "outputs": [],
   "source": [
    "m = ManualParameter(\"m\", unit=\"A\")\n",
    "m.get = lambda: x() ** 2 + y()"
   ]
  },
  {
   "cell_type": "code",
   "execution_count": 12,
   "metadata": {},
   "outputs": [
    {
     "name": "stdout",
     "output_type": "stream",
     "text": [
      "\n",
      "|m [A]\n"
     ]
    }
   ],
   "source": [
    "x(3)\n",
    "y(1)\n",
    "sweep_object = ParameterWrapper(m)\n",
    "\n",
    "print(sweep_object.parameter_table)"
   ]
  },
  {
   "cell_type": "markdown",
   "metadata": {},
   "source": [
    "Everything after the \"|\" represents a dependent parameter"
   ]
  },
  {
   "cell_type": "code",
   "execution_count": 13,
   "metadata": {},
   "outputs": [
    {
     "name": "stdout",
     "output_type": "stream",
     "text": [
      "m [A]\n",
      " 10\n"
     ]
    }
   ],
   "source": [
    "with Printer(sweep_object) as printer:\n",
    "    for i in sweep_object: \n",
    "        printer(i)"
   ]
  },
  {
   "cell_type": "markdown",
   "metadata": {},
   "source": [
    "Wrapping a parameter in the \"ParameterWrapper\" class makes a sweep object which iterates once and returns the \"get\" value of the parameter. We can use this to create looped measurements. "
   ]
  },
  {
   "cell_type": "code",
   "execution_count": 14,
   "metadata": {},
   "outputs": [
    {
     "name": "stdout",
     "output_type": "stream",
     "text": [
      "\n",
      "y [V],x [V]|m [A]\n"
     ]
    }
   ],
   "source": [
    "sox = ParameterSweep(x, lambda: [0, 1, 2])\n",
    "soy = ParameterSweep(y, lambda: [0, 1, 3, 4])\n",
    "meas = ParameterWrapper(m)\n",
    "sweep_object =  Nest([soy, sox, meas])\n",
    "\n",
    "print(sweep_object.parameter_table)"
   ]
  },
  {
   "cell_type": "markdown",
   "metadata": {},
   "source": [
    "Nesting sweep objects will combine the parameters table. This is how we keep track of the fact that the sweep defines three parameters, \"x\", \"y\" and \"m\", the latter of which is a dependent parameter which depends on the former two. When we register the sweep object with the measurement class, we now know which ParamSpecs we need to make  "
   ]
  },
  {
   "cell_type": "code",
   "execution_count": 15,
   "metadata": {},
   "outputs": [
    {
     "name": "stdout",
     "output_type": "stream",
     "text": [
      "y [V]\tx [V] | m [A]\n",
      " 0\t 0\t 0\n",
      " 0\t 1\t 1\n",
      " 0\t 2\t 4\n",
      " 1\t 0\t 1\n",
      " 1\t 1\t 2\n",
      " 1\t 2\t 5\n",
      " 3\t 0\t 3\n",
      " 3\t 1\t 4\n",
      " 3\t 2\t 7\n",
      " 4\t 0\t 4\n",
      " 4\t 1\t 5\n",
      " 4\t 2\t 8\n"
     ]
    }
   ],
   "source": [
    "with Printer(sweep_object) as printer:\n",
    "    for i in  sweep_object: \n",
    "        printer(i)"
   ]
  },
  {
   "cell_type": "markdown",
   "metadata": {},
   "source": [
    "Lets make another example with two dependent parameters...."
   ]
  },
  {
   "cell_type": "code",
   "execution_count": 16,
   "metadata": {},
   "outputs": [
    {
     "name": "stdout",
     "output_type": "stream",
     "text": [
      "\n",
      "y [V],x [V]|m [A],n [A]\n"
     ]
    }
   ],
   "source": [
    "n = ManualParameter(\"n\", unit=\"A\")\n",
    "n.get = lambda: x() - y() ** 2 + 16\n",
    "\n",
    "sox = ParameterSweep(x, lambda: [0, 1, 2])\n",
    "soy = ParameterSweep(y, lambda: [0, 1, 3, 4])\n",
    "meas1 = ParameterWrapper(m)\n",
    "meas2 = ParameterWrapper(n)\n",
    "sweep_object =  Nest([soy, sox, meas1, meas2])\n",
    "\n",
    "print(sweep_object.parameter_table)"
   ]
  },
  {
   "cell_type": "code",
   "execution_count": 17,
   "metadata": {},
   "outputs": [
    {
     "name": "stdout",
     "output_type": "stream",
     "text": [
      "y [V]\tx [V] | m [A]\tn [A]\n",
      " 0\t 0\t 0\t 16\n",
      " 0\t 1\t 1\t 17\n",
      " 0\t 2\t 4\t 18\n",
      " 1\t 0\t 1\t 15\n",
      " 1\t 1\t 2\t 16\n",
      " 1\t 2\t 5\t 17\n",
      " 3\t 0\t 3\t 7\n",
      " 3\t 1\t 4\t 8\n",
      " 3\t 2\t 7\t 9\n",
      " 4\t 0\t 4\t 0\n",
      " 4\t 1\t 5\t 1\n",
      " 4\t 2\t 8\t 2\n"
     ]
    }
   ],
   "source": [
    "with Printer(sweep_object) as printer:\n",
    "    for i in  sweep_object: \n",
    "        printer(i)"
   ]
  },
  {
   "cell_type": "markdown",
   "metadata": {},
   "source": [
    "# Introducing chaining"
   ]
  },
  {
   "cell_type": "code",
   "execution_count": 18,
   "metadata": {},
   "outputs": [],
   "source": [
    "x(4)\n",
    "sweep_object = Nest([\n",
    "    soy, \n",
    "    Chain([\n",
    "        meas1, \n",
    "        Nest([sox, meas2])\n",
    "    ])\n",
    "])"
   ]
  },
  {
   "cell_type": "markdown",
   "metadata": {},
   "source": [
    "The above is equivalent to...\n",
    "\n",
    "```python\n",
    "for y in [0, 1, 3, 4]: \n",
    "    meas1()\n",
    "    for x in [0, 1, 2]: \n",
    "        meas2()\n",
    "```\n",
    "\n",
    "Note that in the notebook: \n",
    "https://github.com/sohailc/Qcodes/blob/sweep_integration/docs/examples/sweep/convenience_functions.ipynb\n",
    "\n",
    "We see another way we can define the same thing through convenience functions"
   ]
  },
  {
   "cell_type": "code",
   "execution_count": 19,
   "metadata": {},
   "outputs": [
    {
     "name": "stdout",
     "output_type": "stream",
     "text": [
      "\n",
      "y [V]|m [A]\n",
      "y [V],x [V]|n [A]\n"
     ]
    }
   ],
   "source": [
    "print(sweep_object.parameter_table)"
   ]
  },
  {
   "cell_type": "markdown",
   "metadata": {},
   "source": [
    "We see that we have two dependent parameters: \"m\" and \"n\". The former depends on \"y\" only while the latter depends on \"x\" and \"y\". This is the reason why sweep_object.parameter_table.table_list is a *list* of dictionaries. Let us view the result of this sweep object  "
   ]
  },
  {
   "cell_type": "code",
   "execution_count": 20,
   "metadata": {},
   "outputs": [
    {
     "name": "stdout",
     "output_type": "stream",
     "text": [
      "y [V]\tx [V] | m [A]\tn [A]\n",
      " 0\t None\t 16\t None\n",
      " 0\t 0\t None\t 16\n",
      " 0\t 1\t None\t 17\n",
      " 0\t 2\t None\t 18\n",
      " 1\t None\t 5\t None\n",
      " 1\t 0\t None\t 15\n",
      " 1\t 1\t None\t 16\n",
      " 1\t 2\t None\t 17\n",
      " 3\t None\t 7\t None\n",
      " 3\t 0\t None\t 7\n",
      " 3\t 1\t None\t 8\n",
      " 3\t 2\t None\t 9\n",
      " 4\t None\t 8\t None\n",
      " 4\t 0\t None\t 0\n",
      " 4\t 1\t None\t 1\n",
      " 4\t 2\t None\t 2\n"
     ]
    }
   ],
   "source": [
    "with Printer(sweep_object) as printer:\n",
    "    for i in sweep_object: \n",
    "        printer(i)"
   ]
  },
  {
   "cell_type": "markdown",
   "metadata": {},
   "source": [
    "# We can use arbitrary functions instead of parameters as measurements"
   ]
  },
  {
   "cell_type": "code",
   "execution_count": 21,
   "metadata": {},
   "outputs": [],
   "source": [
    "@getter([(\"meas3\", \"H\")])\n",
    "def measurement_function(): \n",
    "    return int(np.random.normal(0, 1) * 10) / 10"
   ]
  },
  {
   "cell_type": "code",
   "execution_count": 22,
   "metadata": {},
   "outputs": [
    {
     "name": "stdout",
     "output_type": "stream",
     "text": [
      "\n",
      "x [V]|meas3 [H]\n"
     ]
    }
   ],
   "source": [
    "sweep_object = Nest([ParameterSweep(x, lambda: [0, 1, 2, 3]), FunctionWrapper(measurement_function)])\n",
    "print(sweep_object.parameter_table)"
   ]
  },
  {
   "cell_type": "code",
   "execution_count": 23,
   "metadata": {},
   "outputs": [
    {
     "name": "stdout",
     "output_type": "stream",
     "text": [
      "x [V] | meas3 [H]\n",
      " 0\t -0.9\n",
      " 1\t -1.0\n",
      " 2\t 0.5\n",
      " 3\t 0.1\n"
     ]
    }
   ],
   "source": [
    "with Printer(sweep_object) as printer: \n",
    "    for i in sweep_object: \n",
    "        printer(i)"
   ]
  },
  {
   "cell_type": "code",
   "execution_count": 24,
   "metadata": {},
   "outputs": [],
   "source": [
    "@getter([(\"m3\", \"H\"), (\"m4\", \"H\")])\n",
    "def measurement_function(): \n",
    "    meas3 = int(np.random.normal(0, 1) * 10) / 10\n",
    "    meas4 = int(np.random.normal(-5, 1) * 10) / 10\n",
    "    return meas3, meas4"
   ]
  },
  {
   "cell_type": "code",
   "execution_count": 25,
   "metadata": {},
   "outputs": [
    {
     "name": "stdout",
     "output_type": "stream",
     "text": [
      "\n",
      "x [V]|m3 [H],m4 [H]\n"
     ]
    }
   ],
   "source": [
    "sweep_object = Nest([ParameterSweep(x, lambda: [0, 1, 2, 3]), FunctionWrapper(measurement_function)])\n",
    "\n",
    "print(sweep_object.parameter_table)"
   ]
  },
  {
   "cell_type": "code",
   "execution_count": 26,
   "metadata": {},
   "outputs": [
    {
     "name": "stdout",
     "output_type": "stream",
     "text": [
      "x [V] | m3 [H]\tm4 [H]\n",
      " 0\t 0.0\t -5.0\n",
      " 1\t 0.3\t -3.8\n",
      " 2\t 0.0\t -4.2\n",
      " 3\t -0.7\t -5.2\n"
     ]
    }
   ],
   "source": [
    "with Printer(sweep_object) as printer: \n",
    "    for i in sweep_object: \n",
    "        printer(i)"
   ]
  },
  {
   "cell_type": "markdown",
   "metadata": {},
   "source": [
    "# We can also use functions as loop parameters"
   ]
  },
  {
   "cell_type": "code",
   "execution_count": 27,
   "metadata": {},
   "outputs": [],
   "source": [
    "t = ManualParameter(\"z\")\n",
    "t.get = lambda: int(np.random.uniform(0, 100))\n",
    "\n",
    "@setter([(\"xs\", \"V\")])\n",
    "def setter1(value): \n",
    "    x.set(2 * value)"
   ]
  },
  {
   "cell_type": "code",
   "execution_count": 28,
   "metadata": {},
   "outputs": [
    {
     "name": "stdout",
     "output_type": "stream",
     "text": [
      "xs [V] | m3 [H]\tm4 [H]\n",
      " 0\t -1.5\t -4.5\n",
      " 1\t 0.0\t -4.6\n",
      " 2\t 0.6\t -4.7\n",
      " 3\t -0.8\t -4.7\n"
     ]
    }
   ],
   "source": [
    "sweep_object = Nest([FunctionSweep(setter1, lambda: [0, 1, 2, 3]), FunctionWrapper(measurement_function)])\n",
    "\n",
    "with Printer(sweep_object) as printer:\n",
    "    for i in sweep_object: \n",
    "        printer(i)"
   ]
  },
  {
   "cell_type": "code",
   "execution_count": 29,
   "metadata": {},
   "outputs": [],
   "source": [
    "@setter([(\"xs\", \"V\"), (\"ys\", \"V\")])\n",
    "def setter2(xv, yv):\n",
    "    x.set(xv)\n",
    "    y.set(yv)"
   ]
  },
  {
   "cell_type": "code",
   "execution_count": 30,
   "metadata": {},
   "outputs": [
    {
     "name": "stdout",
     "output_type": "stream",
     "text": [
      "xs [V]\tys [V] | m3 [H]\tm4 [H]\n",
      " 0\t 4\t 0.0\t -5.2\n",
      " 1\t 5\t 0.1\t -4.1\n",
      " 2\t 7\t 0.4\t -5.5\n",
      " 3\t 8\t 0.2\t -5.2\n"
     ]
    }
   ],
   "source": [
    "sweep_object = Nest([\n",
    "    FunctionSweep(setter2, lambda: zip([0, 1, 2, 3], [4, 5, 7, 8])), \n",
    "    FunctionWrapper(measurement_function)\n",
    "])\n",
    "\n",
    "with Printer(sweep_object) as printer:\n",
    "    for i in sweep_object: \n",
    "        printer(i)"
   ]
  },
  {
   "cell_type": "markdown",
   "metadata": {},
   "source": [
    "# Finally, the sweep values need not be a list or an numpy array, but also a generating function"
   ]
  },
  {
   "cell_type": "code",
   "execution_count": 31,
   "metadata": {},
   "outputs": [],
   "source": [
    "def sweep_values(): \n",
    "    value = 0.0\n",
    "    while value < 2.0:\n",
    "        value = np.sum(np.random.normal(0, 1, (3,)))\n",
    "        yield value"
   ]
  },
  {
   "cell_type": "code",
   "execution_count": 32,
   "metadata": {},
   "outputs": [
    {
     "name": "stdout",
     "output_type": "stream",
     "text": [
      "-0.821535315698\n",
      "-2.41466695039\n",
      "0.937157254671\n",
      "-0.23074093871\n",
      "-3.05499975189\n",
      "-2.21453549555\n",
      "-0.0960158235371\n",
      "0.392429149162\n",
      "-2.38689903431\n",
      "0.63762573523\n",
      "0.429670908182\n",
      "-1.77879677103\n",
      "-0.0678410570272\n",
      "5.32245388471\n"
     ]
    }
   ],
   "source": [
    "sweep_object = ParameterSweep(x, sweep_values)\n",
    "\n",
    "for i in sweep_object: \n",
    "    print(x())"
   ]
  },
  {
   "cell_type": "markdown",
   "metadata": {},
   "source": [
    "We will loop until the sum of the measurement variables equal 2.0 or more. Since measurement values are three stochstics with a N(0, 1) distribution, the distribution of the sum is N(0, sqrt(3)). The probability of finding 2.0 or more: Z = 2/sqrt(3), which is equal to 12.51%. As the next cell shows, the expectation value of the number of iterations is therefore 8.0 iterations"
   ]
  },
  {
   "cell_type": "code",
   "execution_count": 33,
   "metadata": {},
   "outputs": [
    {
     "data": {
      "text/plain": [
       "7.9936051159072736"
      ]
     },
     "execution_count": 33,
     "metadata": {},
     "output_type": "execute_result"
    }
   ],
   "source": [
    "def f(ni): # The probability of looping exactly ni times \n",
    "    p = 0.1251\n",
    "    return (1 - p)**(ni - 1) * p\n",
    "\n",
    "# The expectation value of the number of times we loop \n",
    "np.sum([ni*f(ni) for ni in range(1, 1000)])"
   ]
  },
  {
   "cell_type": "markdown",
   "metadata": {},
   "source": [
    "Lets see if this is correct "
   ]
  },
  {
   "cell_type": "code",
   "execution_count": 34,
   "metadata": {},
   "outputs": [
    {
     "name": "stdout",
     "output_type": "stream",
     "text": [
      "8.0968\n"
     ]
    }
   ],
   "source": [
    "count = 0\n",
    "N = 10000\n",
    "for _ in range(N):\n",
    "    count += len(list(sweep_object))  # unroll the sweep object by recasting it to a list\n",
    "\n",
    "print(count/N)"
   ]
  },
  {
   "cell_type": "markdown",
   "metadata": {},
   "source": [
    "Yayyy!! :-)\n",
    "\n",
    "The ability to use generators as values we sweep over gives us the ability to create complex loops with feedback mechanisms. See for example: \n",
    "\n",
    "https://github.com/sohailc/Qcodes/blob/sweep_integration/docs/examples/DataSet/sweep/example_measurement_with_sweep.ipynb"
   ]
  },
  {
   "cell_type": "code",
   "execution_count": null,
   "metadata": {},
   "outputs": [],
   "source": []
  }
 ],
 "metadata": {
  "kernelspec": {
   "display_name": "Python 3",
   "language": "python",
   "name": "python3"
  },
  "language_info": {
   "codemirror_mode": {
    "name": "ipython",
    "version": 3
   },
   "file_extension": ".py",
   "mimetype": "text/x-python",
   "name": "python",
   "nbconvert_exporter": "python",
   "pygments_lexer": "ipython3",
   "version": "3.6.5"
  }
 },
 "nbformat": 4,
 "nbformat_minor": 2
}
