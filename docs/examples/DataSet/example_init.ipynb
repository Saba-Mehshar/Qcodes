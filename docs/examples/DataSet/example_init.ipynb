{
 "cells": [
  {
   "cell_type": "code",
   "execution_count": 1,
   "metadata": {},
   "outputs": [
    {
     "name": "stderr",
     "output_type": "stream",
     "text": [
      "WARNING:root:Can't publish logs, did you star the server?\n"
     ]
    },
    {
     "name": "stdout",
     "output_type": "stream",
     "text": [
      "pyqtgraph plotting not supported, try \"from qcodes.plots.pyqtgraph import QtPlot\" to see the full error\n"
     ]
    }
   ],
   "source": [
    "from sqlite_base import init_db, connect"
   ]
  },
  {
   "cell_type": "code",
   "execution_count": 2,
   "metadata": {
    "collapsed": true
   },
   "outputs": [],
   "source": [
    "conn = connect(\"/Users/unga/Desktop/experiment.db\", debug=True)"
   ]
  },
  {
   "cell_type": "code",
   "execution_count": 3,
   "metadata": {},
   "outputs": [
    {
     "name": "stdout",
     "output_type": "stream",
     "text": [
      "\n",
      "CREATE  TABLE IF NOT EXISTS experiments (\n",
      "    -- this will autoncrement by default if\n",
      "    -- no value is specified on insert\n",
      "    exp_id INTEGER PRIMARY KEY,\n",
      "    name TEXT,\n",
      "    sample_name TEXT,\n",
      "    start_time INTEGER,\n",
      "    end_time INTEGER,\n",
      "    -- this is the last counter registered\n",
      "    -- 1 based\n",
      "    run_counter INTEGER,\n",
      "    -- this is the formatter strin used to cosntruct\n",
      "    -- the run name\n",
      "    format_string TEXT\n",
      "-- TODO: maybe I had a good reason for this doulbe primary key\n",
      "--    PRIMARY KEY (exp_id, start_time, sample_name)\n",
      ");\n",
      "\n",
      "CREATE TABLE IF NOT EXISTS runs (\n",
      "    -- this will autoncrement by default if\n",
      "    -- no value is specified on insert\n",
      "    run_id INTEGER PRIMARY KEY,\n",
      "    exp_id INTEGER,\n",
      "    -- friendly name for the run\n",
      "    name TEXT,\n",
      "    -- the name of the table which stores\n",
      "    -- the actual results\n",
      "    result_table_name TEXT,\n",
      "    -- this is the run counter in its experiment 0 based\n",
      "    result_counter INTEGER,\n",
      "    ---\n",
      "    run_timestamp INTEGER,\n",
      "    completed_timestamp INTEGER,\n",
      "    is_completed BOOL,\n",
      "    parameters TEXT,\n",
      "    -- metadata fields are added dynamically\n",
      "    FOREIGN KEY(exp_id)\n",
      "    REFERENCES\n",
      "        experiments(exp_id)\n",
      ");\n"
     ]
    }
   ],
   "source": [
    "init_db(conn)"
   ]
  },
  {
   "cell_type": "code",
   "execution_count": null,
   "metadata": {
    "collapsed": true
   },
   "outputs": [],
   "source": []
  }
 ],
 "metadata": {
  "kernelspec": {
   "display_name": "Python 3",
   "language": "python",
   "name": "python3"
  },
  "language_info": {
   "codemirror_mode": {
    "name": "ipython",
    "version": 3
   },
   "file_extension": ".py",
   "mimetype": "text/x-python",
   "name": "python",
   "nbconvert_exporter": "python",
   "pygments_lexer": "ipython3",
   "version": "3.6.1"
  }
 },
 "nbformat": 4,
 "nbformat_minor": 2
}
