{
 "cells": [
  {
   "cell_type": "markdown",
   "metadata": {
    "heading_collapsed": true
   },
   "source": [
    "## QCoDeS Training for Developers\n",
    "\n",
    "Welcome to the training about QCoDeS targeted for developers. After this training, developers should have more knowledge about QCoDeS which will bring them confidence with contributing to it.\n",
    "\n",
    "![qcodes-logo](https://qcodes.github.io/Qcodes/_images/qcodes_logo.png)"
   ]
  },
  {
   "cell_type": "markdown",
   "metadata": {
    "heading_collapsed": true,
    "hidden": true
   },
   "source": [
    "### Approach"
   ]
  },
  {
   "cell_type": "markdown",
   "metadata": {
    "hidden": true
   },
   "source": [
    "- Don't bring too much relevant background, only small absolutely necessary portions\n",
    "- Quickly/slightly refresh the user-side view on QCoDeS, and get close to code\n",
    "- Describe features/concepts from ideas, but get close to code very quickly"
   ]
  },
  {
   "cell_type": "markdown",
   "metadata": {
    "heading_collapsed": true,
    "hidden": true
   },
   "source": [
    "### Execution plan for presenter"
   ]
  },
  {
   "cell_type": "markdown",
   "metadata": {
    "hidden": true
   },
   "source": [
    "- Before:\n",
    "  - Have qcodes code at hand in your IDE https://github.com/qcodes/qcodes\n",
    "  - Run the training Jupyter notebook, and have it at hand https://github.com/astafan8/Qcodes/blob/training-for-devs/docs/examples/QCoDeS%20Training%20for%20Developers.ipynb\n",
    "  - Familiarize yourself with the following info from the docs:\n",
    "    - Front page https://qcodes.github.io/Qcodes/index.html\n",
    "    - 15 minutes of QCoDeS https://qcodes.github.io/Qcodes/examples/15_minutes_to_QCoDeS.html\n",
    "    - `Parameter`s\n",
    "      - overview1 https://qcodes.github.io/Qcodes/examples/Parameters/Parameters.html\n",
    "      - overview2 https://qcodes.github.io/Qcodes/examples/writing_drivers/Creating-Instrument-Drivers.html#What%E2%80%99s-a-Parameter? - only this section\n",
    "      - API docs https://qcodes.github.io/Qcodes/api/parameters/parameter.html#module-qcodes.instrument.parameter\n",
    "      - `ParameterWithSetpoints` https://qcodes.github.io/Qcodes/examples/Parameters/Simple-Example-of-ParameterWithSetpoints.html\n",
    "    - Performing measurements https://qcodes.github.io/Qcodes/examples/DataSet/Performing-measurements-using-qcodes-parameters-and-dataset.html\n",
    "    - dataset notebooks\n",
    "      - the class https://qcodes.github.io/Qcodes/examples/DataSet/DataSet-class-walkthrough.html\n",
    "      - data access https://qcodes.github.io/Qcodes/examples/DataSet/Accessing-data-in-DataSet.html\n",
    "- During:\n",
    "  - Go through notebook in 3 parts, have 5 min breaks, 5 min reserve beginning, 10 min reserve at the end\n",
    "  - Have a time keeper\n",
    "  - Let ask questions at specific moments but very frequently to feel interactive\n",
    "- After:\n",
    "  - Port notebook to qcodes docs ASAP\n",
    "  - Sessions on some parts if requested"
   ]
  },
  {
   "cell_type": "markdown",
   "metadata": {
    "heading_collapsed": true,
    "hidden": true
   },
   "source": [
    "### Imports"
   ]
  },
  {
   "cell_type": "code",
   "execution_count": 2,
   "metadata": {
    "hidden": true
   },
   "outputs": [
    {
     "name": "stdout",
     "output_type": "stream",
     "text": [
      "Logging hadn't been started.\n",
      "Activating auto-logging. Current session state plus future input saved.\n",
      "Filename       : C:\\Users\\a-miasta\\.qcodes\\logs\\command_history.log\n",
      "Mode           : append\n",
      "Output logging : True\n",
      "Raw input log  : False\n",
      "Timestamping   : True\n",
      "State          : active\n",
      "Qcodes Logfile : C:\\Users\\a-miasta\\.qcodes\\logs\\200415-28860-qcodes.log\n"
     ]
    }
   ],
   "source": [
    "import qcodes\n",
    "\n",
    "from typing import Optional, Sequence, Dict\n",
    "from pprint import pprint\n",
    "\n",
    "import numpy"
   ]
  },
  {
   "cell_type": "markdown",
   "metadata": {
    "heading_collapsed": true
   },
   "source": [
    "## QCoDeS? ah? [5min]\n",
    "\n",
    "What is it? What are it's goals, and users? And why?"
   ]
  },
  {
   "cell_type": "markdown",
   "metadata": {
    "heading_collapsed": true,
    "hidden": true
   },
   "source": [
    "### \"The It\""
   ]
  },
  {
   "cell_type": "markdown",
   "metadata": {
    "hidden": true
   },
   "source": [
    "**Q.** uantum **Co** penhagen **De** lft **S** ydney:\n",
    "\n",
    "- data acquisition framework\n",
    "- modular\n",
    "- python-based\n",
    "- open-source"
   ]
  },
  {
   "cell_type": "markdown",
   "metadata": {
    "heading_collapsed": true,
    "hidden": true
   },
   "source": [
    "### Goal"
   ]
  },
  {
   "cell_type": "markdown",
   "metadata": {
    "hidden": true
   },
   "source": [
    "**Common** framework for physics experiments:\n",
    "\n",
    "- users need to write only their-own-experiment-specific code\n",
    "- physics experiments can take advantage of modern software and best practices\n",
    "- code can and should be contributed back to the framework\n",
    "- the process of moving between teams or labs, and of setting up a new experiment is streamlined\n",
    "- new students don’t need to spend a long time learning software in order to participate in experiments"
   ]
  },
  {
   "cell_type": "markdown",
   "metadata": {
    "heading_collapsed": true,
    "hidden": true
   },
   "source": [
    "### Users"
   ]
  },
  {
   "cell_type": "markdown",
   "metadata": {
    "hidden": true
   },
   "source": [
    "- people doing measurements:\n",
    "  - academics: e.g. scientists and students\n",
    "  - corporates: e.g. experimentalists, engineers, hardware manufacturers\n",
    "- worldwide"
   ]
  },
  {
   "cell_type": "markdown",
   "metadata": {
    "heading_collapsed": true,
    "hidden": true
   },
   "source": [
    "### Driven by"
   ]
  },
  {
   "cell_type": "markdown",
   "metadata": {
    "hidden": true
   },
   "source": [
    "- Microsoft, largely\n",
    "- worldwide comminity, growing"
   ]
  },
  {
   "cell_type": "markdown",
   "metadata": {
    "heading_collapsed": true,
    "hidden": true
   },
   "source": [
    "### Development principles"
   ]
  },
  {
   "cell_type": "markdown",
   "metadata": {
    "hidden": true
   },
   "source": [
    "- Robust code - as opposed to what users are used to from other measurement frameworks\n",
    "- Respect backwards compatibility - don't break user's code that \"works\"!\n",
    "- Modularity - extend-existing, not go-off-and-write-your-own\n",
    "- User facing API - list in docs, devs can use everything as appropriate\n",
    "- All of the above is basically maintatining users' trust\n",
    "- Carefully scoping problems"
   ]
  },
  {
   "cell_type": "markdown",
   "metadata": {},
   "source": [
    "## I wanna MEASURE [30min]\n",
    "\n",
    "How do I measure things? How are measurements enabled via QCoDeS?\n",
    "\n",
    "We will be looking into the following pyramid of objects and concepts:\n",
    "- Station - the ultimate bucket\n",
    "  - Instruments - and channels\n",
    "    - Parameters - many kinds"
   ]
  },
  {
   "cell_type": "markdown",
   "metadata": {
    "heading_collapsed": true
   },
   "source": [
    "### Station"
   ]
  },
  {
   "cell_type": "markdown",
   "metadata": {
    "hidden": true
   },
   "source": [
    "``Station`` is just a bucket for components such as instruments, parameters, etc.\n",
    "\n",
    "Speaking more strictly, those components should be snapshot-able (subclasses of ``Metadatable``), but more about this in the section about the snapshot.\n",
    "\n",
    "``Station`` can be created with python code and/or using YAML configuration file. [Read on Station, its interface, YAML config, and more here](http://qcodes.github.io/Qcodes/examples/Station.html)."
   ]
  },
  {
   "cell_type": "code",
   "execution_count": 3,
   "metadata": {
    "hidden": true
   },
   "outputs": [],
   "source": [
    "from qcodes.station import Station"
   ]
  },
  {
   "cell_type": "markdown",
   "metadata": {
    "heading_collapsed": true,
    "hidden": true
   },
   "source": [
    "#### Default station"
   ]
  },
  {
   "cell_type": "markdown",
   "metadata": {
    "hidden": true
   },
   "source": [
    "Notice the ``default=True`` argument of the ``Station`` - it controls wether to store the initialized ``Station`` object into an attribute.\n",
    "\n",
    "Using ``Station.default`` as a fallback in other objects in QCoDeS is very common, as it is extremely uncommon that more than one ``Station`` is initiated in one python session."
   ]
  },
  {
   "cell_type": "code",
   "execution_count": 4,
   "metadata": {
    "hidden": true
   },
   "outputs": [],
   "source": [
    "station = Station()  # default=True\n",
    "\n",
    "assert Station.default is station\n",
    "\n",
    "station2 = Station(default=False)\n",
    "\n",
    "assert station2 is not Station.default"
   ]
  },
  {
   "cell_type": "markdown",
   "metadata": {
    "heading_collapsed": true
   },
   "source": [
    "### Instruments"
   ]
  },
  {
   "cell_type": "markdown",
   "metadata": {
    "hidden": true
   },
   "source": [
    "Instrument conceptually represents hardware that one needs to talk to in order to perform measurements.\n",
    "\n",
    "The concept can be expanded to also include \"instruments\" that are:\n",
    "\n",
    "- not remotly controllable but it's important to record their state\n",
    "- exposing a more measurement-specific interface while aggregating actual instruments"
   ]
  },
  {
   "cell_type": "markdown",
   "metadata": {
    "heading_collapsed": true,
    "hidden": true
   },
   "source": [
    "#### Drivers"
   ]
  },
  {
   "cell_type": "markdown",
   "metadata": {
    "hidden": true
   },
   "source": [
    "Concrete implementation of classes and abstracations provided by QCoDeS for particular piece of hardware is commonly referred to as ``drivers`` or ``QCoDeS drivers`` for that piece of hardware.\n",
    "\n",
    "From a real conversation:\n",
    "\n",
    "> - Shall we buy this useful, powerful, and expensive measurement equipment?\n",
    "> - Hmm... Is there a QCoDeS driver for it?"
   ]
  },
  {
   "cell_type": "markdown",
   "metadata": {
    "heading_collapsed": true,
    "hidden": true
   },
   "source": [
    "#### Base class(es)"
   ]
  },
  {
   "cell_type": "markdown",
   "metadata": {
    "hidden": true
   },
   "source": [
    "From coding perspective, instruments in QCoDeS are subclasses of ``Instrument`` and ``InstrumentBase`` from ``qcodes.instrument.base``.\n",
    "\n",
    "``InstrumentBase`` - defines interface:\n",
    "\n",
    "- has a name\n",
    "- is snapshot-able (subclass of ``Metadatable``)\n",
    "- serves as a bucket for ``Parameter``s\n",
    "- may include snapshot-able \"submodules\"\n",
    "  - navigation via ``root_instrument``, ``parent``, ``ancestors``\n",
    "- instance-bound logger\n",
    "- convenient dot-notation access to it's parameters and submodules (thanks to ``DelegateAttributes``)\n",
    "- convenient ``[]``-notation access to them as well\n",
    "\n",
    "``Instrument`` - accounts for communication:\n",
    "\n",
    "- subclass of ``InstrumentBase``\n",
    "- hides communication with hardware via ``ask``/``write``\n",
    "- implements global registry of instrument instances\n",
    "- ``IDN``, ``connect_message``"
   ]
  },
  {
   "cell_type": "markdown",
   "metadata": {
    "heading_collapsed": true,
    "hidden": true
   },
   "source": [
    "#### Submodules"
   ]
  },
  {
   "cell_type": "markdown",
   "metadata": {
    "hidden": true
   },
   "source": [
    "Submodules allow for logical grouping of functionality within an instrument. For example, [look at the trigger, sample, and display submodules of Keysight 344xxA driver](https://qcodes.github.io/Qcodes/examples/driver_examples/Qcodes%20example%20with%20Keysight%20344xxA.html#Parameters-and-methods-overview) which allow to conveniently group parameters and methods without polluting the root namespace of the driver.\n",
    "\n",
    "To add a submodule to an instrument, use it's ``add_submodule`` method (usually in instrument's ``__init__``).\n",
    "\n",
    "``InstrumentBase`` promises to include snapshots of it's submodules in its own snapshot.\n",
    "\n",
    "How to implement submodules may not be clear:\n",
    "- the current implementation suggests that any ``Metadatable`` object will work\n",
    "- the typing of ``add_submodule`` suggests using/subclassing ``InstrumentBase`` in order to take full advantage of the ``InstrumentBase``s interface for the submodule\n",
    "- most commonly used/cubclasses is ``InstrumentChannel`` from ``qcodes.instrument.channel`` because\n",
    "  - it takes care of correct naming and \n",
    "  - forwards communication to the parent instrument"
   ]
  },
  {
   "cell_type": "markdown",
   "metadata": {
    "heading_collapsed": true,
    "hidden": true
   },
   "source": [
    "#### Channels"
   ]
  },
  {
   "cell_type": "markdown",
   "metadata": {
    "hidden": true
   },
   "source": [
    "Channels are most popular submodules of instruments. Why? Think of a multi-channel voltage source kind of instrument.\n",
    "\n",
    "QCoDeS provides ``InstrumentChannel`` class that takes care of correct naming and forwards communication to the parent instrument. ``InstrumentChannel`` can be added as submodules to the instrument.\n",
    "\n",
    "Moreover, QCoDeS provides ``ChannelList`` class. In short, it allows to group channels that are of the same class, and implements convenient access to common parameters and functions of those channels. See the difference between the following ways of setting voltage parameter of all channels to ``0``:\n",
    "```python\n",
    "my_voltage_source.channels.voltage(0)\n",
    "```\n",
    "versus\n",
    "```python\n",
    "for channel in my_voltage_source.channels:\n",
    "    channel.voltage(0)\n",
    "```\n",
    "or even worse\n",
    "```python\n",
    "channel_names = [...]  # I just happen to know them\n",
    "for channel_name in channel_names:\n",
    "    channel = my_voltage_source[channel_name]\n",
    "    channel.voltage(0)\n",
    "```"
   ]
  },
  {
   "cell_type": "markdown",
   "metadata": {
    "heading_collapsed": true,
    "hidden": true
   },
   "source": [
    "#### Hardware communication"
   ]
  },
  {
   "cell_type": "markdown",
   "metadata": {
    "hidden": true
   },
   "source": [
    "``Instrument`` class suggests the most frequent use case of how communication with hardware is being performed:\n",
    "- ``write(cmd: str) -> None``\n",
    "- ``ask(cmd: str) -> str``\n",
    "\n",
    "Subclasses of ``Instrument`` should implement concrete communication by overriding ``write_raw`` and ``ask_raw``.\n",
    "\n",
    "A lot of QCoDeS abstractions are built with this string-command-based communication model in mind, especially ``Parameter``."
   ]
  },
  {
   "cell_type": "markdown",
   "metadata": {
    "heading_collapsed": true,
    "hidden": true
   },
   "source": [
    "##### ``VisaInstrument``"
   ]
  },
  {
   "cell_type": "markdown",
   "metadata": {
    "hidden": true
   },
   "source": [
    "A great example is ``VisaInstrument`` from ``qcodes.instrument.visa`` - it implements ``write_raw`` and ``ask_raw`` on top of ``pyvisa`` library that provides a python wrapper over implementations of VISA (Virtual Instrument Software Architecture) API.\n",
    "\n",
    "Here's a schematic of the layering, from high, user-facing, to low:\n",
    "```\n",
    "- MyInstrumentDriver . parameter/method\n",
    "- VisaInstrument     . ask/write\n",
    "- Instrument         . ask_raw/write_raw\n",
    "- pyvisa .. Resource . query/write\n",
    "- Actual hardware communication layer, e.g. LAN, USB\n",
    "  implemented by a VISA driver (e.g. National Instruments, pyvisa-py, etc)\n",
    "```\n",
    "\n",
    "The command API of the most VISA instruments conforms to SCPI (Standard Commands for Programmable Instruments) standard which makes QCoDeS driver development for those instruments extremely easy."
   ]
  },
  {
   "cell_type": "markdown",
   "metadata": {
    "heading_collapsed": true,
    "hidden": true
   },
   "source": [
    "##### Other"
   ]
  },
  {
   "cell_type": "markdown",
   "metadata": {
    "hidden": true
   },
   "source": [
    "QCoDeS does **not** restrict interacting with hardware only with this communication model. An good example of this are instruments which use some specific ``.dll`` library, see drivers for [Alazar high-speed digital acquisition cards](https://github.com/QCoDeS/Qcodes/blob/master/qcodes/instrument_drivers/AlazarTech/ATS.py#L68), [Vaunix step attenuator](https://github.com/QCoDeS/Qcodes_contrib_drivers/blob/c007532d48dfc035a9e2f03167606c16c42d7f77/qcodes_contrib_drivers/drivers/Vaunix/LDA.py#L59), etc.\n",
    "\n",
    "In that case, ``write_raw``/``ask_raw`` are usually left as raising ``NotImplementedError``, and parameters and methods of the instrument driver don't use them at all."
   ]
  },
  {
   "cell_type": "markdown",
   "metadata": {
    "heading_collapsed": true,
    "hidden": true
   },
   "source": [
    "#### Registry of instances"
   ]
  },
  {
   "cell_type": "markdown",
   "metadata": {
    "hidden": true
   },
   "source": [
    "QCoDeS does not allow creation of an instrument with the same ``name``. Why? - To enforce that there is **only one** connection to an instrument."
   ]
  },
  {
   "cell_type": "markdown",
   "metadata": {
    "heading_collapsed": true,
    "hidden": true
   },
   "source": [
    "##### No instruments with same name"
   ]
  },
  {
   "cell_type": "markdown",
   "metadata": {
    "hidden": true
   },
   "source": [
    "Let's try to create two instruments with the same name:"
   ]
  },
  {
   "cell_type": "code",
   "execution_count": 5,
   "metadata": {
    "hidden": true
   },
   "outputs": [],
   "source": [
    "from qcodes.instrument.base import Instrument\n",
    "\n",
    "foo_called_foo = Instrument('foo')"
   ]
  },
  {
   "cell_type": "code",
   "execution_count": 6,
   "metadata": {
    "hidden": true
   },
   "outputs": [
    {
     "name": "stderr",
     "output_type": "stream",
     "text": [
      "Traceback (most recent call last):\n",
      "  File \"<ipython-input-6-1e60ed53d4d7>\", line 2, in <module>\n",
      "    bar_called_foo = Instrument('foo')\n",
      "  File \"c:\\users\\a-miasta\\pycharmprojects\\qcodes\\qcodes\\instrument\\base.py\", line 431, in __init__\n",
      "    self.record_instance(self)\n",
      "  File \"c:\\users\\a-miasta\\pycharmprojects\\qcodes\\qcodes\\instrument\\base.py\", line 567, in record_instance\n",
      "    raise KeyError('Another instrument has the name: {}'.format(name))\n",
      "KeyError: 'Another instrument has the name: foo'\n"
     ]
    }
   ],
   "source": [
    "try:\n",
    "    bar_called_foo = Instrument('foo')\n",
    "except:\n",
    "    import traceback\n",
    "    traceback.print_exc()"
   ]
  },
  {
   "cell_type": "markdown",
   "metadata": {
    "hidden": true
   },
   "source": [
    "In order to get rid of the exception, the user needs to ``close`` one of the instruments:"
   ]
  },
  {
   "cell_type": "code",
   "execution_count": 7,
   "metadata": {
    "hidden": true
   },
   "outputs": [],
   "source": [
    "foo_called_foo.close()"
   ]
  },
  {
   "cell_type": "code",
   "execution_count": 8,
   "metadata": {
    "hidden": true
   },
   "outputs": [
    {
     "data": {
      "text/plain": [
       "<Instrument: foo>"
      ]
     },
     "execution_count": 8,
     "metadata": {},
     "output_type": "execute_result"
    }
   ],
   "source": [
    "bar_called_foo = Instrument('foo')\n",
    "bar_called_foo"
   ]
  },
  {
   "cell_type": "markdown",
   "metadata": {
    "heading_collapsed": true,
    "hidden": true
   },
   "source": [
    "##### Fool proof?"
   ]
  },
  {
   "cell_type": "markdown",
   "metadata": {
    "hidden": true
   },
   "source": [
    "This may not be the optimal mechanism.\n",
    "\n",
    "For example, one can fool the mechanism by using two different names but the same VISA address:\n",
    "```python\n",
    "foo_at_address1 = VisaInstrument('foo', address='address1')\n",
    "bar_at_address1 = VisaInstrument('bar', address='address1')\n",
    "# DISCLAIMER: only tried with pyvisa-sim, not a real VISA driver\n",
    "```\n",
    "in which case it's now up to the \"connectivity backend\" (in this case, VISA) to deal with having multiple \"connections\" to the same piece of hardware."
   ]
  },
  {
   "cell_type": "markdown",
   "metadata": {
    "heading_collapsed": true,
    "hidden": true
   },
   "source": [
    "##### Behind the scenes"
   ]
  },
  {
   "cell_type": "markdown",
   "metadata": {
    "hidden": true
   },
   "source": [
    "Behind the scenes QCoDeS maintains a registry of instrument instances by their names. The scope of the registry is the python process.\n",
    "\n",
    "``Instrument`` class maintains an ``_all_instruments`` name-to-weak-reference dictionary in a class attribute.\n",
    "\n",
    "Each ``Instrument`` subclass maintains its own ``_instances`` list of weak references to instances of **only that (sub)class** as in a class attribute (and as ``instances`` method)."
   ]
  },
  {
   "cell_type": "markdown",
   "metadata": {
    "hidden": true
   },
   "source": [
    "``Instrument`` class provides a few class methods for navigating in the registry: ``instances``, ``find_instrument``, ``exists``, ``is_valid``. The most popular however are ``close_all`` method and ``find_or_create-instrument`` function."
   ]
  },
  {
   "cell_type": "markdown",
   "metadata": {
    "heading_collapsed": true,
    "hidden": true
   },
   "source": [
    "##### ``find_or_create_instrument``"
   ]
  },
  {
   "cell_type": "markdown",
   "metadata": {
    "hidden": true
   },
   "source": [
    "There is a ``find_or_create_instrument`` convenience function that allows to conveniently find an existing instrument, create it if it doesn't exists, or re-create it if it does exist:"
   ]
  },
  {
   "cell_type": "code",
   "execution_count": 9,
   "metadata": {
    "hidden": true
   },
   "outputs": [],
   "source": [
    "from qcodes.instrument.base import find_or_create_instrument"
   ]
  },
  {
   "cell_type": "code",
   "execution_count": 10,
   "metadata": {
    "hidden": true
   },
   "outputs": [
    {
     "name": "stdout",
     "output_type": "stream",
     "text": [
      "Connected to: None foo (serial:None, firmware:None) in 0.08s\n"
     ]
    }
   ],
   "source": [
    "# Example of Find\n",
    "foo = find_or_create_instrument(Instrument, 'foo')\n",
    "assert foo is bar_called_foo"
   ]
  },
  {
   "cell_type": "code",
   "execution_count": 11,
   "metadata": {
    "hidden": true
   },
   "outputs": [],
   "source": [
    "# Example of Recreate\n",
    "foo = find_or_create_instrument(Instrument, 'foo', recreate=True)\n",
    "assert foo is not bar_called_foo"
   ]
  },
  {
   "cell_type": "code",
   "execution_count": 12,
   "metadata": {
    "hidden": true
   },
   "outputs": [],
   "source": [
    "# Example of Create\n",
    "class MyInstrument(Instrument):\n",
    "    pass\n",
    "\n",
    "foo = find_or_create_instrument(MyInstrument, 'bar')"
   ]
  },
  {
   "cell_type": "markdown",
   "metadata": {
    "heading_collapsed": true,
    "hidden": true
   },
   "source": [
    "##### ``close_all``"
   ]
  },
  {
   "cell_type": "markdown",
   "metadata": {
    "hidden": true
   },
   "source": [
    "Another useful API is ``close_all`` - it closes all instrument instances."
   ]
  },
  {
   "cell_type": "code",
   "execution_count": 13,
   "metadata": {
    "hidden": true
   },
   "outputs": [
    {
     "name": "stdout",
     "output_type": "stream",
     "text": [
      "before closing all: {'foo': <weakref at 0x0000027AF08324A8; to 'Instrument' at 0x0000027AF228CCC8>, 'bar': <weakref at 0x0000027AF2275F98; to 'MyInstrument' at 0x0000027AF227A0C8>}\n",
      "after closing all: {}\n"
     ]
    }
   ],
   "source": [
    "print('before closing all:', Instrument._all_instruments)\n",
    "\n",
    "Instrument.close_all()\n",
    "\n",
    "print('after closing all:', Instrument._all_instruments)"
   ]
  },
  {
   "cell_type": "markdown",
   "metadata": {
    "heading_collapsed": true,
    "hidden": true
   },
   "source": [
    "##### And ``Station``?"
   ]
  },
  {
   "cell_type": "markdown",
   "metadata": {
    "hidden": true
   },
   "source": [
    "``Station`` is aware of the instrument instance registry. It exposes convenient API which is station-scoped version of the above-mentioned ``Instrument`` APIs:\n",
    "\n",
    "- ``.load_instrument(.., revive_instance=False, ..)`` - for ``find_or_create_instrument``\n",
    "- ``.close_and_remove_instrument(..)`` - for ``Instrument.close``\n",
    "- ``.close_all_registered_instruments(..)`` - for ``Instrument.close_all``"
   ]
  },
  {
   "cell_type": "markdown",
   "metadata": {},
   "source": [
    "### Parameters"
   ]
  },
  {
   "cell_type": "markdown",
   "metadata": {},
   "source": [
    "Parameters in QCoDeS serve mostly two purposes:\n",
    "\n",
    "- values that can be **set** or **measured** via an instrument, e.g. voltage, current, time trace\n",
    "- \"settings\" of an instrument, e.g. range, precision, NPLCs\n",
    "\n",
    "**NOTE** that context of an experiment/measurement is important. The same parameter may serve either of the purposes depending on the context. Think of an offset of a sine wave - in one experiment that will be just a setting, in another it will \"set\" to different values (e.g. swept over).\n",
    "\n",
    "In QCoDeS, parameter is modeled as an object that is:\n",
    "\n",
    "- representing a value (in broad sense)\n",
    "- and metadata about that value,\n",
    "- and that value can, or can't, be ``set`` and ``get``"
   ]
  },
  {
   "cell_type": "markdown",
   "metadata": {
    "heading_collapsed": true
   },
   "source": [
    "#### Base class(es)"
   ]
  },
  {
   "cell_type": "markdown",
   "metadata": {
    "hidden": true
   },
   "source": [
    "The main base class for parameters in QCoDeS is ``Parameter`` from ``qcodes.instrument.parameter``.\n",
    "\n",
    "All parameters should be created/instantiated from ``Parameter``, and more sophisticated parameters should be implemented as subclasses ``Parameter``.\n",
    "\n",
    "However, ``Parameter`` inherits from a ``_BaseParameter``. The separation between the two may not be clear from the code, yet let's try to see it below:\n",
    "\n",
    "``_BaseParameter`` - the \"meat\":\n",
    "\n",
    "- has a name\n",
    "- implements ``set``/``get`` methods\n",
    "  - via wrapping ``get_raw``/``set_raw`` that are to be overridden\n",
    "  - ``__call__`` convenience\n",
    "- built-in ``set``/``get`` behavior controls:\n",
    "  - value validators\n",
    "  - ``get_parser``, ``set_parser``\n",
    "  - ``val_mapping``\n",
    "  - ``scale``, ``offset``\n",
    "  - ``step``\n",
    "  - ``inter_delay``, ``post_delay``\n",
    "- has ``cache`` of the parameter value\n",
    "  - and, ``get_latest``, cache's predecessor\n",
    "- may be aware of the instrument it belongs to\n",
    "- is snapshot-able (subclass of ``Metadatable``)\n",
    "  - implements flags that control how snapshot is being taken\n",
    "\n",
    "``Parameter`` - the important extension:\n",
    "\n",
    "- subclass of ``_BaseParameter``\n",
    "- adds ``label``, ``unit``, ``docstring``\n",
    "- enables strings, callables, ``None`` and ``False`` as ``set``/``get``\n",
    "- interfaces for the legacy ``Loop`` feature"
   ]
  },
  {
   "cell_type": "markdown",
   "metadata": {
    "heading_collapsed": true
   },
   "source": [
    "#### Name, label, unit, ..."
   ]
  },
  {
   "cell_type": "markdown",
   "metadata": {
    "hidden": true
   },
   "source": [
    "Metadata is a very important part of the parameter. It allows to reason about the meaning of its value, and ``set``/``get`` commands (if any). Hence, it is important to assign good names, labels, units, and a docstring."
   ]
  },
  {
   "cell_type": "markdown",
   "metadata": {
    "hidden": true
   },
   "source": [
    "``name`` is NOT supposed to be changed after parameter's initialization.\n",
    "\n",
    "``label`` and ``unit`` are plain attributes of ``Parameter`` and are not recommended to be changed after initialization.\n",
    "\n",
    "However, it is tempting to adjust ``label``/``unit`` sometimes. When a parameter represents some sort of an acquisition buffer of an instrument which can hold both, for example, voltage and current values, it'd be great to change ``label``/``unit`` to ``\"Voltage\"``/``\"V\"`` when the instrument is aquiring voltage, and to ``\"Current\"``/``\"A\"`` when it's aquiring current. Note that unfortunately, the docstring of the parameter (the ``__doc__``) will still use ``label``/``unit`` that the parameter was initiated with. That is to say that not all ``Parameter`` features are implemented with change-ability of ``label``/``unit`` in mind."
   ]
  },
  {
   "cell_type": "markdown",
   "metadata": {
    "hidden": true
   },
   "source": [
    "Below a few parameters are created, and their final docstring is printed."
   ]
  },
  {
   "cell_type": "code",
   "execution_count": 14,
   "metadata": {
    "hidden": true
   },
   "outputs": [],
   "source": [
    "from qcodes.instrument.parameter import Parameter\n",
    "\n",
    "delay = Parameter(\n",
    "    'delay',\n",
    "    label='Trigger Delay',\n",
    "    unit='s',\n",
    "    docstring='Delay between the trigger signal and the first measurement'\n",
    ")\n",
    "\n",
    "voltage = Parameter(\n",
    "    'voltage',\n",
    "    label='Voltage',\n",
    "    unit='V',\n",
    "    docstring='Measured voltage'\n",
    ")"
   ]
  },
  {
   "cell_type": "code",
   "execution_count": 15,
   "metadata": {
    "hidden": true,
    "scrolled": false
   },
   "outputs": [
    {
     "name": "stdout",
     "output_type": "stream",
     "text": [
      "Delay between the trigger signal and the first measurement\n",
      "\n",
      "Parameter class:\n",
      "\n",
      "* `name` delay\n",
      "* `label` Trigger Delay\n",
      "* `unit` s\n",
      "* `vals` None\n"
     ]
    }
   ],
   "source": [
    "print(delay.__doc__)"
   ]
  },
  {
   "cell_type": "code",
   "execution_count": 16,
   "metadata": {
    "hidden": true
   },
   "outputs": [
    {
     "name": "stdout",
     "output_type": "stream",
     "text": [
      "Measured voltage\n",
      "\n",
      "Parameter class:\n",
      "\n",
      "* `name` voltage\n",
      "* `label` Voltage\n",
      "* `unit` V\n",
      "* `vals` None\n"
     ]
    }
   ],
   "source": [
    "print(voltage.__doc__)"
   ]
  },
  {
   "cell_type": "markdown",
   "metadata": {
    "heading_collapsed": true
   },
   "source": [
    "#### ``add_parameter`` of ``Instrument``"
   ]
  },
  {
   "cell_type": "markdown",
   "metadata": {
    "hidden": true
   },
   "source": [
    "Parameters are usually conveniently grouped into instruments or their submodules. This is why ``InstrumentBase`` implements a convenient ``add_parameter`` method - it's purpose is to:\n",
    "\n",
    "- initiate a parameter of optionally provided class with provided arguments,\n",
    "- ensure that the instrument instance is passed to the parameter, and\n",
    "- add the initiated parameter to instruments collection of parameters (in ``.parameters``).\n",
    "\n",
    "It is important that ``add_parameter`` ensures to pass to the instrument instance to the parameter. Thanks to this:\n",
    "- the parameter can use the instrument instance via its ``.instrument`` and ``root_instrument`` properties\n",
    "- parameter can leverage the instrument's ``write``/``ask`` methods for communication with the hardware\n",
    "- parameter's ``full_name`` gets prefixed by the instrument's name (or, more broadly, by the channel's or submodule's name)"
   ]
  },
  {
   "cell_type": "markdown",
   "metadata": {
    "heading_collapsed": true
   },
   "source": [
    "#### ``set`` and ``get``"
   ]
  },
  {
   "cell_type": "markdown",
   "metadata": {
    "hidden": true
   },
   "source": [
    "``set`` and ``get`` methods of a parameter are it's primary interface for setting and getting it's value:\n",
    "\n",
    "* ``.set(value: ParamDataType) -> None``\n",
    "* ``.get() -> ParamDataType``\n",
    "\n",
    "(``ParamDataType`` is an alias for ``Any``, and is used mostly for readability.)\n",
    "\n",
    "Actual signatures are more flexible - ``kwargs`` for both and even ``args`` for ``get``:\n",
    "* ``.set(value: ParamDataType, **kwargs: Any) -> None``\n",
    "* ``.get(*args: Any, **kwargs: Any) -> ParamDataType``\n",
    "\n",
    "Usage of ``args`` and ``kwargs`` is discouraged in order not to pollute the simplicity of the ``Parameter``'s interface."
   ]
  },
  {
   "cell_type": "markdown",
   "metadata": {
    "hidden": true
   },
   "source": [
    "Where does the ``value`` come from or get sent to? It can be:\n",
    "\n",
    "- some instrument - communication with hardware\n",
    "- memory - value stored in memory, and is just useful in a particular context\n",
    "- **anything** - ``set``/``get`` are just callables, they can really do anything about the value :)"
   ]
  },
  {
   "cell_type": "markdown",
   "metadata": {
    "hidden": true
   },
   "source": [
    "``set`` and ``get`` methods are not explicit bound methods of a parameter. They are created during ``__init__`` by wrapping other methods which concretely implement what needs to happen when a value is being ``set`` or ``get``.\n",
    "\n",
    "The ways to provide these concrete implementations for wrapping into actual ``set``/``get`` methods are described below."
   ]
  },
  {
   "cell_type": "markdown",
   "metadata": {
    "heading_collapsed": true,
    "hidden": true
   },
   "source": [
    "##### ``set_raw`` and ``get_raw``"
   ]
  },
  {
   "cell_type": "markdown",
   "metadata": {
    "hidden": true
   },
   "source": [
    "The primary way of implementing behavior of ``set``/``get`` is to override ``set_raw``/``get_raw`` methods of ``Parameter`` (well, actually ``_BaseParameter``). Behind the scenes, calling ``set``/``get`` will forward the call to ``set_raw``/``get_raw``."
   ]
  },
  {
   "cell_type": "markdown",
   "metadata": {
    "hidden": true
   },
   "source": [
    "Below we implement a trivial parameter that accesses a variable in outer scope. (It is convenient to use for demonstration, but never do this in production :) )"
   ]
  },
  {
   "cell_type": "code",
   "execution_count": 17,
   "metadata": {
    "hidden": true
   },
   "outputs": [],
   "source": [
    "precious_value = 42\n",
    "\n",
    "class PreciousParameter(Parameter):\n",
    "    def set_raw(self, value):\n",
    "        global precious_value\n",
    "        precious_value = value\n",
    "\n",
    "    def get_raw(self):\n",
    "        global precious_value\n",
    "        return precious_value"
   ]
  },
  {
   "cell_type": "code",
   "execution_count": 18,
   "metadata": {
    "hidden": true
   },
   "outputs": [],
   "source": [
    "my_precious = PreciousParameter(\n",
    "    'my_precious',\n",
    "    label='My Precious Value',\n",
    "    unit=''  # precious things are priceless, unitless\n",
    ")\n",
    "\n",
    "# Value gotten via the parameter should equal to ``precious_value``\n",
    "parameter_value = my_precious.get()\n",
    "assert parameter_value == precious_value\n",
    "\n",
    "# Setting parameter value should be reflected in ``precious_value``\n",
    "my_precious.set(66)\n",
    "assert precious_value == 66\n",
    "\n",
    "# Getting parameter value again should still return the new ``precious_value``\n",
    "parameter_value = my_precious.get()\n",
    "assert parameter_value == precious_value"
   ]
  },
  {
   "cell_type": "markdown",
   "metadata": {
    "heading_collapsed": true,
    "hidden": true
   },
   "source": [
    "##### ``set_cmd`` and ``get_cmd``"
   ]
  },
  {
   "cell_type": "markdown",
   "metadata": {
    "hidden": true
   },
   "source": [
    "Historically, more flexible and convenient ways of defining parameter's ``set``/``get`` methods behavior were needed. This is how ``Parameter`` (not ``_BaseParameter``) got two interesting arguments - ``set_cmd`` and ``get_cmd``. Let's go through the \"values\" that can be supplied with these arguments."
   ]
  },
  {
   "cell_type": "markdown",
   "metadata": {
    "heading_collapsed": true,
    "hidden": true
   },
   "source": [
    "###### ``False`` - non-get-able/non-set-able parameter"
   ]
  },
  {
   "cell_type": "markdown",
   "metadata": {
    "hidden": true
   },
   "source": [
    "If a ``Parameter`` is initialized with the set/get commands set to ``False`` then its not settable/gettable. This means that the instance will not have the ``set``/``get`` methods respectively.\n",
    "\n",
    "* Having a set-only or a get-only parameter may be useful\n",
    "  * for example for measurement parameters, or settings/characteristics that an instrument calculates internally\n",
    "* If a parameter is set-only or get-only, it is still possible to access its cache which is useful when implementinga driver.\n",
    "* It is rarely useful to have a parameter that can't be both set and gotten.\n",
    "* ``set_cmd=False`` is ``Parameter``s default, likely due to frequent occurence of get-only instrument parameters."
   ]
  },
  {
   "cell_type": "markdown",
   "metadata": {
    "heading_collapsed": true,
    "hidden": true
   },
   "source": [
    "###### ``None`` - \"memory parameter\", store/take value in/from memory"
   ]
  },
  {
   "cell_type": "markdown",
   "metadata": {
    "hidden": true
   },
   "source": [
    "If a ``Parameter`` is initialized with commands set to ``None``, then parameter's internal cache will be the only place where the value is stored.\n",
    "\n",
    "* It is possible to pass only one of the ``set_cmd``/``get_cmd`` as ``None``\n",
    "  * The reason this works is that parameter's cache is used anyway to store the value,\n",
    "    so any additional behavior of ``set``/``get`` is an \"extra\".\n",
    "  * This can be useful - for example, if an instrument permits to only get or only set some settings,\n",
    "    it may be convenient to rely on parameter's cache for the not-permitted operation.\n",
    "* ``get_cmd=None`` is ``Parameter``s default, likely due to frequent occurence of set-only instrument parameters."
   ]
  },
  {
   "cell_type": "markdown",
   "metadata": {
    "heading_collapsed": true,
    "hidden": true
   },
   "source": [
    "###### String ``Command``s - convenient for SCPI (all text-based) instruments"
   ]
  },
  {
   "cell_type": "markdown",
   "metadata": {
    "hidden": true
   },
   "source": [
    "Text-based communication is very popular among instruments. Most of them even conform to the SCPI standard of the text-based instrument API."
   ]
  },
  {
   "cell_type": "markdown",
   "metadata": {
    "hidden": true
   },
   "source": [
    "Now, let's at what pattern is frequently arises because of this - let's try to implement a driver for a VISA instrument that uses text-based communication with one parameter."
   ]
  },
  {
   "cell_type": "code",
   "execution_count": 3,
   "metadata": {
    "hidden": true
   },
   "outputs": [],
   "source": [
    "from qcodes.instrument.visa import VisaInstrument\n",
    "from qcodes.instrument.parameter import Parameter\n",
    "\n",
    "\n",
    "class Meter(VisaInstrument):\n",
    "    # This will be a simple instrument that can measure\n",
    "    # 'a feeling of temperature' and return a string.\n",
    "    # It also allows us to specify a range which increases\n",
    "    # its vocabulary of temperature feelings.\n",
    "\n",
    "    def __init__(self, name, address):\n",
    "        # skipping many other arguments for simplicity\n",
    "        super().__init__(name, address)\n",
    "        \n",
    "        self.add_parameter('measure', parameter_class=MeasureParameter)\n",
    "        self.add_parameter('range', parameter_class=RangeParameter)\n",
    "\n",
    "\n",
    "class MeasureParameter(Parameter):\n",
    "    # In order not to make this example too complex,\n",
    "    # let's assume that the instrument returns a string\n",
    "    # value, say, \"HOT\"/\"WARM\"/\"COOL\"/\"COLD\"\n",
    "    def get_raw(self):\n",
    "        return self.instrument.ask('MEASURE?')\n",
    "\n",
    "\n",
    "class RangeParameter(Parameter):\n",
    "    # In order not to make this example too complex,\n",
    "    # let's assume that the instrument specifies the range\n",
    "    # via a string value, say, \"OUTDOORS\"/\"INDOORS\"\n",
    "\n",
    "    def set_raw(self, value):\n",
    "        return self.instrument.write(f'RANGE {value}')\n",
    "\n",
    "    def get_raw(self):\n",
    "\n",
    "        return self.instrument.ask('RANGE?')"
   ]
  },
  {
   "cell_type": "markdown",
   "metadata": {
    "hidden": true
   },
   "source": [
    "Notice that both parameters use instrument's ``ask``/``write`` methods. Moreover, both of the parameter classes just implement usage of different string commands, they do nothing more.\n",
    "\n",
    "For such a simple instrument, this is not that bad, yet still quite some boilerplate in order to create just two parameters with the only purpose of providing a command string. Imagine a more realistic driver - that one would usually have 10s of parameter, hence more boilerplate code with this approach."
   ]
  },
  {
   "cell_type": "markdown",
   "metadata": {
    "hidden": true
   },
   "source": [
    "Let's compare the above code with the following code that uses ``set_cmd``/``get_cmd``:"
   ]
  },
  {
   "cell_type": "code",
   "execution_count": 4,
   "metadata": {
    "hidden": true
   },
   "outputs": [],
   "source": [
    "class SmartMeter(VisaInstrument):\n",
    "    # Same as ``Meter`` but fewer lines of code\n",
    "\n",
    "    def __init__(self, name, address):\n",
    "        super().__init__(name, address)\n",
    "\n",
    "        self.add_parameter('measure', get_cmd='MEASURE?')\n",
    "        self.add_parameter('range', set_cmd='RANGE {}', get_cmd='RANGE?')"
   ]
  },
  {
   "cell_type": "markdown",
   "metadata": {
    "hidden": true
   },
   "source": [
    "This is the same functionality but in much more concise code."
   ]
  },
  {
   "cell_type": "markdown",
   "metadata": {
    "hidden": true
   },
   "source": [
    "So, how do ``set_cmd``/``get_cmd`` work? ``Command`` object from ``qcodes.utils.command`` encapsulates the functionality.\n",
    "\n",
    "Here is how ``set_cmd``/``get_cmd`` are processed:\n",
    "\n",
    "- ``Parameter`` notices that ``set_cmd``/``get_cmd`` is not a ``None`` or ``False``\n",
    "- ``Parameter`` creates a ``Command`` object\n",
    "- the value of ``set_cmd``/``get_cmd`` is passed to ``Command``\n",
    "- parameter's instrument's ``write``/``ask`` methods are also passed to ``Command``\n",
    "- The created ``Command`` object is callable, hence can be assigned as ``set``/``get`` method of the ``Parameter``\n",
    "- ``Command`` treats the passed ``set_cmd``/``get_cmd`` string as a python format string (thus enabling value-setting kind of commands)\n",
    "- When called ``Command`` formats the command string with given value, and the formatted string is passed to the previously-given ``write``/``ask`` instrument methods."
   ]
  },
  {
   "cell_type": "markdown",
   "metadata": {
    "hidden": true
   },
   "source": [
    "String-based no-value and single-value commands are very common among instruments, and thanks to ``set_cmd``/``get_cmd`` can be easily implemented."
   ]
  },
  {
   "cell_type": "markdown",
   "metadata": {
    "hidden": true
   },
   "source": [
    "Note that historically ``Command`` class itself is very flexible, and not all of it's features are used."
   ]
  },
  {
   "cell_type": "markdown",
   "metadata": {
    "heading_collapsed": true,
    "hidden": true
   },
   "source": [
    "###### Callable ``Command``s"
   ]
  },
  {
   "cell_type": "markdown",
   "metadata": {
    "hidden": true
   },
   "source": [
    "Sometimes string commands are not enough to implement the behavior of parameter's ``set``/``get`` methods. At the same time, creating a separate subclass of ``Parameter`` and implementing its ``set_raw``/``get_raw`` seems an overkill.\n",
    "\n",
    "Solution to that is to pass callables to ``set_cmd``/``get_cmd`` (functions or methods). This is one of the *useful* flexibilities of the ``set_cmd``/``get_cmd`` and ``Command`` class."
   ]
  },
  {
   "cell_type": "markdown",
   "metadata": {
    "hidden": true
   },
   "source": [
    "One of the most frequent use cases for callable ``set_cmd``/``get_cmd`` is when setting a parameter induces changes in other parameters on the instrument such we need to request those values explicitly in order to make sure that the driver correctly represents the state of the instrument."
   ]
  },
  {
   "cell_type": "markdown",
   "metadata": {
    "heading_collapsed": true
   },
   "source": [
    "#### ``set_to``"
   ]
  },
  {
   "cell_type": "markdown",
   "metadata": {
    "hidden": true
   },
   "source": [
    "An important convenience that parameters implement is a ``set_to`` context manage that allows to set the parameter value to a given value within the context, and then revert its value to the one that the parameter had before the context.\n",
    "\n",
    "This feature is important because it removes the need for users remember to revert the parameter to its original value (if relevant). At a larger scale, this feature provides convenience for putting an instrument in a desired state and automatically reverting from it, in case the state is represented by a *number* of parameters."
   ]
  },
  {
   "cell_type": "markdown",
   "metadata": {
    "hidden": true
   },
   "source": [
    "The usage of the context manager looks like this:\n",
    "```python\n",
    "param.set(original_value)\n",
    "with param.set_to(new_value):\n",
    "    print(param())\n",
    "    # here `param`'s value is `new_value`\n",
    "print(param())\n",
    "# here `param`'s value is again `original_value`\n",
    "```\n",
    "\n",
    "This is possible because parameter maintains a cache of it's value, hence it is aware of its \"original\" value, and hence the content manager can revert the parameter to it."
   ]
  },
  {
   "cell_type": "markdown",
   "metadata": {
    "hidden": true
   },
   "source": [
    "If a parameter has never been set or gotten before using the ``set_to`` context, if possible, it's value will be requested by calling parameter's ``get``. This is thanks to the smartness of the parameter's cache."
   ]
  },
  {
   "cell_type": "markdown",
   "metadata": {},
   "source": [
    "#### ``cache`` and ``get_latest``"
   ]
  },
  {
   "cell_type": "markdown",
   "metadata": {},
   "source": [
    "- interface - it's similar to parameter itself\n",
    "- get_latest\n",
    "- what if the parameter have never been gotten\n",
    "- max_val_age"
   ]
  },
  {
   "cell_type": "markdown",
   "metadata": {},
   "source": [
    "![qcodes-logo](https://qcodes.github.io/Qcodes/_images/qcodes_logo.png)"
   ]
  },
  {
   "cell_type": "markdown",
   "metadata": {},
   "source": [
    "#### Value and raw value"
   ]
  },
  {
   "cell_type": "markdown",
   "metadata": {},
   "source": [
    "- anatomy of set/get - show sequence\n",
    "- the from/to parts - show sequence\n",
    "- Parsers\n",
    "- Val_mapping\n",
    "- Validators"
   ]
  },
  {
   "cell_type": "markdown",
   "metadata": {},
   "source": [
    "![qcodes-logo](https://qcodes.github.io/Qcodes/_images/qcodes_logo.png)"
   ]
  },
  {
   "cell_type": "markdown",
   "metadata": {},
   "source": [
    "#### Snapshot"
   ]
  },
  {
   "cell_type": "markdown",
   "metadata": {},
   "source": [
    "Snapshot - it's nontriviallity due to instrument communication and flags"
   ]
  },
  {
   "cell_type": "markdown",
   "metadata": {},
   "source": [
    "![qcodes-logo](https://qcodes.github.io/Qcodes/_images/qcodes_logo.png)"
   ]
  },
  {
   "cell_type": "markdown",
   "metadata": {},
   "source": [
    "#### More sophistication"
   ]
  },
  {
   "cell_type": "markdown",
   "metadata": {},
   "source": [
    "just in general about more tough values, and group parameter, and other weird stuff that needs a simple \"get\"."
   ]
  },
  {
   "cell_type": "markdown",
   "metadata": {},
   "source": [
    "![qcodes-logo](https://qcodes.github.io/Qcodes/_images/qcodes_logo.png)"
   ]
  },
  {
   "cell_type": "markdown",
   "metadata": {},
   "source": [
    "#### ``DelegateParameter``"
   ]
  },
  {
   "cell_type": "markdown",
   "metadata": {},
   "source": [
    "![qcodes-logo](https://qcodes.github.io/Qcodes/_images/qcodes_logo.png)"
   ]
  },
  {
   "cell_type": "markdown",
   "metadata": {},
   "source": [
    "#### Array valued parameters"
   ]
  },
  {
   "cell_type": "markdown",
   "metadata": {},
   "source": [
    "![qcodes-logo](https://qcodes.github.io/Qcodes/_images/qcodes_logo.png)"
   ]
  },
  {
   "cell_type": "markdown",
   "metadata": {},
   "source": [
    "### Snapshot"
   ]
  },
  {
   "cell_type": "markdown",
   "metadata": {},
   "source": [
    "Snapshot is a \"photograph\" of a state of a measurement setup or its piece, be it ``Station``, ``Instrument``, ``Parameter``, or other components.\n",
    "\n",
    "Snapshot is **not** maintained in memory. Instead, each snapshot-able component can always return/produce its snapshot."
   ]
  },
  {
   "cell_type": "markdown",
   "metadata": {
    "heading_collapsed": true
   },
   "source": [
    "#### Subclass ``Metadatable``"
   ]
  },
  {
   "cell_type": "markdown",
   "metadata": {
    "hidden": true
   },
   "source": [
    "Snapshot-able objects should inherit from ``qcodes.utils.metadata.Metadatable`` and should override ``snapshot_base`` method to return a dictionary representing the state of the object. Then, calling ``snapshot()`` method will return the snapshot of the object."
   ]
  },
  {
   "cell_type": "code",
   "execution_count": 18,
   "metadata": {
    "hidden": true
   },
   "outputs": [
    {
     "name": "stdout",
     "output_type": "stream",
     "text": [
      "{'status': 'busy'}\n"
     ]
    }
   ],
   "source": [
    "from qcodes.utils.metadata import Metadatable\n",
    "\n",
    "\n",
    "class TeamsStatus(Metadatable):\n",
    "    def __init__(self, name: str, status: str, metadata=None):\n",
    "        super().__init__(metadata=metadata)\n",
    "        self.name = name\n",
    "        self.status = status\n",
    "\n",
    "    def snapshot_base(\n",
    "            self, update: bool = False,\n",
    "            params_to_skip_update: Optional[Sequence[str]] = None) -> Dict:\n",
    "        return {'status': self.status}\n",
    "\n",
    "\n",
    "teams_status = TeamsStatus('Fridge25 status', 'busy')\n",
    "\n",
    "pprint(teams_status.snapshot())"
   ]
  },
  {
   "cell_type": "markdown",
   "metadata": {
    "heading_collapsed": true
   },
   "source": [
    "####  ``metadata`` argument"
   ]
  },
  {
   "cell_type": "markdown",
   "metadata": {
    "hidden": true
   },
   "source": [
    "Note that ``Metadatable`` also implements ``metadata`` keyword argument - ``metadata`` is expected to be a dictionary, and it will be included in the snapshot automatically (if it is not ``{}``)."
   ]
  },
  {
   "cell_type": "code",
   "execution_count": 19,
   "metadata": {
    "hidden": true
   },
   "outputs": [],
   "source": [
    "favorites = Metadatable(metadata={'number': 6 + 9j})\n",
    "favorites.load_metadata({'fruit': 'manadrine'})  # ``dict.update`` behavior"
   ]
  },
  {
   "cell_type": "code",
   "execution_count": 20,
   "metadata": {
    "hidden": true
   },
   "outputs": [
    {
     "name": "stdout",
     "output_type": "stream",
     "text": [
      "{'metadata': {'fruit': 'manadrine', 'number': (6+9j)}}\n"
     ]
    }
   ],
   "source": [
    "pprint(favorites.snapshot())"
   ]
  },
  {
   "cell_type": "markdown",
   "metadata": {
    "heading_collapsed": true
   },
   "source": [
    "#### Add  ``Metadatable`` to station"
   ]
  },
  {
   "cell_type": "markdown",
   "metadata": {
    "hidden": true
   },
   "source": [
    "``Metadatable`` objects can be added to the ``Station``, other objects - should not (otherwise ``snapshot()`` will raise)."
   ]
  },
  {
   "cell_type": "code",
   "execution_count": 21,
   "metadata": {
    "hidden": true
   },
   "outputs": [
    {
     "data": {
      "text/plain": [
       "'component1'"
      ]
     },
     "execution_count": 21,
     "metadata": {},
     "output_type": "execute_result"
    }
   ],
   "source": [
    "station = Station(teams_status)\n",
    "station.add_component(favorites)"
   ]
  },
  {
   "cell_type": "code",
   "execution_count": 22,
   "metadata": {
    "hidden": true
   },
   "outputs": [
    {
     "name": "stdout",
     "output_type": "stream",
     "text": [
      "{'components': {'Fridge25 status': {'status': 'busy'},\n",
      "                'component1': {'metadata': {'fruit': 'manadrine',\n",
      "                                            'number': (6+9j)}}},\n",
      " 'config': None,\n",
      " 'default_measurement': [],\n",
      " 'instruments': {},\n",
      " 'parameters': {}}\n"
     ]
    }
   ],
   "source": [
    "pprint(station.snapshot())"
   ]
  },
  {
   "cell_type": "markdown",
   "metadata": {
    "heading_collapsed": true
   },
   "source": [
    "#### Create ``JSON`` snapshot"
   ]
  },
  {
   "cell_type": "markdown",
   "metadata": {
    "hidden": true
   },
   "source": [
    "Although snapshot is a python dictionary, it is always meant to be converted to JSON and stored next to the measured data. QCoDeS maintains it's own JSON converter class, ``qcodes.utils.helpers.NumpyJSONEncoder``, to support conversion of objects that are frequently met in measurement world, such as ``numpy`` arrays, complex numbers, pickle-ables."
   ]
  },
  {
   "cell_type": "code",
   "execution_count": 23,
   "metadata": {
    "hidden": true
   },
   "outputs": [],
   "source": [
    "from qcodes.utils.helpers import NumpyJSONEncoder\n",
    "import json\n",
    "\n",
    "json_snapshot = json.dumps(\n",
    "    station.snapshot(), cls=NumpyJSONEncoder,\n",
    "    indent=2, sort_keys=True  # for pretty-printing\n",
    ")"
   ]
  },
  {
   "cell_type": "code",
   "execution_count": 24,
   "metadata": {
    "hidden": true
   },
   "outputs": [
    {
     "name": "stdout",
     "output_type": "stream",
     "text": [
      "{\n",
      "  \"components\": {\n",
      "    \"Fridge25 status\": {\n",
      "      \"status\": \"busy\"\n",
      "    },\n",
      "    \"component1\": {\n",
      "      \"metadata\": {\n",
      "        \"fruit\": \"manadrine\",\n",
      "        \"number\": {\n",
      "          \"__dtype__\": \"complex\",\n",
      "          \"im\": 9.0,\n",
      "          \"re\": 6.0\n",
      "        }\n",
      "      }\n",
      "    }\n",
      "  },\n",
      "  \"config\": null,\n",
      "  \"default_measurement\": [],\n",
      "  \"instruments\": {},\n",
      "  \"parameters\": {}\n",
      "}\n"
     ]
    }
   ],
   "source": [
    "print(json_snapshot)"
   ]
  },
  {
   "cell_type": "markdown",
   "metadata": {},
   "source": [
    "#### ``update`` arguments"
   ]
  },
  {
   "cell_type": "markdown",
   "metadata": {},
   "source": [
    "Note that ``snapshot`` has an ``update`` kwarg, and ``snapshot_base`` has ``update`` and ``params_to_skip_update`` kwargs - those allow to optimize querying the state of a ``Metadatable`` object."
   ]
  },
  {
   "cell_type": "markdown",
   "metadata": {},
   "source": [
    "![qcodes-logo](https://qcodes.github.io/Qcodes/_images/qcodes_logo.png)"
   ]
  },
  {
   "cell_type": "markdown",
   "metadata": {
    "heading_collapsed": true
   },
   "source": [
    "### Measurement code"
   ]
  },
  {
   "cell_type": "markdown",
   "metadata": {
    "hidden": true
   },
   "source": [
    "Measurement code is code that works with instruments, parameters, and other methods/functions to run a measurement which includes controlling hardware, acquiring data, and storing data.\n",
    "\n",
    "Historically data aquisition frameworks have been struggling to provide balance between flexibility and convenience.\n",
    "\n",
    "- Flexibility of the framework should allow experimentalists to not limit their progress when they have a measurement in mind.\n",
    "- Convenience of the framework should allow measurement ideas to become measurement code in a short time.\n",
    "\n",
    "Both these requirements are extremely hard to fulfill. QCoDeS has a legacy ``Loop`` feature that was a great convenience and was flexible enough for quite many straightforward measurements, but would becomes difficult and hacky for other measurements.\n",
    "\n",
    "At the moment, QCoDeS is priorotizing \"flexibility\" by taking the following approach - **allow freeform python** as measurement code but providing clear API for data storage.\n",
    "\n",
    "For **very frequently** performed measurements, QCoDeS is willing to implement and support reasonably flexible \"conveniences\", for example, ``do1d``/``do2d`` from ``qcodes.utils.dataset.doNd``.\n",
    "\n",
    "It is known that some enthusiasts do put their effort into solving the nontrivial software engineering problem of coming up with more flexible AND convenient measurement code frameworks, for example, ``github.com/damazter/pysweep``."
   ]
  },
  {
   "cell_type": "markdown",
   "metadata": {},
   "source": [
    "## BREAK [5min]"
   ]
  },
  {
   "cell_type": "markdown",
   "metadata": {},
   "source": [
    "## I wanna STORE [30min]\n",
    "\n",
    "How and where do I store what I measured? And access back? Database, experiments, datasets, parameters?\n",
    "\n",
    "- Quickly DB structure, paramtypes, data saving approach\n",
    "- mention DataSet is too close to sqlite\n",
    "- dig deeper into how Measurement/DataSet are designed"
   ]
  },
  {
   "cell_type": "markdown",
   "metadata": {
    "heading_collapsed": true
   },
   "source": [
    "### Storing what is measured"
   ]
  },
  {
   "cell_type": "markdown",
   "metadata": {
    "hidden": true
   },
   "source": [
    "Instruments and parameters provide great abstractions to perform measurements: ``set`` this, ``get`` that - great. The question is now how to store the measured data.\n",
    "\n",
    "What?\n",
    "\n",
    "- data, the values themselves\n",
    "- metadata about the values - label, unit, etc\n",
    "  - structure of the measured data, if possible\n",
    "- station snapshot\n",
    "- mesaurement meta information\n",
    "\n",
    "How?\n",
    "\n",
    "- persiting data ASAP\n",
    "- flexible, allowing basically any structure of measured data\n",
    "- data and metadata conveniently linked\n",
    "- efficiently, compared to characteristic measurement times\n",
    "- not allow overwriting to prevent mistakes\n",
    "\n",
    "This is what ``Measurement``, ``DataSaver`` and ``DataSet`` are intending to implement."
   ]
  },
  {
   "cell_type": "markdown",
   "metadata": {
    "heading_collapsed": true
   },
   "source": [
    "### API overview"
   ]
  },
  {
   "cell_type": "markdown",
   "metadata": {
    "hidden": true
   },
   "source": [
    "In short, this is how the API looks (skipping details):\n",
    "\n",
    "```python\n",
    "measurement = Measurement(...)\n",
    "...\n",
    "with measurement.run() as datasaver:\n",
    "    ...\n",
    "    datasaver.add_result(...)\n",
    "    ...\n",
    "...\n",
    "dataset = datasaver.dataset\n",
    "...\n",
    "```"
   ]
  },
  {
   "cell_type": "markdown",
   "metadata": {
    "hidden": true
   },
   "source": [
    "``Measurement`` object from ``qcodes.dataset.measurements`` is the front interface for running measurements with QCoDeS. It's primary purpose is to capture metadata about the measurement, and provide a context manager that explicitly scopes the measurement routine.\n",
    "\n",
    "``run()``-ning a ``Measurement`` creates a ``Runner`` context manager. Upon entering the context, ``Runner`` will initiate a ``DataSaver`` object and thus the underlying storage mechanism, and at exiting it will do necessary operations expected at completion of the measurement routine. It is at entering the context, when a new ``DataSet`` object is being created with the necessary metadata about the measurement such as parameters and snapshot.\n",
    "\n",
    "``DataSaver`` object provides interface for passing in the acquired data. It validates the data and forwards it downstream to the storage mechanism. ``DataSaver`` object also holds an instance of the created ``DataSet`` object (from ``qcodes.dataset.data_set``) which can be used to accessed the stored measurement data and its metadata."
   ]
  },
  {
   "cell_type": "markdown",
   "metadata": {
    "heading_collapsed": true
   },
   "source": [
    "### ``Measurement``\n",
    "\n",
    "Let's get into details of the ``Measurement`` object."
   ]
  },
  {
   "cell_type": "markdown",
   "metadata": {
    "heading_collapsed": true,
    "hidden": true
   },
   "source": [
    "#### Experiment, name, station"
   ]
  },
  {
   "cell_type": "markdown",
   "metadata": {
    "hidden": true
   },
   "source": [
    "``Measurement`` takes the following arguments for its initialization:\n",
    "\n",
    "- ``Experiment`` - an object that repesents ``exp_name`` and ``sample_name`` (from ``qcodes.dataset.experiment_container``)\n",
    "  - if not passed, the \"latest\" experiment is taken\n",
    "- ``name`` - name for the measurement, and hence the resulting ``DataSet``\n",
    "- ``Station`` - the station object, in order to take the snapshot of the state of the station, and store it next to the measured data\n",
    "  - if not passed, ``Station.default`` is used conveniently"
   ]
  },
  {
   "cell_type": "markdown",
   "metadata": {
    "heading_collapsed": true,
    "hidden": true
   },
   "source": [
    "#### Registering parameters"
   ]
  },
  {
   "cell_type": "markdown",
   "metadata": {
    "hidden": true
   },
   "source": [
    "``Measurement`` provides an interface to declare the intent of a measurement, in particular, it's structure.\n",
    "\n",
    "This information provides means to reason about the stored data - how the values relate to each other. This information comes in very handy when:\n",
    "\n",
    "- storing data, especially, ``DataSaver.add_result``\n",
    "- accessing data (aka loading), for example, ``DataSet.get_parameter_data``\n",
    "- processing data, for example, for visualization.\n",
    "\n",
    "That interface has two parts - one that is not aware of QCoDeS parameters, and the other one that is. The former part makes the ``Measurement`` flexible and independent, and the latter makes it convenient to use. It is reasonable to say that the ``Measurement`` object bridges the QCoDeS parameters world with the QCoDeS ``DataSet`` world, thus making the two worlds independent."
   ]
  },
  {
   "cell_type": "markdown",
   "metadata": {
    "heading_collapsed": true,
    "hidden": true
   },
   "source": [
    "##### Parameter relationships"
   ]
  },
  {
   "cell_type": "markdown",
   "metadata": {
    "hidden": true
   },
   "source": [
    "Measurement structure is defined via its parameters and relationships between them. Parameters can be:\n",
    "\n",
    "- independent, aka setpoints\n",
    "- dependent, aka measured\n",
    "- standalone"
   ]
  },
  {
   "cell_type": "markdown",
   "metadata": {
    "hidden": true
   },
   "source": [
    "This information allows to reason about data as a collection of **parameter trees** - roots of a tree are independent parameters that the main stem, the dependent parameter, depends on."
   ]
  },
  {
   "cell_type": "markdown",
   "metadata": {
    "hidden": true
   },
   "source": [
    "For example, in the image below:\n",
    "\n",
    "- A depends on x and y\n",
    "- B depends on x and y - notice that it's a separate tree\n",
    "- C depends only on x\n",
    "- t is a standalone\n",
    "\n",
    "![param-trees](param_trees.svg)"
   ]
  },
  {
   "cell_type": "markdown",
   "metadata": {
    "hidden": true
   },
   "source": [
    "**NOTE**: there is another parameter relationship in QCoDeS that exists, but is not used for any functionality - inference. It is possible to declare that \"parameter A is inferred from parameter B\", this information will be recorded, but will not be used anywhere in QCoDeS. This feature will either be removed or improved if deemed needed."
   ]
  },
  {
   "cell_type": "markdown",
   "metadata": {
    "heading_collapsed": true,
    "hidden": true
   },
   "source": [
    "##### ``register_parameter``"
   ]
  },
  {
   "cell_type": "markdown",
   "metadata": {
    "hidden": true
   },
   "source": [
    "``Measurement`` exposes a ``register_parameter`` method. It is intended to be called with QCoDeS parameters - ``_BaseParameter``, ``Parameter``, their subclasses, including some of the more interesting ones.\n",
    "\n",
    "``register_parameter`` does the following:\n",
    "\n",
    "- extracts name/label/unit from the given parameter\n",
    "- notes what parameters the given one depends on, aka \"setpoints\"\n",
    "- notes ``paramtype`` which will be helpful for data storage later"
   ]
  },
  {
   "cell_type": "markdown",
   "metadata": {
    "hidden": true
   },
   "source": [
    "For some of the ``_BaseParameter`` subclasses, ``register_parameter`` digs deeper into the given parameter to extract additional info on its dependencies. The supported subclasses are ``ParameterWithSetpoints``, ``ArrayParameter``, ``MultiParameter`` - all these represent at least a branch of a parameter tree (unlike ``_BaseParameter`` itself representing only a leaf).\n",
    "\n",
    "For example, if a ``ParameterWithSetpoints`` is registered, then its ``.setpoints`` parameters are registered automatically and correctly, as setpoints of the parameter itself."
   ]
  },
  {
   "cell_type": "markdown",
   "metadata": {
    "hidden": true
   },
   "source": [
    "A companion ``register_custom_parameter`` method takes parameter name/label/unit/paramtype/setpoints explicitly, in other words, without the need for a QCoDeS parameter."
   ]
  },
  {
   "cell_type": "markdown",
   "metadata": {
    "heading_collapsed": true,
    "hidden": true
   },
   "source": [
    "##### ``paramtype``"
   ]
  },
  {
   "cell_type": "markdown",
   "metadata": {
    "hidden": true
   },
   "source": [
    "QCoDeS differentiates between the following data types: ``numeric``, ``array``, ``text``, ``complex``.\n",
    "\n",
    "These allow the data storage to implement optimizations based on this information. For example, with QCoDeS default (and only) data storage implementation (based on ``sqlite``), saving large amounts of numerical data as ``array`` paramtype can be **much** faster than as ``numeric``. More on this later."
   ]
  },
  {
   "cell_type": "markdown",
   "metadata": {
    "heading_collapsed": true,
    "hidden": true
   },
   "source": [
    "##### Behind the scenes"
   ]
  },
  {
   "cell_type": "markdown",
   "metadata": {
    "hidden": true
   },
   "source": [
    "Behind the scenes ``Measurement`` object accumulates the information about the parameters and their relationships in order to later provide it to the ``DataSet`` that is to be created when the measurement will be run.\n",
    "\n",
    "``Measurement`` and ``DataSet`` share the way the parameter trees are represented:\n",
    "\n",
    "- ``ParamSpecBase`` object represents one parameter\n",
    "  - it only has the 4 fields - name/label/unit/paramtype\n",
    "- ``InterDependencies_`` object represents one or more parameter trees\n",
    "  - in other words, represents dependency relationships between ``ParamSpecBase`` objects\n",
    "  - can only be **valid**, in other words, \"validation\" is built-in\n",
    "  - convenient interface for interactive with parameter trees"
   ]
  },
  {
   "cell_type": "markdown",
   "metadata": {
    "hidden": true
   },
   "source": [
    "Below is a small example for the two objects:"
   ]
  },
  {
   "cell_type": "code",
   "execution_count": 13,
   "metadata": {
    "hidden": true
   },
   "outputs": [
    {
     "name": "stdout",
     "output_type": "stream",
     "text": [
      "InterDependencies_(dependencies={ParamSpecBase('x', 'numeric', 'Distance', 'm'): (ParamSpecBase('t', 'numeric', 'Time', 's'),)}, inferences={}, standalones=frozenset())\n"
     ]
    }
   ],
   "source": [
    "from qcodes.dataset.descriptions.param_spec import ParamSpecBase\n",
    "from qcodes.dataset.descriptions.dependencies import InterDependencies_\n",
    "\n",
    "x = ParamSpecBase('x', 'numeric', 'Distance', 'm')\n",
    "t = ParamSpecBase('t', 'numeric', 'Time', 's')\n",
    "\n",
    "deps = InterDependencies_(dependencies={x: (t,)})\n",
    "\n",
    "print(deps)"
   ]
  },
  {
   "cell_type": "markdown",
   "metadata": {
    "hidden": true
   },
   "source": [
    "Note that ``InterDependencies_`` object becomes part of a bigger container, the ``RunDescription`` object, which gets serialized upon storage."
   ]
  },
  {
   "cell_type": "markdown",
   "metadata": {
    "hidden": true
   },
   "source": [
    "``RunDescription``, ``InterDependencies_`` and ``ParamSpecBase`` live in ``qcodes.dataset.descriptions.*``."
   ]
  },
  {
   "cell_type": "markdown",
   "metadata": {
    "heading_collapsed": true
   },
   "source": [
    "### ``DataSaver``"
   ]
  },
  {
   "cell_type": "markdown",
   "metadata": {
    "hidden": true
   },
   "source": [
    "Now let's look at ``DataSaver`` - it's primary purpose it to provide an interface for passing \"new data to store\" and implement such an interface by validating the input data and passing that to the storage mechanism, in essense, to ``DataSet``."
   ]
  },
  {
   "cell_type": "markdown",
   "metadata": {
    "heading_collapsed": true,
    "hidden": true
   },
   "source": [
    "#### Relation to dataset"
   ]
  },
  {
   "cell_type": "markdown",
   "metadata": {
    "hidden": true
   },
   "source": [
    "``DataSaver`` holds a reference to the ``DataSet`` that is being populated with data within the measurement context. To get access to that ``DataSet``, just use the ``.dataset`` property of ``DataSaver``.\n",
    "\n",
    "The API assumes that the users:\n",
    "\n",
    "- will not interact with the ``DataSet`` within the measurement context\n",
    "- will not interact with the ``DataSaver`` outside the measurement context"
   ]
  },
  {
   "cell_type": "markdown",
   "metadata": {
    "heading_collapsed": true,
    "hidden": true
   },
   "source": [
    "#### ``add_result``"
   ]
  },
  {
   "cell_type": "markdown",
   "metadata": {
    "hidden": true
   },
   "source": [
    "``DataSaver.add_result`` is the interface for \"submitting\" data for saving/storing."
   ]
  },
  {
   "cell_type": "markdown",
   "metadata": {
    "heading_collapsed": true,
    "hidden": true
   },
   "source": [
    "##### Inputs"
   ]
  },
  {
   "cell_type": "markdown",
   "metadata": {
    "hidden": true
   },
   "source": [
    "Users are expected to provide ``(name/parameter, value(s))`` tuples. The first element is either a string representing a name of a registered parameter or a parameter instance. The second argument is values:\n",
    "\n",
    "- a ``float``/``int``/``string``/``complex`` value\n",
    "- a ``list``/``tuple``/``numpy``-array of those for convenience\n",
    "- an array - a ``numpy``-array or ``list``/``tuple`` of values"
   ]
  },
  {
   "cell_type": "markdown",
   "metadata": {
    "heading_collapsed": true,
    "hidden": true
   },
   "source": [
    "##### Validation"
   ]
  },
  {
   "cell_type": "markdown",
   "metadata": {
    "hidden": true
   },
   "source": [
    "This flexibility of the interface together with the dynamic nature of python calls for strict and helpful validation - this is the main part of what ``add_result`` does. And it does this based on the information about parameter trees that hass been given to ``Measurement``."
   ]
  },
  {
   "cell_type": "markdown",
   "metadata": {
    "hidden": true
   },
   "source": [
    "The following are the rules which ``add_result`` validates against:\n",
    "\n",
    "- All provided **parameters MUST be registered** via ``Measurement``\n",
    "- For each dependent parameter values, the values of its **setpoints MUST be provided**\n",
    "  - It is possible to provide parameters **in any order**, e.g. dependent parameter before its setpoints\n",
    "- Provided lists/tuples/numpy-arrays of **values MUST have consistent shapes**\n",
    "  - e.g. for a dependent parameter and its setpoints, number of provided values in the lists should be the same\n",
    "    - Passing **scalar value for a setpoint** parameter(s) when a list/tuple/numpy-array was passed for a dependent parameter **is possible** - the value of that setpoint parameter is assumed to be the same and equal to that scalar values for all the values in the list for the dependent parameter.\n",
    "- **Data type** of the provided values **MUST match** the types supported by the ``paramtype`` of the parameter\n",
    "  - integer/float for \"numeric\", complex for \"complex\", str for \"text\", integer/float/complex for \"array\""
   ]
  },
  {
   "cell_type": "markdown",
   "metadata": {
    "hidden": true
   },
   "source": [
    "Behind the scenes this validation is implemented largely based on:\n",
    "\n",
    "- interaction with ``Interdependencies_`` object of the created ``DataSet`` that ``DataSaver`` has access to\n",
    "- ``numpy`` interfaces for types and shapes - all inputs of ``add_result`` internally get converted to ``numpy`` objects for the convenience of validation"
   ]
  },
  {
   "cell_type": "markdown",
   "metadata": {
    "heading_collapsed": true,
    "hidden": true
   },
   "source": [
    "##### And then?"
   ]
  },
  {
   "cell_type": "markdown",
   "metadata": {
    "hidden": true
   },
   "source": [
    "After validation is done, ``DataSaver.add_result`` prepares the values to be passed to ``DataSet.add_results`` (yes, confusing names). Although, ``DataSet.add_results`` is not a private method, it is NOT supposed to be used by users. The ``DataSet`` then takes care of actually storing the data (aka \"results\")."
   ]
  },
  {
   "cell_type": "markdown",
   "metadata": {
    "heading_collapsed": true
   },
   "source": [
    "### ``DataSet``"
   ]
  },
  {
   "cell_type": "markdown",
   "metadata": {
    "hidden": true
   },
   "source": [
    "``DataSet`` (from ``qcodes.dataset.data_set``) is final destination of the acquired data and meta information around it. It is also the primary interface for the user for accessing the data."
   ]
  },
  {
   "cell_type": "markdown",
   "metadata": {
    "heading_collapsed": true,
    "hidden": true
   },
   "source": [
    "#### User-facing API"
   ]
  },
  {
   "cell_type": "markdown",
   "metadata": {
    "hidden": true
   },
   "source": [
    "``DataSet`` exposed the following user-facing APIs:\n",
    "\n",
    "- *Identity*:\n",
    "  - ``guid``\n",
    "  - ``captured_run_id``, etc\n",
    "- *Meta information*:\n",
    "  - ``name``, ``sample_name``, ``exp_name``\n",
    "  - ``path_to_db`` (also ``conn``ection to DB)\n",
    "  - ``description`` (``RunDescriber``)\n",
    "  - *Parameters*:\n",
    "    - ``interdeps``\n",
    "    - ``dependent_parameters``\n",
    "  - ``snapshot``\n",
    "  - *Timestamps*\n",
    "  - *Metadata (key-value pairs)*:\n",
    "    - ``metadata``, ``get_metadata``, ``add_metadata``\n",
    "- *Data*:\n",
    "  - ``get_parameter_data``\n",
    "  - ``number_of_results`` / ``__len__``\n",
    "  - *Convenient*:\n",
    "    - ``get_data_as_pandas_dataframe``\n",
    "    - ``write_data_to_text_file``\n",
    "\n",
    "Some API have also ``*_raw`` versions, for example, ``snapshot`` and ``snapshot_raw`` where \"raw\" is how the piece of information is represented in the underlying storage.\n",
    "\n",
    "``DataSet`` also has deprecated/not-recommended API:\n",
    "\n",
    "- for data access - ``get_data``, ``get_setpoints``, ``get_values``\n",
    "- for parameters - ``parameters``, ``paramspecs``"
   ]
  },
  {
   "cell_type": "markdown",
   "metadata": {
    "heading_collapsed": true,
    "hidden": true
   },
   "source": [
    "#### State"
   ]
  },
  {
   "cell_type": "markdown",
   "metadata": {
    "hidden": true
   },
   "source": [
    "``DataSet`` object can be in three states:\n",
    "\n",
    "- **pristine**\n",
    "  - when dataset is just created\n",
    "  - that's the moment to add information about parameters, etc.\n",
    "  - it is not possible yet to add data to a dataset\n",
    "  - ``Runner`` creates the dataset in this state, fills it with information, and marks it for the next state\n",
    "  - ``mark_started`` moves the dataset to the next state\n",
    "- **running**\n",
    "  - when dataset is ready for adding data to it (aka \"results\")\n",
    "  - it's not possible to change meta information anymore\n",
    "  - ``DataSaver`` adds data to a dataset in this state\n",
    "  - ``mark_completed`` moves the dataset to the next state\n",
    "- **completed**\n",
    "  - when adding data to dataset is done/finished\n",
    "  - it's not possible add data anymore\n",
    "  - this is the final state of the dataset\n",
    "  - users are expected to work with a dataset in this state\n",
    "\n",
    "These are implemented on top of two flags, ``started`` and ``completed``. ``pristine`` and ``running`` are convenience/clarity flags."
   ]
  },
  {
   "cell_type": "markdown",
   "metadata": {
    "heading_collapsed": true,
    "hidden": true
   },
   "source": [
    "#### Metadata feature"
   ]
  },
  {
   "cell_type": "markdown",
   "metadata": {
    "hidden": true
   },
   "source": [
    "``DataSet`` exposes a metadata feature for attaching key-value pairs of information to it. This feature has a flaky implementation from the storage side, and the interface also calls for clarification. Due to these challanges this feature is not advertised at the moment, which should not deminish it's potential value."
   ]
  },
  {
   "cell_type": "markdown",
   "metadata": {
    "heading_collapsed": true,
    "hidden": true
   },
   "source": [
    "#### Plotting"
   ]
  },
  {
   "cell_type": "markdown",
   "metadata": {
    "hidden": true
   },
   "source": [
    "Plotting of a ``DataSet`` is implemented by ``plot_dataset`` function from ``qcodes.dataset.plotting`` module. It's purpose is to provide decent default plotting which is good enough for straightforward 1D/2D data.\n",
    "\n",
    "It is important to note what are ``plot_dataset`` features as they are frequently expected by experimentalists:\n",
    "\n",
    "- uses ``matplotlib``\n",
    "- uses labels/units for axes\n",
    "- only 1D and 2D plots (gridded and scatter) supported\n",
    "- rescaling axes to engineering prefixes, e.g. ``0.00000005 -> 50 n``\n",
    "- default rasterizing for 2D plots\n",
    "- adjust colorbar scale to disregard outliers\n",
    "- clipping plotted data via cutoff percentiles"
   ]
  },
  {
   "cell_type": "markdown",
   "metadata": {},
   "source": [
    "### SQLite database"
   ]
  },
  {
   "cell_type": "markdown",
   "metadata": {},
   "source": [
    "\t• Database stuff\n",
    "\t\t○ Runs table as log of performed measurements\n",
    "\t\t○ Experiment as a bucket of datasets but not used as such really\n",
    "\t\t\t§ Ideas for \"active experiment, etc\"\n",
    "\t\t○ Data storage\n",
    "\t\t\t§ As a message queue/log\n",
    "\t\t\t§ in the same DB - needs reconstruction\n",
    "\t\t○ Sqlite database, schema, versions\n",
    "\t\t\t§ Connect - users might forget to close, etc\n",
    "\t\t○ Sqlite data saving optimizations\n",
    "\t\t\t§ Paramtype \"array\"\n",
    "\t\t\t§ wrtie_period\n",
    "\t\t\t§ write_in_background\n",
    "        ○ Sqlite module overview"
   ]
  },
  {
   "cell_type": "markdown",
   "metadata": {},
   "source": [
    "![qcodes-logo](https://qcodes.github.io/Qcodes/_images/qcodes_logo.png)"
   ]
  },
  {
   "cell_type": "markdown",
   "metadata": {},
   "source": [
    "## BREAK [5min]"
   ]
  },
  {
   "cell_type": "markdown",
   "metadata": {},
   "source": [
    "## I want MORE [5min]\n",
    "\n",
    "What else does QCoDeS provide out of the box?\n",
    "\n",
    "- q/a, other qcodes topics for self-exploration"
   ]
  },
  {
   "cell_type": "markdown",
   "metadata": {},
   "source": [
    "![qcodes-logo](https://qcodes.github.io/Qcodes/_images/qcodes_logo.png)"
   ]
  },
  {
   "cell_type": "markdown",
   "metadata": {},
   "source": [
    "- *features*\n",
    "  - Config\n",
    "  - Plotting support\n",
    "  - Before/after actions of Measurement\n",
    "  - DataSet subscribers\n",
    "  - Linking datasets / parent datasets\n",
    "- *infra*\n",
    "  - DelegateAttributes\n",
    "  - Deprecation\n",
    "  - versioning infra for of RunDescriber\n",
    "- *parameters*\n",
    "  - Multiparameter\n",
    "  - Group parameter\n",
    "- *instruments*\n",
    "  - Instrument's functions\n",
    "  - writing drivers\n",
    "  - contrib-drivers\n",
    "- *database*\n",
    "  - structure of sqlite module\n",
    "  - versioning infra for database\n",
    "  - Extracting runs/datasets from db to another\n",
    "- *extras features*\n",
    "  - Monitor\n",
    "  - Interactive widget\n",
    "- *Legacy API*\n",
    "  - ParamSpec\n",
    "  - Loop-entangled features"
   ]
  },
  {
   "cell_type": "code",
   "execution_count": null,
   "metadata": {},
   "outputs": [],
   "source": []
  }
 ],
 "metadata": {
  "kernelspec": {
   "display_name": "Python 3",
   "language": "python",
   "name": "python3"
  },
  "language_info": {
   "codemirror_mode": {
    "name": "ipython",
    "version": 3
   },
   "file_extension": ".py",
   "mimetype": "text/x-python",
   "name": "python",
   "nbconvert_exporter": "python",
   "pygments_lexer": "ipython3",
   "version": "3.7.4"
  },
  "toc": {
   "base_numbering": 1,
   "nav_menu": {},
   "number_sections": true,
   "sideBar": true,
   "skip_h1_title": false,
   "title_cell": "Table of Contents",
   "title_sidebar": "Contents",
   "toc_cell": false,
   "toc_position": {
    "height": "calc(100% - 180px)",
    "left": "10px",
    "top": "150px",
    "width": "180.902px"
   },
   "toc_section_display": true,
   "toc_window_display": true
  }
 },
 "nbformat": 4,
 "nbformat_minor": 2
}
