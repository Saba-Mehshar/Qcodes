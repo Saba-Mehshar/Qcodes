{
 "cells": [
  {
   "cell_type": "markdown",
   "metadata": {},
   "source": [
    "## QCoDeS Training for Developers\n",
    "\n",
    "Welcome to the training about QCoDeS targeted for developers. After this training, developers should have more knowledge about QCoDeS which will bring them confidence with contributing to it.\n",
    "\n",
    "![qcodes-logo](https://qcodes.github.io/Qcodes/_images/qcodes_logo.png)"
   ]
  },
  {
   "cell_type": "markdown",
   "metadata": {},
   "source": [
    "### Approach"
   ]
  },
  {
   "cell_type": "markdown",
   "metadata": {},
   "source": [
    "- Don't bring too much relevant background, only small absolutely necessary portions\n",
    "- Provide refresh of user-side view on QCoDeS\n",
    "- Describe features/concepts from ideas, but get close to code very quickly"
   ]
  },
  {
   "cell_type": "markdown",
   "metadata": {},
   "source": [
    "### Execution plan for presenter"
   ]
  },
  {
   "cell_type": "markdown",
   "metadata": {},
   "source": [
    "- Before:\n",
    "  - Have qcodes code at hand in your IDE https://github.com/qcodes/qcodes\n",
    "  - Run the training Jupyter notebook, and have it at hand https://github.com/astafan8/Qcodes/blob/training-for-devs/docs/examples/QCoDeS%20Training%20for%20Developers.ipynb\n",
    "  - Familiarize yourself with the following info from the docs:\n",
    "    - Front page https://qcodes.github.io/Qcodes/index.html\n",
    "    - 15 minutes of QCoDeS https://qcodes.github.io/Qcodes/examples/15_minutes_to_QCoDeS.html\n",
    "    - `Parameter`s\n",
    "      - overview1 https://qcodes.github.io/Qcodes/examples/Parameters/Parameters.html\n",
    "      - overview2 https://qcodes.github.io/Qcodes/examples/writing_drivers/Creating-Instrument-Drivers.html#What%E2%80%99s-a-Parameter? - only this section\n",
    "      - API docs https://qcodes.github.io/Qcodes/api/parameters/parameter.html#module-qcodes.instrument.parameter\n",
    "      - `ParameterWithSetpoints` https://qcodes.github.io/Qcodes/examples/Parameters/Simple-Example-of-ParameterWithSetpoints.html\n",
    "    - Performing measurements https://qcodes.github.io/Qcodes/examples/DataSet/Performing-measurements-using-qcodes-parameters-and-dataset.html\n",
    "    - dataset notebooks\n",
    "      - the class https://qcodes.github.io/Qcodes/examples/DataSet/DataSet-class-walkthrough.html\n",
    "      - data access https://qcodes.github.io/Qcodes/examples/DataSet/Accessing-data-in-DataSet.html\n",
    "- During:\n",
    "  - Go through notebook in 3 parts, have 5 min breaks, 5 min reserve beginning, 10 min reserve at the end\n",
    "  - Have a time keeper\n",
    "  - Let ask questions at specific moments but very frequently to feel interactive\n",
    "- After:\n",
    "  - Port notebook to qcodes docs ASAP\n",
    "  - Sessions on some parts if requested"
   ]
  },
  {
   "cell_type": "markdown",
   "metadata": {},
   "source": [
    "### Imports"
   ]
  },
  {
   "cell_type": "code",
   "execution_count": 1,
   "metadata": {},
   "outputs": [
    {
     "name": "stdout",
     "output_type": "stream",
     "text": [
      "Logging hadn't been started.\n",
      "Activating auto-logging. Current session state plus future input saved.\n",
      "Filename       : C:\\Users\\a-miasta\\.qcodes\\logs\\command_history.log\n",
      "Mode           : append\n",
      "Output logging : True\n",
      "Raw input log  : False\n",
      "Timestamping   : True\n",
      "State          : active\n",
      "Qcodes Logfile : C:\\Users\\a-miasta\\.qcodes\\logs\\200409-16380-qcodes.log\n"
     ]
    }
   ],
   "source": [
    "import qcodes\n",
    "\n",
    "from typing import Optional, Sequence, Dict\n",
    "from pprint import pprint\n",
    "\n",
    "import numpy"
   ]
  },
  {
   "cell_type": "markdown",
   "metadata": {},
   "source": [
    "## QCoDeS? ah? [5min]\n",
    "\n",
    "What is it? What are it's goals, and users? And why?"
   ]
  },
  {
   "cell_type": "markdown",
   "metadata": {},
   "source": [
    "### \"The It\""
   ]
  },
  {
   "cell_type": "markdown",
   "metadata": {},
   "source": [
    "**Q.**uantum **Co**penhagen **De**lft **S**ydney:\n",
    "\n",
    "- data acquisition framework\n",
    "- modular\n",
    "- python-based\n",
    "- open-source"
   ]
  },
  {
   "cell_type": "markdown",
   "metadata": {},
   "source": [
    "### Goal"
   ]
  },
  {
   "cell_type": "markdown",
   "metadata": {},
   "source": [
    "**Common** framework for physics experiments:\n",
    "\n",
    "- users need to write only their-own-experiment-specific code\n",
    "- physics experiments can take advantage of modern software and best practices\n",
    "- code can and should be contributed back to the framework\n",
    "- the process of moving between teams or labs, and of setting up a new experiment is streamlined\n",
    "- new students don’t need to spend a long time learning software in order to participate in experiments"
   ]
  },
  {
   "cell_type": "markdown",
   "metadata": {},
   "source": [
    "### Users"
   ]
  },
  {
   "cell_type": "markdown",
   "metadata": {},
   "source": [
    "- people doing measurements:\n",
    "  - academics: e.g. scientists and students\n",
    "  - corporates: e.g. experimentalists, engineers, hardware manufacturers\n",
    "- worldwide"
   ]
  },
  {
   "cell_type": "markdown",
   "metadata": {},
   "source": [
    "### Driven by"
   ]
  },
  {
   "cell_type": "markdown",
   "metadata": {},
   "source": [
    "- Microsoft, largely\n",
    "- worldwide comminity, growing"
   ]
  },
  {
   "cell_type": "markdown",
   "metadata": {},
   "source": [
    "### Development principles"
   ]
  },
  {
   "cell_type": "markdown",
   "metadata": {},
   "source": [
    "- Robust code - as opposed to what users are used to from other measurement frameworks\n",
    "- Respect backwards compatibility - don't break user's code that \"works\"!\n",
    "- Modularity - extend-existing, not go-off-and-write-your-own\n",
    "- User facing API - list in docs, devs can use everything as appropriate\n",
    "- Carefully scoping problems"
   ]
  },
  {
   "cell_type": "markdown",
   "metadata": {},
   "source": [
    "## I wanna MEASURE [30min]\n",
    "\n",
    "How do I measure things? How are measurements enabled via QCoDeS? Station, instruments, parameters?\n",
    "\n",
    "- Quickly about general stuff\n",
    "- Deeper into parameters, snapshot"
   ]
  },
  {
   "cell_type": "markdown",
   "metadata": {},
   "source": [
    "### Station"
   ]
  },
  {
   "cell_type": "markdown",
   "metadata": {},
   "source": [
    "``Station`` is just a bucket for components such as instruments, parameters, etc. Speaking more strictly, those components should be snapshot-able (subclasses of ``Metadatable``), but more about this in the section about the snapshot.\n",
    "\n",
    "``Station`` can be created with python code and/or using YAML configuration file. [Read on Station, its interface, YAML config, and more here](http://qcodes.github.io/Qcodes/examples/Station.html)."
   ]
  },
  {
   "cell_type": "code",
   "execution_count": 2,
   "metadata": {},
   "outputs": [],
   "source": [
    "from qcodes.station import Station"
   ]
  },
  {
   "cell_type": "markdown",
   "metadata": {},
   "source": [
    "#### Default station"
   ]
  },
  {
   "cell_type": "markdown",
   "metadata": {},
   "source": [
    "Notice the ``default=True`` argument of the ``Station`` - it controls wether to store the initialized ``Station`` object into an attribute.\n",
    "\n",
    "Using ``Station.default`` as a fallback in other objects in QCoDeS is very common, as it is extremely uncommon that more than one ``Station`` is initiated in one python session."
   ]
  },
  {
   "cell_type": "code",
   "execution_count": 3,
   "metadata": {},
   "outputs": [],
   "source": [
    "station = Station()  # default=True\n",
    "\n",
    "assert Station.default is station\n",
    "\n",
    "station2 = Station(default=False)\n",
    "\n",
    "assert station2 is not Station.default"
   ]
  },
  {
   "cell_type": "markdown",
   "metadata": {},
   "source": [
    "### Instruments"
   ]
  },
  {
   "cell_type": "markdown",
   "metadata": {},
   "source": [
    "![qcodes-logo](https://qcodes.github.io/Qcodes/_images/qcodes_logo.png)"
   ]
  },
  {
   "cell_type": "markdown",
   "metadata": {},
   "source": [
    "\t• Instruments - just a bucket of parameters and hardware interaction\n",
    "\t\t○ Base vs not Base\n",
    "\t\t○ write/ask methods\n",
    "\t\t○ Visa vs DLL vs ???\n",
    "\t\t○ Registry of instrument instances - how does it work and how to see which instances exists etc.\n",
    "\t\t○ Submodules, Channels, channel lists\n",
    "\t\t○ Logging - logger instance on each instance\n",
    "\t\t○ DelegateAttributes\n",
    "\t\t○ Writing drivers notebook - skip\n"
   ]
  },
  {
   "cell_type": "markdown",
   "metadata": {},
   "source": [
    "### Parameters"
   ]
  },
  {
   "cell_type": "markdown",
   "metadata": {},
   "source": [
    "![qcodes-logo](https://qcodes.github.io/Qcodes/_images/qcodes_logo.png)"
   ]
  },
  {
   "cell_type": "markdown",
   "metadata": {},
   "source": [
    "\t• Parameters\n",
    "\t\t○ What they are - two purposes\n",
    "\t\t○ Name/label/unit/docstring - metadata\n",
    "\t\t○ Set/get\n",
    "\t\t\t§ _raw\n",
    "\t\t\t§ command\n",
    "\t\t○ instrument's add_parameter         \n",
    "\t\t○ Set_to\n",
    "\t\t○ Cache and get_latest\n",
    "\t\t○ Value/raw_value\n",
    "\t\t\t§ Parsers\n",
    "\t\t\t§ Val_mapping\n",
    "\t\t\t§ Validators\n",
    "\t\t○ Snapshot - it's nontriviallity and flags\n",
    "\t\t○ More specific parameters:\n",
    "\t\t\t§ Delegate parameter\n",
    "\t\t\t§ Array + setpoints\n",
    "\t\t\t§ Multiparameter\n",
    "\t\t\t§ Group parameter\n",
    "\t\t\t§ How to subclass in general"
   ]
  },
  {
   "cell_type": "markdown",
   "metadata": {},
   "source": [
    "### Snapshot"
   ]
  },
  {
   "cell_type": "markdown",
   "metadata": {},
   "source": [
    "Snapshot is a \"photograph\" of a state of a measurement setup or its piece, be it ``Station``, ``Instrument``, ``Parameter``, or other components.\n",
    "\n",
    "Snapshot is **not** maintained in memory. Instead, each snapshot-able component can always return/produce its snapshot."
   ]
  },
  {
   "cell_type": "markdown",
   "metadata": {},
   "source": [
    "#### Subclass ``Metadatable``"
   ]
  },
  {
   "cell_type": "markdown",
   "metadata": {},
   "source": [
    "Snapshot-able objects should inherit from ``qcodes.utils.metadata.Metadatable`` and should override ``snapshot_base`` method to return a dictionary representing the state of the object. Then, calling ``snapshot()`` method will return the snapshot of the object."
   ]
  },
  {
   "cell_type": "code",
   "execution_count": 4,
   "metadata": {},
   "outputs": [
    {
     "name": "stdout",
     "output_type": "stream",
     "text": [
      "{'status': 'busy'}\n"
     ]
    }
   ],
   "source": [
    "from qcodes.utils.metadata import Metadatable\n",
    "\n",
    "\n",
    "class TeamsStatus(Metadatable):\n",
    "    def __init__(self, name: str, status: str, metadata=None):\n",
    "        super().__init__(metadata=metadata)\n",
    "        self.name = name\n",
    "        self.status = status\n",
    "\n",
    "    def snapshot_base(\n",
    "            self, update: bool = False,\n",
    "            params_to_skip_update: Optional[Sequence[str]] = None) -> Dict:\n",
    "        return {'status': self.status}\n",
    "\n",
    "\n",
    "teams_status = TeamsStatus('Fridge25 status', 'busy')\n",
    "\n",
    "pprint(teams_status.snapshot())"
   ]
  },
  {
   "cell_type": "markdown",
   "metadata": {},
   "source": [
    "####  ``metadata`` argument"
   ]
  },
  {
   "cell_type": "markdown",
   "metadata": {},
   "source": [
    "Note that ``Metadatable`` also implements ``metadata`` keyword argument - ``metadata`` is expected to be a dictionary, and it will be included in the snapshot automatically (if it is not ``{}``)."
   ]
  },
  {
   "cell_type": "code",
   "execution_count": 5,
   "metadata": {},
   "outputs": [],
   "source": [
    "favorites = Metadatable(metadata={'number': 6 + 9j})\n",
    "favorites.load_metadata({'fruit': 'manadrine'})  # ``dict.update`` behavior"
   ]
  },
  {
   "cell_type": "code",
   "execution_count": 6,
   "metadata": {},
   "outputs": [
    {
     "name": "stdout",
     "output_type": "stream",
     "text": [
      "{'metadata': {'fruit': 'manadrine', 'number': (6+9j)}}\n"
     ]
    }
   ],
   "source": [
    "pprint(favorites.snapshot())"
   ]
  },
  {
   "cell_type": "markdown",
   "metadata": {},
   "source": [
    "#### Add  ``Metadatable`` to station"
   ]
  },
  {
   "cell_type": "markdown",
   "metadata": {},
   "source": [
    "``Metadatable`` objects can be added to the ``Station``, other objects - should not (otherwise ``snapshot()`` will raise)."
   ]
  },
  {
   "cell_type": "code",
   "execution_count": 7,
   "metadata": {},
   "outputs": [
    {
     "data": {
      "text/plain": [
       "'component1'"
      ]
     },
     "execution_count": 7,
     "metadata": {},
     "output_type": "execute_result"
    }
   ],
   "source": [
    "station = Station(teams_status)\n",
    "station.add_component(favorites)"
   ]
  },
  {
   "cell_type": "code",
   "execution_count": 8,
   "metadata": {},
   "outputs": [
    {
     "name": "stdout",
     "output_type": "stream",
     "text": [
      "{'components': {'Fridge25 status': {'status': 'busy'},\n",
      "                'component1': {'metadata': {'fruit': 'manadrine',\n",
      "                                            'number': (6+9j)}}},\n",
      " 'config': None,\n",
      " 'default_measurement': [],\n",
      " 'instruments': {},\n",
      " 'parameters': {}}\n"
     ]
    }
   ],
   "source": [
    "pprint(station.snapshot())"
   ]
  },
  {
   "cell_type": "markdown",
   "metadata": {},
   "source": [
    "#### Create ``JSON`` snapshot"
   ]
  },
  {
   "cell_type": "markdown",
   "metadata": {},
   "source": [
    "Although snapshot is a python dictionary, it is always meant to be converted to JSON and stored next to the measured data. QCoDeS maintains it's own JSON converter class, ``qcodes.utils.helpers.NumpyJSONEncoder``, to support conversion of objects that are frequently met in measurement world, such as ``numpy`` arrays, complex numbers, pickle-ables."
   ]
  },
  {
   "cell_type": "code",
   "execution_count": 9,
   "metadata": {},
   "outputs": [],
   "source": [
    "from qcodes.utils.helpers import NumpyJSONEncoder\n",
    "import json\n",
    "\n",
    "json_snapshot = json.dumps(\n",
    "    station.snapshot(), cls=NumpyJSONEncoder,\n",
    "    indent=2, sort_keys=True  # for pretty-printing\n",
    ")"
   ]
  },
  {
   "cell_type": "code",
   "execution_count": 10,
   "metadata": {},
   "outputs": [
    {
     "name": "stdout",
     "output_type": "stream",
     "text": [
      "{\n",
      "  \"components\": {\n",
      "    \"Fridge25 status\": {\n",
      "      \"status\": \"busy\"\n",
      "    },\n",
      "    \"component1\": {\n",
      "      \"metadata\": {\n",
      "        \"fruit\": \"manadrine\",\n",
      "        \"number\": {\n",
      "          \"__dtype__\": \"complex\",\n",
      "          \"im\": 9.0,\n",
      "          \"re\": 6.0\n",
      "        }\n",
      "      }\n",
      "    }\n",
      "  },\n",
      "  \"config\": null,\n",
      "  \"default_measurement\": [],\n",
      "  \"instruments\": {},\n",
      "  \"parameters\": {}\n",
      "}\n"
     ]
    }
   ],
   "source": [
    "print(json_snapshot)"
   ]
  },
  {
   "cell_type": "markdown",
   "metadata": {},
   "source": [
    "#### ``update`` arguments"
   ]
  },
  {
   "cell_type": "markdown",
   "metadata": {},
   "source": [
    "Note that ``snapshot`` has an ``update`` kwarg, and ``snapshot_base`` has ``update`` and ``params_to_skip_update`` kwargs - those allow to optimize querying the state of a ``Metadatable`` object."
   ]
  },
  {
   "cell_type": "markdown",
   "metadata": {},
   "source": [
    "![qcodes-logo](https://qcodes.github.io/Qcodes/_images/qcodes_logo.png)"
   ]
  },
  {
   "cell_type": "markdown",
   "metadata": {},
   "source": [
    "## BREAK [5min]"
   ]
  },
  {
   "cell_type": "markdown",
   "metadata": {},
   "source": [
    "## I wanna STORE [30min]\n",
    "\n",
    "How and where do I store what I measured? And access back? Database, experiments, datasets, parameters?\n",
    "\n",
    "- Quickly DB structure, paramtypes, data saving approach\n",
    "- mention DataSet is too close to sqlite\n",
    "- dig deeper into how Measurement/DataSet are designed"
   ]
  },
  {
   "cell_type": "markdown",
   "metadata": {},
   "source": [
    "![qcodes-logo](https://qcodes.github.io/Qcodes/_images/qcodes_logo.png)"
   ]
  },
  {
   "cell_type": "markdown",
   "metadata": {},
   "source": [
    "\n",
    "\t• How people measure - interactively!\n",
    "\t\t○ Why loop and not loop anymore\n",
    "\t\t○ Measurement as general thing and create-your-own-measurement-function\n",
    "\t\t○ Dond, pysweep, etc.\n",
    "\t• Measurement -> DataSet\n",
    "\t\t○ ASSUME THAT 'how to use them' IS KNOWN\n",
    "\t\t○ Name, experiment, station\n",
    "\t\t○ Parameters\n",
    "\t\t\t§ Register_* - as interface between qcodes parameters and dataset parameters\n",
    "\t\t\t§ Rundescription/interdeps/paramspecbase\n",
    "\t\t\t§ paramtype\n",
    "\t\t○ Before and after actions :)\n",
    "\t\t○ .run() -> Runner -> DataSaver - what is their role?\n",
    "\t\t\t§ Runner\n",
    "\t\t\t§ DataSaver\n",
    "\t\t\t\t□ Add_results\n",
    "\t\t\t\t\t® Validation that happens\n",
    "\t\t\t\t□ Dataset/run_id\n",
    "\t\t○ Sqlite data saving optimizations\n",
    "\t\t\t§ Paramtype \"array\"\n",
    "\t\t\t§ wrtie_period\n",
    "\t\t\t§ write_in_background\n",
    "\t\t○ Subscribers - bonus topic\n",
    "\t• Database stuff\n",
    "\t\t○ Runs table as log of performed measurements\n",
    "\t\t○ Experiment as a bucket of datasets but not used as such really\n",
    "\t\t\t§ Ideas for \"active experiment, etc\"\n",
    "\t\t○ Data storage\n",
    "\t\t\t§ As a message queue/log - needs reconstruction\n",
    "\t\t\t§ in the same DB\n",
    "\t\t○ Sqlite database, schema, versions\n",
    "\t\t\t§ Connect - users might forget to close, etc\n",
    "\t\t○ Sqlite module overview\n",
    "\t• DataSet walkthrough\n",
    "\t\t○ Identity, also timestamps and state\n",
    "\t\t○ parameters\n",
    "\t\t○ Getting data\n",
    "\t\t○ Metadata feature\n"
   ]
  },
  {
   "cell_type": "markdown",
   "metadata": {},
   "source": [
    "## BREAK [5min]"
   ]
  },
  {
   "cell_type": "markdown",
   "metadata": {},
   "source": [
    "## I want MORE [5min]\n",
    "\n",
    "What else does QCoDeS provide out of the box?\n",
    "\n",
    "- q/a, other qcodes topics for self-exploration"
   ]
  },
  {
   "cell_type": "markdown",
   "metadata": {},
   "source": [
    "![qcodes-logo](https://qcodes.github.io/Qcodes/_images/qcodes_logo.png)"
   ]
  },
  {
   "cell_type": "markdown",
   "metadata": {},
   "source": [
    "- contrib-drivers\n",
    "- Config\n",
    "- DelegateAttributes\n",
    "- Plotting support\n",
    "- Instrument's functions\n",
    "- Deprecation\n",
    "- Linking datasets\n",
    "- Extracting runs/datasets from db to another\n",
    "- Monitor\n",
    "- Interactive widget\n",
    "- Legacy, loop-entangled, features"
   ]
  },
  {
   "cell_type": "markdown",
   "metadata": {},
   "source": [
    "## Presenter-only section\n",
    "\n",
    "Some info, notes, and scratch-space for presenter.\n",
    "\n",
    "qcodes logo means that the section(s) under it's level is(are) not ready."
   ]
  },
  {
   "cell_type": "code",
   "execution_count": null,
   "metadata": {},
   "outputs": [],
   "source": []
  }
 ],
 "metadata": {
  "kernelspec": {
   "display_name": "Python 3",
   "language": "python",
   "name": "python3"
  },
  "language_info": {
   "codemirror_mode": {
    "name": "ipython",
    "version": 3
   },
   "file_extension": ".py",
   "mimetype": "text/x-python",
   "name": "python",
   "nbconvert_exporter": "python",
   "pygments_lexer": "ipython3",
   "version": "3.7.4"
  },
  "toc": {
   "base_numbering": 1,
   "nav_menu": {},
   "number_sections": true,
   "sideBar": true,
   "skip_h1_title": false,
   "title_cell": "Table of Contents",
   "title_sidebar": "Contents",
   "toc_cell": false,
   "toc_position": {
    "height": "calc(100% - 180px)",
    "left": "10px",
    "top": "150px",
    "width": "256.686px"
   },
   "toc_section_display": true,
   "toc_window_display": true
  }
 },
 "nbformat": 4,
 "nbformat_minor": 2
}
