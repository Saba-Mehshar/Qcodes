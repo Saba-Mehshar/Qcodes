{
 "cells": [
  {
   "cell_type": "markdown",
   "metadata": {},
   "source": [
    "## QCoDeS Training for Developers\n",
    "\n",
    "Welcome to the training about QCoDeS targeted for developers. After this training, developers should have more knowledge about QCoDeS which will bring them confidence with contributing to it."
   ]
  },
  {
   "cell_type": "markdown",
   "metadata": {
    "heading_collapsed": true
   },
   "source": [
    "#### Approach:"
   ]
  },
  {
   "cell_type": "markdown",
   "metadata": {
    "hidden": true
   },
   "source": [
    "- Minimal relevant background, close to 0\n",
    "- Refresh of user-side view\n",
    "- From idea to implementation, get close to code"
   ]
  },
  {
   "cell_type": "markdown",
   "metadata": {
    "heading_collapsed": true
   },
   "source": [
    "#### Execution plan for presenter:"
   ]
  },
  {
   "cell_type": "markdown",
   "metadata": {
    "hidden": true
   },
   "source": [
    "- Before:\n",
    "  - Read docs (40mins in total):\n",
    "    - 15 minutes\n",
    "    - parameter api - also with setpoints\n",
    "    - context manager - general, paramtypes\n",
    "    - dataset notebooks - walkthorugh, data access\n",
    "  - Run the notebook that I will show and have it at hand\n",
    "  - Have qcodes code at hand\n",
    "- During:\n",
    "  - Go through notebook in 3 parts, 30 mins each, 5 min breaks, 5 min reserve beginning, 10 min reserve at the end\n",
    "  - Have a time keeper\n",
    "  - Let ask questions at specific moments but very frequently\n",
    "- After:\n",
    "  - Port notebook to qcodes docs ASAP\n",
    "  - Sessions on some parts if requested"
   ]
  },
  {
   "cell_type": "markdown",
   "metadata": {},
   "source": [
    "## QCoDeS? ah? [10min]\n",
    "\n",
    "What is it? What are it's goals, and users? And why?"
   ]
  },
  {
   "cell_type": "markdown",
   "metadata": {},
   "source": [
    "- Modular data acquisition framework\n",
    "- Goals - from docs\n",
    "  - Users - were academics and students, now becoming also devs and more\n",
    "- Dev principles\n",
    "  - Backwards compatibility - don't break users!\n",
    "  - Robust code - as opposed to what users are used to\n",
    "  - Careful scoping of a problem\n",
    "  - Modularity - extend-existing, not go-off-and-write-your-own\n",
    "  - User facing API - list in docs, devs can use everything as appropriate\n",
    "  - Scope - open source, worldwide, mostly driven thou by MS needs"
   ]
  },
  {
   "cell_type": "markdown",
   "metadata": {},
   "source": [
    "## I wanna MEASURE [30min]\n",
    "\n",
    "How do I measure things? How are measurements enabled via QCoDeS? Station, isntruments, parameters?\n",
    "\n",
    "- Quickly about general stuff\n",
    "- Deeper into parameters"
   ]
  },
  {
   "cell_type": "markdown",
   "metadata": {},
   "source": [
    "\n",
    "\t• Station - just a bucket of insrtuments, also yaml config\n",
    "\t• Instruments - just a bucket of parameters and hardware interaction\n",
    "\t\t○ Base vs not Base\n",
    "\t\t○ write/ask methods\n",
    "\t\t○ Visa vs DLL vs ???\n",
    "\t\t○ Registry of instrument instances - how does it work and how to see which instances exists etc.\n",
    "\t\t○ Submodules, Channels, channel lists\n",
    "\t\t○ Logging - logger instance on each instance\n",
    "\t\t○ Writing drivers notebook - skip\n",
    "\t• Parameters\n",
    "\t\t○ What they are - two purposes\n",
    "\t\t○ Name/label/unit/docstring - metadata\n",
    "\t\t○ Set/get\n",
    "\t\t\t§ _raw\n",
    "\t\t\t§ command\n",
    "\t\t○ Set_to\n",
    "\t\t○ Cache and get_latest\n",
    "\t\t○ Value/raw_value\n",
    "\t\t\t§ Parsers\n",
    "\t\t\t§ Val_mapping\n",
    "\t\t\t§ Validators\n",
    "\t\t○ Snapshot - it's nontriviallity and flags\n",
    "\t\t○ More specific parameters:\n",
    "\t\t\t§ Delegate parameter\n",
    "\t\t\t§ Array + setpoints\n",
    "\t\t\t§ Multiparameter\n",
    "\t\t\t§ Group parameter\n",
    "\t\t\t§ How to subclass in general\n",
    "\t• Snapshot - metadatable, snapshot/snapshot_base, etc"
   ]
  },
  {
   "cell_type": "markdown",
   "metadata": {},
   "source": [
    "## BREAK [5min]"
   ]
  },
  {
   "cell_type": "markdown",
   "metadata": {},
   "source": [
    "## I wanna STORE [30min]\n",
    "\n",
    "How and where do I store what I measured? And access back? Database, experiments, datasets, parameters?\n",
    "\n",
    "- Deeper in data saving approach\n",
    "- Quickly DB structure, paramtypes\n",
    "- mention DataSet is too close to sqlite"
   ]
  },
  {
   "cell_type": "markdown",
   "metadata": {},
   "source": [
    "\n",
    "\t• How people measure - interactively!\n",
    "\t\t○ Why loop and not loop anymore\n",
    "\t\t○ Measurement as general thing and create-your-own-measurement-function\n",
    "\t\t○ Dond, pysweep, etc.\n",
    "\t• Measurement -> DataSet\n",
    "\t\t○ Name, experiment, station\n",
    "\t\t○ Parameters\n",
    "\t\t\t§ Register_* - as interface between qcodes parameters and dataset parameters\n",
    "\t\t\t§ Rundescription/interdeps/paramspecbase\n",
    "\t\t\t§ paramtype\n",
    "\t\t○ Before and after actions :)\n",
    "\t\t○ .run() -> Runner -> DataSaver - what is their role?\n",
    "\t\t\t§ Runner\n",
    "\t\t\t§ DataSaver\n",
    "\t\t\t\t□ Add_results\n",
    "\t\t\t\t\t® Validation that happens\n",
    "\t\t\t\t□ Dataset/run_id\n",
    "\t\t○ Sqlite data saving optimizations\n",
    "\t\t\t§ Paramtype \"array\"\n",
    "\t\t\t§ wrtie_period\n",
    "\t\t\t§ write_in_background\n",
    "\t\t○ Subscribers - bonus topic\n",
    "\t• Database stuff\n",
    "\t\t○ Runs table as log of performed measurements\n",
    "\t\t○ Experiment as a bucket of datasets but not used as such really\n",
    "\t\t\t§ Ideas for \"active experiment, etc\"\n",
    "\t\t○ Data storage\n",
    "\t\t\t§ As a message queue/log - needs reconstruction\n",
    "\t\t\t§ in the same DB\n",
    "\t\t○ Sqlite database, schema, versions\n",
    "\t\t\t§ Connect - users might forget to close, etc\n",
    "\t\t○ Sqlite module overview\n",
    "\t• DataSet walkthrough\n",
    "\t\t○ Identity, also timestamps and state\n",
    "\t\t○ parameters\n",
    "\t\t○ Getting data\n",
    "\t\t○ Metadata feature\n"
   ]
  },
  {
   "cell_type": "markdown",
   "metadata": {},
   "source": [
    "## BREAK [5min]"
   ]
  },
  {
   "cell_type": "markdown",
   "metadata": {},
   "source": [
    "## I want MORE [5min]\n",
    "\n",
    "What else does QCoDeS provide out of the box?\n",
    "\n",
    "- q/a, other qcodes topics for self-exploration"
   ]
  },
  {
   "cell_type": "markdown",
   "metadata": {},
   "source": [
    "- contrib-drivers\n",
    "- Config\n",
    "- Plotting support\n",
    "- Deprecation\n",
    "- Monitor\n",
    "- Interactive widget\n",
    "- Legacy, loop-entangled, features"
   ]
  },
  {
   "cell_type": "markdown",
   "metadata": {},
   "source": [
    "## Presenter-only section\n",
    "\n",
    "Some info, notes, and scratch-space for presenter."
   ]
  }
 ],
 "metadata": {
  "kernelspec": {
   "display_name": "Python 3",
   "language": "python",
   "name": "python3"
  },
  "language_info": {
   "codemirror_mode": {
    "name": "ipython",
    "version": 3
   },
   "file_extension": ".py",
   "mimetype": "text/x-python",
   "name": "python",
   "nbconvert_exporter": "python",
   "pygments_lexer": "ipython3",
   "version": "3.7.4"
  },
  "toc": {
   "base_numbering": 1,
   "nav_menu": {},
   "number_sections": true,
   "sideBar": true,
   "skip_h1_title": false,
   "title_cell": "Table of Contents",
   "title_sidebar": "Contents",
   "toc_cell": false,
   "toc_position": {
    "height": "calc(100% - 180px)",
    "left": "10px",
    "top": "150px",
    "width": "248.116px"
   },
   "toc_section_display": true,
   "toc_window_display": true
  }
 },
 "nbformat": 4,
 "nbformat_minor": 2
}
