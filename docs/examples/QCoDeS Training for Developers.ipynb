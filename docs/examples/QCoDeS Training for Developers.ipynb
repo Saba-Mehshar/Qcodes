{
 "cells": [
  {
   "cell_type": "markdown",
   "metadata": {},
   "source": [
    "## QCoDeS Training for Developers\n",
    "\n",
    "Welcome to the training about QCoDeS targeted for developers. After this training, developers should have more knowledge about QCoDeS which will bring them confidence with contributing to it."
   ]
  },
  {
   "cell_type": "markdown",
   "metadata": {},
   "source": [
    "### Approach"
   ]
  },
  {
   "cell_type": "markdown",
   "metadata": {},
   "source": [
    "- Don't bring too much relevant background, only small absolutely necessary portions\n",
    "- Provide refresh of user-side view on QCoDeS\n",
    "- Describe features/concepts from ideas, but get close to code very quickly"
   ]
  },
  {
   "cell_type": "markdown",
   "metadata": {},
   "source": [
    "### Execution plan for presenter"
   ]
  },
  {
   "cell_type": "markdown",
   "metadata": {},
   "source": [
    "- Before:\n",
    "  - Have qcodes code at hand in your IDE https://github.com/qcodes/qcodes\n",
    "  - Run the training Jupyter notebook, and have it at hand https://github.com/astafan8/Qcodes/blob/training-for-devs/docs/examples/QCoDeS%20Training%20for%20Developers.ipynb\n",
    "  - Familiarize yourself with the following info from the docs:\n",
    "    - Front page https://qcodes.github.io/Qcodes/index.html\n",
    "    - 15 minutes of QCoDeS https://qcodes.github.io/Qcodes/examples/15_minutes_to_QCoDeS.html\n",
    "    - `Parameter`s\n",
    "      - overview1 https://qcodes.github.io/Qcodes/examples/Parameters/Parameters.html\n",
    "      - overview2 https://qcodes.github.io/Qcodes/examples/writing_drivers/Creating-Instrument-Drivers.html#What%E2%80%99s-a-Parameter? - only this section\n",
    "      - API docs https://qcodes.github.io/Qcodes/api/parameters/parameter.html#module-qcodes.instrument.parameter\n",
    "      - `ParameterWithSetpoints` https://qcodes.github.io/Qcodes/examples/Parameters/Simple-Example-of-ParameterWithSetpoints.html\n",
    "    - Performing measurements https://qcodes.github.io/Qcodes/examples/DataSet/Performing-measurements-using-qcodes-parameters-and-dataset.html\n",
    "    - dataset notebooks\n",
    "      - the class https://qcodes.github.io/Qcodes/examples/DataSet/DataSet-class-walkthrough.html\n",
    "      - data access https://qcodes.github.io/Qcodes/examples/DataSet/Accessing-data-in-DataSet.html\n",
    "- During:\n",
    "  - Go through notebook in 3 parts, have 5 min breaks, 5 min reserve beginning, 10 min reserve at the end\n",
    "  - Have a time keeper\n",
    "  - Let ask questions at specific moments but very frequently to feel interactive\n",
    "- After:\n",
    "  - Port notebook to qcodes docs ASAP\n",
    "  - Sessions on some parts if requested"
   ]
  },
  {
   "cell_type": "markdown",
   "metadata": {},
   "source": [
    "## QCoDeS? ah? [10min]\n",
    "\n",
    "What is it? What are it's goals, and users? And why?"
   ]
  },
  {
   "cell_type": "markdown",
   "metadata": {},
   "source": [
    "### \"The It\""
   ]
  },
  {
   "cell_type": "markdown",
   "metadata": {},
   "source": [
    "**Q.**uantum **Co**penhagen **De**lft **S**ydney:\n",
    "\n",
    "- data acquisition framework\n",
    "- modular\n",
    "- python-based\n",
    "- open-source"
   ]
  },
  {
   "cell_type": "markdown",
   "metadata": {},
   "source": [
    "### Goal"
   ]
  },
  {
   "cell_type": "markdown",
   "metadata": {},
   "source": [
    "**Common** framework for physics experiments:\n",
    "\n",
    "- users need to write only their-own-experiment-specific code\n",
    "- physics experiments can take advantage of modern software and best practices\n",
    "- code can and should be contributed back to the framework\n",
    "- the process of moving between teams or labs, and of setting up a new experiment is streamlined\n",
    "- new students don’t need to spend a long time learning software in order to participate in experiments"
   ]
  },
  {
   "cell_type": "markdown",
   "metadata": {},
   "source": [
    "### Users"
   ]
  },
  {
   "cell_type": "markdown",
   "metadata": {},
   "source": [
    "- people doing measurements:\n",
    "  - academics: e.g. scientists and students\n",
    "  - corporates: e.g. experimentalists, engineers, hardware manufacturers\n",
    "- worldwide"
   ]
  },
  {
   "cell_type": "markdown",
   "metadata": {},
   "source": [
    "### Driven by"
   ]
  },
  {
   "cell_type": "markdown",
   "metadata": {},
   "source": [
    "- Microsoft, largely\n",
    "- worldwide comminity, growing"
   ]
  },
  {
   "cell_type": "markdown",
   "metadata": {},
   "source": [
    "### Development principles"
   ]
  },
  {
   "cell_type": "markdown",
   "metadata": {},
   "source": [
    "- Robust code - as opposed to what users are used to from other measurement frameworks\n",
    "- Respect backwards compatibility - don't break user's code that \"works\"!\n",
    "- Modularity - extend-existing, not go-off-and-write-your-own\n",
    "- User facing API - list in docs, devs can use everything as appropriate\n",
    "- Carefully scoping problems"
   ]
  },
  {
   "cell_type": "markdown",
   "metadata": {},
   "source": [
    "## I wanna MEASURE [30min]\n",
    "\n",
    "How do I measure things? How are measurements enabled via QCoDeS? Station, isntruments, parameters?\n",
    "\n",
    "- Quickly about general stuff\n",
    "- Deeper into parameters"
   ]
  },
  {
   "cell_type": "markdown",
   "metadata": {},
   "source": [
    "\n",
    "\t• Station - just a bucket of insrtuments, also yaml config\n",
    "\t• Instruments - just a bucket of parameters and hardware interaction\n",
    "\t\t○ Base vs not Base\n",
    "\t\t○ write/ask methods\n",
    "\t\t○ Visa vs DLL vs ???\n",
    "\t\t○ Registry of instrument instances - how does it work and how to see which instances exists etc.\n",
    "\t\t○ Submodules, Channels, channel lists\n",
    "\t\t○ Logging - logger instance on each instance\n",
    "\t\t○ Writing drivers notebook - skip\n",
    "\t• Parameters\n",
    "\t\t○ What they are - two purposes\n",
    "\t\t○ Name/label/unit/docstring - metadata\n",
    "\t\t○ Set/get\n",
    "\t\t\t§ _raw\n",
    "\t\t\t§ command\n",
    "\t\t○ Set_to\n",
    "\t\t○ Cache and get_latest\n",
    "\t\t○ Value/raw_value\n",
    "\t\t\t§ Parsers\n",
    "\t\t\t§ Val_mapping\n",
    "\t\t\t§ Validators\n",
    "\t\t○ Snapshot - it's nontriviallity and flags\n",
    "\t\t○ More specific parameters:\n",
    "\t\t\t§ Delegate parameter\n",
    "\t\t\t§ Array + setpoints\n",
    "\t\t\t§ Multiparameter\n",
    "\t\t\t§ Group parameter\n",
    "\t\t\t§ How to subclass in general\n",
    "\t• Snapshot - metadatable, snapshot/snapshot_base, etc"
   ]
  },
  {
   "cell_type": "markdown",
   "metadata": {},
   "source": [
    "## BREAK [5min]"
   ]
  },
  {
   "cell_type": "markdown",
   "metadata": {},
   "source": [
    "## I wanna STORE [30min]\n",
    "\n",
    "How and where do I store what I measured? And access back? Database, experiments, datasets, parameters?\n",
    "\n",
    "- Deeper in data saving approach\n",
    "- Quickly DB structure, paramtypes\n",
    "- mention DataSet is too close to sqlite"
   ]
  },
  {
   "cell_type": "markdown",
   "metadata": {},
   "source": [
    "\n",
    "\t• How people measure - interactively!\n",
    "\t\t○ Why loop and not loop anymore\n",
    "\t\t○ Measurement as general thing and create-your-own-measurement-function\n",
    "\t\t○ Dond, pysweep, etc.\n",
    "\t• Measurement -> DataSet\n",
    "\t\t○ Name, experiment, station\n",
    "\t\t○ Parameters\n",
    "\t\t\t§ Register_* - as interface between qcodes parameters and dataset parameters\n",
    "\t\t\t§ Rundescription/interdeps/paramspecbase\n",
    "\t\t\t§ paramtype\n",
    "\t\t○ Before and after actions :)\n",
    "\t\t○ .run() -> Runner -> DataSaver - what is their role?\n",
    "\t\t\t§ Runner\n",
    "\t\t\t§ DataSaver\n",
    "\t\t\t\t□ Add_results\n",
    "\t\t\t\t\t® Validation that happens\n",
    "\t\t\t\t□ Dataset/run_id\n",
    "\t\t○ Sqlite data saving optimizations\n",
    "\t\t\t§ Paramtype \"array\"\n",
    "\t\t\t§ wrtie_period\n",
    "\t\t\t§ write_in_background\n",
    "\t\t○ Subscribers - bonus topic\n",
    "\t• Database stuff\n",
    "\t\t○ Runs table as log of performed measurements\n",
    "\t\t○ Experiment as a bucket of datasets but not used as such really\n",
    "\t\t\t§ Ideas for \"active experiment, etc\"\n",
    "\t\t○ Data storage\n",
    "\t\t\t§ As a message queue/log - needs reconstruction\n",
    "\t\t\t§ in the same DB\n",
    "\t\t○ Sqlite database, schema, versions\n",
    "\t\t\t§ Connect - users might forget to close, etc\n",
    "\t\t○ Sqlite module overview\n",
    "\t• DataSet walkthrough\n",
    "\t\t○ Identity, also timestamps and state\n",
    "\t\t○ parameters\n",
    "\t\t○ Getting data\n",
    "\t\t○ Metadata feature\n"
   ]
  },
  {
   "cell_type": "markdown",
   "metadata": {},
   "source": [
    "## BREAK [5min]"
   ]
  },
  {
   "cell_type": "markdown",
   "metadata": {},
   "source": [
    "## I want MORE [5min]\n",
    "\n",
    "What else does QCoDeS provide out of the box?\n",
    "\n",
    "- q/a, other qcodes topics for self-exploration"
   ]
  },
  {
   "cell_type": "markdown",
   "metadata": {},
   "source": [
    "- contrib-drivers\n",
    "- Config\n",
    "- Plotting support\n",
    "- Deprecation\n",
    "- Linking datasets\n",
    "- Extracting runs/datasets from db to another\n",
    "- Monitor\n",
    "- Interactive widget\n",
    "- Legacy, loop-entangled, features"
   ]
  },
  {
   "cell_type": "markdown",
   "metadata": {},
   "source": [
    "## Presenter-only section\n",
    "\n",
    "Some info, notes, and scratch-space for presenter."
   ]
  },
  {
   "cell_type": "code",
   "execution_count": null,
   "metadata": {},
   "outputs": [],
   "source": []
  }
 ],
 "metadata": {
  "kernelspec": {
   "display_name": "Python 3",
   "language": "python",
   "name": "python3"
  },
  "language_info": {
   "codemirror_mode": {
    "name": "ipython",
    "version": 3
   },
   "file_extension": ".py",
   "mimetype": "text/x-python",
   "name": "python",
   "nbconvert_exporter": "python",
   "pygments_lexer": "ipython3",
   "version": "3.7.4"
  },
  "toc": {
   "base_numbering": 1,
   "nav_menu": {},
   "number_sections": true,
   "sideBar": true,
   "skip_h1_title": false,
   "title_cell": "Table of Contents",
   "title_sidebar": "Contents",
   "toc_cell": false,
   "toc_position": {
    "height": "calc(100% - 180px)",
    "left": "10px",
    "top": "150px",
    "width": "248.116px"
   },
   "toc_section_display": true,
   "toc_window_display": true
  }
 },
 "nbformat": 4,
 "nbformat_minor": 2
}
